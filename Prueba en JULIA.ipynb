{
 "cells": [
  {
   "cell_type": "code",
   "execution_count": 6,
   "id": "8c91cd57",
   "metadata": {},
   "outputs": [
    {
     "name": "stdout",
     "output_type": "stream",
     "text": [
      "Hola,dame un numero\n",
      "stdin> 5\n",
      "Dame tu segundo numero\n",
      "stdin> 8\n",
      "El resultado es: 13"
     ]
    }
   ],
   "source": [
    "println(\"Hola,dame un numero\")\n",
    "numero1 = parse(Int,readline())\n",
    "println(\"Dame tu segundo numero\")\n",
    "numero2 =parse(Int,readline())\n",
    "resultado = numero1+numero2\n",
    "print(\"El resultado es: $resultado\")"
   ]
  },
  {
   "cell_type": "code",
   "execution_count": 7,
   "id": "f815bf59",
   "metadata": {},
   "outputs": [
    {
     "data": {
      "text/plain": [
       "1.0:0.1:2.0"
      ]
     },
     "execution_count": 7,
     "metadata": {},
     "output_type": "execute_result"
    }
   ],
   "source": [
    "1:0.1:2"
   ]
  },
  {
   "cell_type": "code",
   "execution_count": 8,
   "id": "0a3c48d3",
   "metadata": {},
   "outputs": [
    {
     "ename": "LoadError",
     "evalue": "MethodError: no method matching getindex(::typeof(string), ::Vector{Int64})",
     "output_type": "error",
     "traceback": [
      "MethodError: no method matching getindex(::typeof(string), ::Vector{Int64})",
      "",
      "Stacktrace:",
      " [1] top-level scope",
      "   @ In[8]:1",
      " [2] eval",
      "   @ .\\boot.jl:360 [inlined]",
      " [3] include_string(mapexpr::typeof(REPL.softscope), mod::Module, code::String, filename::String)",
      "   @ Base .\\loading.jl:1116"
     ]
    }
   ],
   "source": [
    "string[[1,3,6,8]]"
   ]
  },
  {
   "cell_type": "code",
   "execution_count": 9,
   "id": "74d2b601",
   "metadata": {},
   "outputs": [
    {
     "data": {
      "text/plain": [
       "false"
      ]
     },
     "execution_count": 9,
     "metadata": {},
     "output_type": "execute_result"
    }
   ],
   "source": [
    "\"a\"=='a'"
   ]
  },
  {
   "cell_type": "code",
   "execution_count": 10,
   "id": "e6acaff2",
   "metadata": {},
   "outputs": [
    {
     "ename": "LoadError",
     "evalue": "UndefVarError: H₂ not defined",
     "output_type": "error",
     "traceback": [
      "UndefVarError: H₂ not defined",
      "",
      "Stacktrace:",
      " [1] top-level scope",
      "   @ :0",
      " [2] eval",
      "   @ .\\boot.jl:360 [inlined]",
      " [3] include_string(mapexpr::typeof(REPL.softscope), mod::Module, code::String, filename::String)",
      "   @ Base .\\loading.jl:1116"
     ]
    }
   ],
   "source": [
    "H₂"
   ]
  },
  {
   "cell_type": "code",
   "execution_count": 11,
   "id": "143f540b",
   "metadata": {},
   "outputs": [
    {
     "data": {
      "text/plain": [
       "false"
      ]
     },
     "execution_count": 11,
     "metadata": {},
     "output_type": "execute_result"
    }
   ],
   "source": [
    "==(\"hola\",\"HOLA\")"
   ]
  },
  {
   "cell_type": "code",
   "execution_count": 13,
   "id": "e280b03f",
   "metadata": {},
   "outputs": [
    {
     "ename": "LoadError",
     "evalue": "UndefVarError: printlntype not defined",
     "output_type": "error",
     "traceback": [
      "UndefVarError: printlntype not defined",
      "",
      "Stacktrace:",
      " [1] top-level scope",
      "   @ In[13]:1",
      " [2] eval",
      "   @ .\\boot.jl:360 [inlined]",
      " [3] include_string(mapexpr::typeof(REPL.softscope), mod::Module, code::String, filename::String)",
      "   @ Base .\\loading.jl:1116"
     ]
    }
   ],
   "source": [
    "printlntype(Int)"
   ]
  },
  {
   "cell_type": "code",
   "execution_count": 14,
   "id": "53315b7e",
   "metadata": {},
   "outputs": [
    {
     "data": {
      "text/plain": [
       "false"
      ]
     },
     "execution_count": 14,
     "metadata": {},
     "output_type": "execute_result"
    }
   ],
   "source": [
    "!(5==5) #Me da lo contrario"
   ]
  },
  {
   "cell_type": "code",
   "execution_count": 15,
   "id": "2ce3ae9f",
   "metadata": {},
   "outputs": [
    {
     "data": {
      "text/plain": [
       "true"
      ]
     },
     "execution_count": 15,
     "metadata": {},
     "output_type": "execute_result"
    }
   ],
   "source": [
    "5!=6"
   ]
  },
  {
   "cell_type": "code",
   "execution_count": 16,
   "id": "aec5bb6e",
   "metadata": {},
   "outputs": [
    {
     "data": {
      "text/plain": [
       "false"
      ]
     },
     "execution_count": 16,
     "metadata": {},
     "output_type": "execute_result"
    }
   ],
   "source": [
    "5>6"
   ]
  },
  {
   "cell_type": "code",
   "execution_count": 17,
   "id": "f4e8fceb",
   "metadata": {},
   "outputs": [
    {
     "data": {
      "text/plain": [
       "true"
      ]
     },
     "execution_count": 17,
     "metadata": {},
     "output_type": "execute_result"
    }
   ],
   "source": [
    "10>8"
   ]
  },
  {
   "cell_type": "code",
   "execution_count": 18,
   "id": "ac2c13fe",
   "metadata": {},
   "outputs": [
    {
     "data": {
      "text/plain": [
       "true"
      ]
     },
     "execution_count": 18,
     "metadata": {},
     "output_type": "execute_result"
    }
   ],
   "source": [
    "1==1."
   ]
  },
  {
   "cell_type": "code",
   "execution_count": 67,
   "id": "6a2c2eb3",
   "metadata": {},
   "outputs": [
    {
     "ename": "LoadError",
     "evalue": "UndefVarError: e09 not defined",
     "output_type": "error",
     "traceback": [
      "UndefVarError: e09 not defined",
      "",
      "Stacktrace:",
      " [1] top-level scope",
      "   @ In[67]:1",
      " [2] eval",
      "   @ .\\boot.jl:360 [inlined]",
      " [3] include_string(mapexpr::typeof(REPL.softscope), mod::Module, code::String, filename::String)",
      "   @ Base .\\loading.jl:1116"
     ]
    }
   ],
   "source": [
    "0.1   ≈  0.1 + 1*e09"
   ]
  },
  {
   "cell_type": "code",
   "execution_count": 20,
   "id": "84d9daa3",
   "metadata": {},
   "outputs": [
    {
     "data": {
      "text/plain": [
       "false"
      ]
     },
     "execution_count": 20,
     "metadata": {},
     "output_type": "execute_result"
    }
   ],
   "source": [
    "5>6 && 7>8"
   ]
  },
  {
   "cell_type": "code",
   "execution_count": 21,
   "id": "ec05f32d",
   "metadata": {},
   "outputs": [
    {
     "data": {
      "text/plain": [
       "true"
      ]
     },
     "execution_count": 21,
     "metadata": {},
     "output_type": "execute_result"
    }
   ],
   "source": [
    "true || true"
   ]
  },
  {
   "cell_type": "code",
   "execution_count": 22,
   "id": "c3eddc23",
   "metadata": {},
   "outputs": [
    {
     "data": {
      "text/plain": [
       "false"
      ]
     },
     "execution_count": 22,
     "metadata": {},
     "output_type": "execute_result"
    }
   ],
   "source": [
    "false|| false"
   ]
  },
  {
   "cell_type": "code",
   "execution_count": 23,
   "id": "a283d536",
   "metadata": {},
   "outputs": [
    {
     "data": {
      "text/plain": [
       "true"
      ]
     },
     "execution_count": 23,
     "metadata": {},
     "output_type": "execute_result"
    }
   ],
   "source": [
    "false || true"
   ]
  },
  {
   "cell_type": "code",
   "execution_count": 25,
   "id": "3bbd4b09",
   "metadata": {},
   "outputs": [
    {
     "data": {
      "text/plain": [
       "3-element Vector{Int64}:\n",
       " 1\n",
       " 2\n",
       " 3"
      ]
     },
     "execution_count": 25,
     "metadata": {},
     "output_type": "execute_result"
    }
   ],
   "source": [
    "v = [1,2,3]"
   ]
  },
  {
   "cell_type": "code",
   "execution_count": 26,
   "id": "3cc0aed2",
   "metadata": {},
   "outputs": [
    {
     "data": {
      "text/plain": [
       "1"
      ]
     },
     "execution_count": 26,
     "metadata": {},
     "output_type": "execute_result"
    }
   ],
   "source": [
    "v[1]"
   ]
  },
  {
   "cell_type": "code",
   "execution_count": 27,
   "id": "b53a1801",
   "metadata": {},
   "outputs": [
    {
     "data": {
      "text/plain": [
       "3"
      ]
     },
     "execution_count": 27,
     "metadata": {},
     "output_type": "execute_result"
    }
   ],
   "source": [
    "v[3]"
   ]
  },
  {
   "cell_type": "code",
   "execution_count": 28,
   "id": "248efd98",
   "metadata": {},
   "outputs": [
    {
     "data": {
      "text/plain": [
       "3-element Vector{Int64}:\n",
       " 4\n",
       " 5\n",
       " 8"
      ]
     },
     "execution_count": 28,
     "metadata": {},
     "output_type": "execute_result"
    }
   ],
   "source": [
    "w =[4,5,8]"
   ]
  },
  {
   "cell_type": "code",
   "execution_count": 29,
   "id": "ccfd6ae4",
   "metadata": {},
   "outputs": [
    {
     "data": {
      "text/plain": [
       "4"
      ]
     },
     "execution_count": 29,
     "metadata": {},
     "output_type": "execute_result"
    }
   ],
   "source": [
    "w[1]"
   ]
  },
  {
   "cell_type": "code",
   "execution_count": 30,
   "id": "dfea7a37",
   "metadata": {},
   "outputs": [
    {
     "data": {
      "text/plain": [
       "3-element Vector{Int64}:\n",
       " 2\n",
       " 4\n",
       " 6"
      ]
     },
     "execution_count": 30,
     "metadata": {},
     "output_type": "execute_result"
    }
   ],
   "source": [
    "v*2"
   ]
  },
  {
   "cell_type": "code",
   "execution_count": 33,
   "id": "815011d9",
   "metadata": {},
   "outputs": [
    {
     "data": {
      "text/plain": [
       "3-element Vector{Int64}:\n",
       "  4\n",
       " 10\n",
       " 24"
      ]
     },
     "execution_count": 33,
     "metadata": {},
     "output_type": "execute_result"
    }
   ],
   "source": [
    "v.*w"
   ]
  },
  {
   "cell_type": "code",
   "execution_count": 36,
   "id": "ca78d27e",
   "metadata": {},
   "outputs": [
    {
     "data": {
      "text/plain": [
       "3-element Vector{Any}:\n",
       "  \"hola\"\n",
       " 1\n",
       "  [4, 2, 3]"
      ]
     },
     "execution_count": 36,
     "metadata": {},
     "output_type": "execute_result"
    }
   ],
   "source": [
    "v =[\"hola\",1,[4,2,3]]"
   ]
  },
  {
   "cell_type": "code",
   "execution_count": 40,
   "id": "4dfc5d6a",
   "metadata": {},
   "outputs": [
    {
     "data": {
      "text/plain": [
       "4"
      ]
     },
     "execution_count": 40,
     "metadata": {},
     "output_type": "execute_result"
    }
   ],
   "source": [
    "v[3][1]"
   ]
  },
  {
   "cell_type": "code",
   "execution_count": 41,
   "id": "8f288b13",
   "metadata": {},
   "outputs": [
    {
     "data": {
      "text/plain": [
       "3-element Vector{Vector{Int64}}:\n",
       " [1, 2, 3]\n",
       " [4, 5, 6]\n",
       " [7, 8, 9]"
      ]
     },
     "execution_count": 41,
     "metadata": {},
     "output_type": "execute_result"
    }
   ],
   "source": [
    "v =[[1,2,3],[4,5,6],[7,8,9]]"
   ]
  },
  {
   "cell_type": "code",
   "execution_count": 42,
   "id": "ff9b5cb8",
   "metadata": {},
   "outputs": [
    {
     "ename": "LoadError",
     "evalue": "MethodError: no method matching +(::Vector{Int64}, ::Int64)\nFor element-wise addition, use broadcasting with dot syntax: array .+ scalar\n\u001b[0mClosest candidates are:\n\u001b[0m  +(::Any, ::Any, \u001b[91m::Any\u001b[39m, \u001b[91m::Any...\u001b[39m) at operators.jl:560\n\u001b[0m  +(\u001b[91m::T\u001b[39m, ::T) where T<:Union{Int128, Int16, Int32, Int64, Int8, UInt128, UInt16, UInt32, UInt64, UInt8} at int.jl:87\n\u001b[0m  +(\u001b[91m::T\u001b[39m, ::Integer) where T<:AbstractChar at char.jl:223\n\u001b[0m  ...",
     "output_type": "error",
     "traceback": [
      "MethodError: no method matching +(::Vector{Int64}, ::Int64)\nFor element-wise addition, use broadcasting with dot syntax: array .+ scalar\n\u001b[0mClosest candidates are:\n\u001b[0m  +(::Any, ::Any, \u001b[91m::Any\u001b[39m, \u001b[91m::Any...\u001b[39m) at operators.jl:560\n\u001b[0m  +(\u001b[91m::T\u001b[39m, ::T) where T<:Union{Int128, Int16, Int32, Int64, Int8, UInt128, UInt16, UInt32, UInt64, UInt8} at int.jl:87\n\u001b[0m  +(\u001b[91m::T\u001b[39m, ::Integer) where T<:AbstractChar at char.jl:223\n\u001b[0m  ...",
      "",
      "Stacktrace:",
      " [1] _broadcast_getindex_evalf",
      "   @ .\\broadcast.jl:648 [inlined]",
      " [2] _broadcast_getindex",
      "   @ .\\broadcast.jl:621 [inlined]",
      " [3] getindex",
      "   @ .\\broadcast.jl:575 [inlined]",
      " [4] copy",
      "   @ .\\broadcast.jl:922 [inlined]",
      " [5] materialize(bc::Base.Broadcast.Broadcasted{Base.Broadcast.DefaultArrayStyle{1}, Nothing, typeof(+), Tuple{Vector{Vector{Int64}}, Int64}})",
      "   @ Base.Broadcast .\\broadcast.jl:883",
      " [6] top-level scope",
      "   @ In[42]:1",
      " [7] eval",
      "   @ .\\boot.jl:360 [inlined]",
      " [8] include_string(mapexpr::typeof(REPL.softscope), mod::Module, code::String, filename::String)",
      "   @ Base .\\loading.jl:1116"
     ]
    }
   ],
   "source": [
    "v.+2"
   ]
  },
  {
   "cell_type": "code",
   "execution_count": 43,
   "id": "912c5460",
   "metadata": {},
   "outputs": [
    {
     "data": {
      "text/plain": [
       "3-element Vector{Int64}:\n",
       " 1\n",
       " 2\n",
       " 3"
      ]
     },
     "execution_count": 43,
     "metadata": {},
     "output_type": "execute_result"
    }
   ],
   "source": [
    "h = [1,2,3]"
   ]
  },
  {
   "cell_type": "code",
   "execution_count": 45,
   "id": "c18be198",
   "metadata": {},
   "outputs": [
    {
     "data": {
      "text/plain": [
       "3-element Vector{Int64}:\n",
       " 3\n",
       " 4\n",
       " 5"
      ]
     },
     "execution_count": 45,
     "metadata": {},
     "output_type": "execute_result"
    }
   ],
   "source": [
    "h .+2"
   ]
  },
  {
   "cell_type": "code",
   "execution_count": 51,
   "id": "643e86bd",
   "metadata": {},
   "outputs": [
    {
     "data": {
      "text/plain": [
       "3-element Vector{Int64}:\n",
       " 1\n",
       " 4\n",
       " 9"
      ]
     },
     "execution_count": 51,
     "metadata": {},
     "output_type": "execute_result"
    }
   ],
   "source": [
    "h .^2"
   ]
  },
  {
   "cell_type": "code",
   "execution_count": 57,
   "id": "8bf8677f",
   "metadata": {},
   "outputs": [
    {
     "data": {
      "text/plain": [
       "3-element Vector{Float64}:\n",
       "  0.5403023058681398\n",
       " -0.4161468365471424\n",
       " -0.9899924966004454"
      ]
     },
     "execution_count": 57,
     "metadata": {},
     "output_type": "execute_result"
    }
   ],
   "source": [
    "cos.(h)"
   ]
  },
  {
   "cell_type": "code",
   "execution_count": 59,
   "id": "bcee2c20",
   "metadata": {},
   "outputs": [
    {
     "data": {
      "text/plain": [
       "100-element Vector{Float64}:\n",
       " 0.7926428051303593\n",
       " 0.9943623668035939\n",
       " 0.783719721976095\n",
       " 0.5723912214171998\n",
       " 0.33898548398135775\n",
       " 0.6187227002755715\n",
       " 0.35915043210571507\n",
       " 0.5101089124271252\n",
       " 0.8152864892587957\n",
       " 0.7416910163257757\n",
       " 0.5332414928715978\n",
       " 0.9128392357922808\n",
       " 0.11303397219936184\n",
       " ⋮\n",
       " 0.17473242809482414\n",
       " 0.8085057510549527\n",
       " 0.911762448173967\n",
       " 0.09770936987007395\n",
       " 0.34410133292489786\n",
       " 0.4090796546127564\n",
       " 0.054488270584901466\n",
       " 0.20573215366335407\n",
       " 0.06118922546790939\n",
       " 0.2954452574102826\n",
       " 0.3564618793240413\n",
       " 0.011921198849313752"
      ]
     },
     "execution_count": 59,
     "metadata": {},
     "output_type": "execute_result"
    }
   ],
   "source": [
    "vic = rand(100) # sólo me da número aleatorios entre 0 y 1"
   ]
  },
  {
   "cell_type": "code",
   "execution_count": 60,
   "id": "c4a658e1",
   "metadata": {},
   "outputs": [
    {
     "data": {
      "text/plain": [
       "100-element Vector{Float64}:\n",
       " 0.011921198849313752\n",
       " 0.035251229111803895\n",
       " 0.054488270584901466\n",
       " 0.05877363988763129\n",
       " 0.06118922546790939\n",
       " 0.06856308474067196\n",
       " 0.08364974323191232\n",
       " 0.08643119356263296\n",
       " 0.09400776409991063\n",
       " 0.09770936987007395\n",
       " 0.09942742614376532\n",
       " 0.10510990871474024\n",
       " 0.10725668188802828\n",
       " ⋮\n",
       " 0.8744510913379144\n",
       " 0.911762448173967\n",
       " 0.9128392357922808\n",
       " 0.9187030199732693\n",
       " 0.9240296196590314\n",
       " 0.9244852708979712\n",
       " 0.9380451367515197\n",
       " 0.9508268665663413\n",
       " 0.9529303508840781\n",
       " 0.9874602198189997\n",
       " 0.9886320108789963\n",
       " 0.9943623668035939"
      ]
     },
     "execution_count": 60,
     "metadata": {},
     "output_type": "execute_result"
    }
   ],
   "source": [
    "sort(vic) #de menor a mayor"
   ]
  },
  {
   "cell_type": "code",
   "execution_count": 64,
   "id": "eeea7be7",
   "metadata": {},
   "outputs": [
    {
     "data": {
      "text/plain": [
       "100-element Vector{Float64}:\n",
       " 0.9943623668035939\n",
       " 0.9886320108789963\n",
       " 0.9874602198189997\n",
       " 0.9529303508840781\n",
       " 0.9508268665663413\n",
       " 0.9380451367515197\n",
       " 0.9244852708979712\n",
       " 0.9240296196590314\n",
       " 0.9187030199732693\n",
       " 0.9128392357922808\n",
       " 0.911762448173967\n",
       " 0.8744510913379144\n",
       " 0.8433604998224729\n",
       " ⋮\n",
       " 0.10510990871474024\n",
       " 0.09942742614376532\n",
       " 0.09770936987007395\n",
       " 0.09400776409991063\n",
       " 0.08643119356263296\n",
       " 0.08364974323191232\n",
       " 0.06856308474067196\n",
       " 0.06118922546790939\n",
       " 0.05877363988763129\n",
       " 0.054488270584901466\n",
       " 0.035251229111803895\n",
       " 0.011921198849313752"
      ]
     },
     "execution_count": 64,
     "metadata": {},
     "output_type": "execute_result"
    }
   ],
   "source": [
    "sort(vic,rev=true) #de mayor a menor"
   ]
  },
  {
   "cell_type": "code",
   "execution_count": 68,
   "id": "00f82c58",
   "metadata": {},
   "outputs": [
    {
     "data": {
      "text/plain": [
       "2×2 Matrix{Int64}:\n",
       " 1  2\n",
       " 3  4"
      ]
     },
     "execution_count": 68,
     "metadata": {},
     "output_type": "execute_result"
    }
   ],
   "source": [
    "A =[1 2; 3 4]"
   ]
  },
  {
   "cell_type": "code",
   "execution_count": null,
   "id": "3f1fee35",
   "metadata": {},
   "outputs": [],
   "source": []
  }
 ],
 "metadata": {
  "kernelspec": {
   "display_name": "Julia 1.6.2",
   "language": "julia",
   "name": "julia-1.6"
  },
  "language_info": {
   "file_extension": ".jl",
   "mimetype": "application/julia",
   "name": "julia",
   "version": "1.6.2"
  }
 },
 "nbformat": 4,
 "nbformat_minor": 5
}
