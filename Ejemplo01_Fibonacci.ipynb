{
 "cells": [
  {
   "cell_type": "markdown",
   "id": "1ce8bdcf",
   "metadata": {},
   "source": [
    "# Sucesión de Fibonacci"
   ]
  },
  {
   "cell_type": "markdown",
   "id": "8bbb26a2",
   "metadata": {},
   "source": [
    "Los números de Fibonacci sobre el conjunto de los números enteros no negativos son una sucesión $\\{a_n: n=0,1,\\ldots\\}$ definida como $a_0=0,$ $a_1=1$ y recursivamente para $n\\geq 2$ mediante: $a_n=a_{n-1}+a_{n-2},$ esto es: $\\{0,1,1,2,3,5,8,13,21,34,55,89,144,\\ldots\\}$"
   ]
  },
  {
   "cell_type": "code",
   "execution_count": 1,
   "id": "bf2e8f37",
   "metadata": {},
   "outputs": [
    {
     "data": {
      "text/plain": [
       "fibonacci (generic function with 1 method)"
      ]
     },
     "execution_count": 1,
     "metadata": {},
     "output_type": "execute_result"
    }
   ],
   "source": [
    "function fibonacci(n) # n = número de términos de la sucesión\n",
    "    if n == 1\n",
    "        a = [0]\n",
    "    else\n",
    "        a = zeros(Int, n)\n",
    "        a[2] = 1\n",
    "        if n ≥ 3\n",
    "            for i ∈ 3:n\n",
    "                a[i] = a[i-1] + a[i-2]\n",
    "            end\n",
    "        end\n",
    "    end\n",
    "    return a\n",
    "end"
   ]
  },
  {
   "cell_type": "code",
   "execution_count": 2,
   "id": "f2c63657",
   "metadata": {},
   "outputs": [
    {
     "data": {
      "text/plain": [
       "13-element Vector{Int64}:\n",
       "   0\n",
       "   1\n",
       "   1\n",
       "   2\n",
       "   3\n",
       "   5\n",
       "   8\n",
       "  13\n",
       "  21\n",
       "  34\n",
       "  55\n",
       "  89\n",
       " 144"
      ]
     },
     "execution_count": 2,
     "metadata": {},
     "output_type": "execute_result"
    }
   ],
   "source": [
    "fibonacci(13)"
   ]
  },
  {
   "cell_type": "code",
   "execution_count": 3,
   "id": "3849717a",
   "metadata": {},
   "outputs": [
    {
     "ename": "LoadError",
     "evalue": "UndefVarError: a not defined",
     "output_type": "error",
     "traceback": [
      "UndefVarError: a not defined",
      "",
      "Stacktrace:",
      " [1] top-level scope",
      "   @ In[3]:1",
      " [2] eval",
      "   @ .\\boot.jl:360 [inlined]",
      " [3] include_string(mapexpr::typeof(REPL.softscope), mod::Module, code::String, filename::String)",
      "   @ Base .\\loading.jl:1116"
     ]
    }
   ],
   "source": [
    "print(a)"
   ]
  },
  {
   "cell_type": "code",
   "execution_count": 4,
   "id": "50efd020",
   "metadata": {},
   "outputs": [
    {
     "data": {
      "text/plain": [
       "fibonacci2 (generic function with 1 method)"
      ]
     },
     "execution_count": 4,
     "metadata": {},
     "output_type": "execute_result"
    }
   ],
   "source": [
    "function fibonacci2(m) # m = valor máximo de la sucesión\n",
    "    if m == 0\n",
    "        return [0]\n",
    "    else\n",
    "        a = [0, 1]\n",
    "        while a[end] ≤ m\n",
    "            n = a[end] + a[end - 1]\n",
    "            push!(a, n)\n",
    "        end\n",
    "        return a[1:(end - 1)]\n",
    "    end\n",
    "end"
   ]
  },
  {
   "cell_type": "code",
   "execution_count": 5,
   "id": "3c01fb43",
   "metadata": {},
   "outputs": [
    {
     "data": {
      "text/plain": [
       "13-element Vector{Int64}:\n",
       "   0\n",
       "   1\n",
       "   1\n",
       "   2\n",
       "   3\n",
       "   5\n",
       "   8\n",
       "  13\n",
       "  21\n",
       "  34\n",
       "  55\n",
       "  89\n",
       " 144"
      ]
     },
     "execution_count": 5,
     "metadata": {},
     "output_type": "execute_result"
    }
   ],
   "source": [
    "fibonacci2(144)"
   ]
  },
  {
   "cell_type": "code",
   "execution_count": null,
   "id": "b25706ac",
   "metadata": {},
   "outputs": [],
   "source": []
  }
 ],
 "metadata": {
  "kernelspec": {
   "display_name": "Julia 1.6.2",
   "language": "julia",
   "name": "julia-1.6"
  },
  "language_info": {
   "file_extension": ".jl",
   "mimetype": "application/julia",
   "name": "julia",
   "version": "1.6.2"
  }
 },
 "nbformat": 4,
 "nbformat_minor": 5
}
