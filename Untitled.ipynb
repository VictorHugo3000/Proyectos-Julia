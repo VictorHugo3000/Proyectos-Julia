{
 "cells": [
  {
   "cell_type": "code",
   "execution_count": null,
   "metadata": {},
   "outputs": [],
   "source": [
    "import numpy as np\n",
    "import matplotlib.pyplot as plt\n",
    "m= 1\n",
    "l = 1\n",
    "g = 9.81\n",
    "\n",
    "t = 0\n",
    "thetainc = 0\n",
    "omegainc = 0.5\n",
    "u = np.array([thetainc,omegainc])\n",
    "\n",
    "def F(u,t):\n",
    "    return np.array([u[1],-g*np.sin(u[0])/l])\n",
    "tsol = [t]\n",
    "thetasol = [u[0]]\n",
    "omegasol = [u[1]]\n",
    "dt = 0.1\n",
    "tfin = 5\n",
    "\n",
    "while t < tfin:\n",
    "    u = u + F(u,t)*dt\n",
    "    thetasol.append(u[0])\n",
    "    omegasol.append(u[1])\n",
    "    tsol.append(t)\n",
    "    \n",
    "plt.plot(tsol,omegasol)\n",
    "plt.show()\n",
    "    \n"
   ]
  },
  {
   "cell_type": "code",
   "execution_count": null,
   "metadata": {},
   "outputs": [],
   "source": []
  }
 ],
 "metadata": {
  "kernelspec": {
   "display_name": "Python 3",
   "language": "python",
   "name": "python3"
  },
  "language_info": {
   "codemirror_mode": {
    "name": "ipython",
    "version": 3
   },
   "file_extension": ".py",
   "mimetype": "text/x-python",
   "name": "python",
   "nbconvert_exporter": "python",
   "pygments_lexer": "ipython3",
   "version": "3.7.3"
  }
 },
 "nbformat": 4,
 "nbformat_minor": 2
}
