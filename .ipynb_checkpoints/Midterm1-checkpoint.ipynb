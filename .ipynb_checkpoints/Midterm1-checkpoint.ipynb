{
 "cells": [
  {
   "cell_type": "code",
   "execution_count": null,
   "metadata": {},
   "outputs": [],
   "source": [
    "# Statistics III   Midterm Exam # 1    May 19th, 2021"
   ]
  },
  {
   "cell_type": "code",
   "execution_count": null,
   "metadata": {},
   "outputs": [],
   "source": [
    "# Use the following code as a template to generate a random sample, \n",
    "# make the required calculations using the appropriate `Julia` code, \n",
    "# and generate a text file with results to be sumitted."
   ]
  },
  {
   "cell_type": "code",
   "execution_count": null,
   "metadata": {},
   "outputs": [],
   "source": [
    "# Type your 9-digit UNAM account number, name, and birth date, as in the following example:\n",
    "unamID = 123456789\n",
    "name = \"Ana Lucía Ramírez Pedroza\"\n",
    "birth = \"26032001\"; # ddmmyyyy"
   ]
  },
  {
   "cell_type": "code",
   "execution_count": null,
   "metadata": {},
   "outputs": [],
   "source": [
    "# Generate a random sample with the following code:\n",
    "using Random\n",
    "n = sum(digits(unamID)[1:3])\n",
    "Random.seed!(unamID)\n",
    "sample = randn(n);"
   ]
  },
  {
   "cell_type": "code",
   "execution_count": null,
   "metadata": {},
   "outputs": [],
   "source": [
    "# Write and/or reuse `Julia` code to obtain an unbiased and consistent \n",
    "# point estimation of the probability that a future observation will\n",
    "# belong to the interval ]0, 1] and save it with the name: point_estimate\n"
   ]
  },
  {
   "cell_type": "code",
   "execution_count": null,
   "metadata": {},
   "outputs": [],
   "source": [
    "# Write and/or reuse `Julia` code to obtain a 99% bayesian interval estimation\n",
    "# of the probability that a future observation will belong to the interval ]0, 1]\n",
    "# and save it with the name: interval_estimate\n"
   ]
  },
  {
   "cell_type": "code",
   "execution_count": null,
   "metadata": {},
   "outputs": [],
   "source": [
    "# Write and/or reuse `Julia` code to obtain a point estimation\n",
    "# of the 0.6 quantile and save it with the name: xi\n"
   ]
  },
  {
   "cell_type": "code",
   "execution_count": null,
   "metadata": {},
   "outputs": [],
   "source": [
    "# Generate a text file using the following code:\n",
    "filename = string(unamID) * \".txt\"\n",
    "f = open(filename, \"w\")\n",
    "info = string.([name, birth, unamID, point_estimate,\n",
    "       interval_estimate[1], interval_estimate[2], xi, time()])\n",
    "for i ∈ 1:length(info)\n",
    "    write(f, info[i])\n",
    "    write(f, \"\\n\")\n",
    "end\n",
    "close(f)"
   ]
  },
  {
   "cell_type": "code",
   "execution_count": null,
   "metadata": {},
   "outputs": [],
   "source": [
    "# Submit the text file in Google Classroom"
   ]
  }
 ],
 "metadata": {
  "kernelspec": {
   "display_name": "Julia 1.6.2",
   "language": "julia",
   "name": "julia-1.6"
  },
  "language_info": {
   "file_extension": ".jl",
   "mimetype": "application/julia",
   "name": "julia",
   "version": "1.6.2"
  }
 },
 "nbformat": 4,
 "nbformat_minor": 4
}
