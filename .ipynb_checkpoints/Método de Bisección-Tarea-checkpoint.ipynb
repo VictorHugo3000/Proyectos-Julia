{
 "cells": [
  {
   "cell_type": "markdown",
   "metadata": {},
   "source": [
    "# Resolución numérica de ecuaciones: método de bisección\n",
    "\n",
    "### por Victor Hugo López Lugo"
   ]
  },
  {
   "cell_type": "markdown",
   "metadata": {},
   "source": [
    "Se presenta aqui un método sencillo,basado en el **Teorema de Bolzano**, que permite, en determinadas circunstancias,calcular la solución de una ecuación.\n",
    "Hay que comenzar por decir que cualquier ecuación en una variable se puede escribir (y no de manera única) en la forma de una equivalente (es decir, que tiene las mismas soluciones) pero con segundo miembro nulo, es decir:\n",
    "                                            $f(x) = 0 .$\n",
    "                                            \n",
    "Dada $f:[a,b] \\subset \\mathbb{R} \\longrightarrow \\mathbb{R},$ continua, se plantea el problema de encontrar una solución de la ecuación: $f(x) =0$\n",
    "\n",
    "Desde el punto de vista geométrico, esto, en $[a,b],$ un punto de corte de la gráfica de la función $y=f(x)$ con el eje de las abscisas. Tal como se muestra en la siguiente figura:\n",
    "\n",
    "\n",
    "<img src=\"método de bisección1.jpg\" alt=\"Bisección\" width=\"800\"/>\n",
    "\n",
    "\n",
    "Los métodos de aproximación de raices de ecuaciones necesitan conocer, o bien un intervalo que contenga\n",
    "sólo una raíz, o bien un punto inicial que esté suficientemente cerca de ella. Por tanto, como paso previo a la\n",
    "aplicación de un método de aproximación, es necesario localizar la raíz, es decir encontrar un intervalo que\n",
    "la contenga y separar la raíz, es decir encontrar un intervalo que sólo contenga dicha raíz. Esto se hace por\n",
    "métodos analíticos, gráficos y, en algunos casos, empíricos.\n",
    "\n",
    "Los métodos para aproximar raices de ecuaciones son, en general iterativos, es decir consisten en construir una sucesión de valores $x_1,x_2,x_3,x_4 \\dots$ mediante una realación de recurrencia, esto es, se calcula uno de ellos a partir del anterior: $x_1 \\rightarrow x_2 \\rightarrow x_3 \\rightarrow x_4 , $ etc.\n",
    "\n",
    "Cuando la sucesión de valores $x_1,x_2,x_3 \\dots$ tiende hacia la raíz $\\alpha$ de $f(x)$ (es decir se acerca cada más a ella, tanto como se quiera: $\\lim_{n \\to \\infty}x_n$), se dice que el método iterativo **es convergente**.\n",
    "\n",
    "En general, el método de bisección consiste en lo siguiente:\n",
    "1. Subdividir en dos partes el intervalo en que se sabe la función cambia de signo y tiene una sóla raíz.\n",
    "2. Averiguar,utilizando el teorema de Bolzano, en el cual de las dos mitades se encuentra la raíz y descartar la otra mitad del intervalo.\n",
    "3. Reiniciar este proceso con el subintervalo elegido.\n",
    "4. Continuar con este proceso hasta que el subintervalo elegido tenga una longitud lo suficientemente pequeña como para que cualquiera de sus puntos sea una aproximación aceptable de la solución. La elecccioón óptima como aproximación es, entonces, el punto medio del subintervalo."
   ]
  },
  {
   "cell_type": "markdown",
   "metadata": {},
   "source": [
    "## Implementación del código"
   ]
  },
  {
   "cell_type": "code",
   "execution_count": 34,
   "metadata": {},
   "outputs": [
    {
     "data": {
      "text/plain": [
       "f (generic function with 1 method)"
      ]
     },
     "execution_count": 34,
     "metadata": {},
     "output_type": "execute_result"
    }
   ],
   "source": [
    "function f(x)\n",
    "    return cos(x)-x^3\n",
    "end\n",
    "    "
   ]
  },
  {
   "cell_type": "code",
   "execution_count": 35,
   "metadata": {},
   "outputs": [
    {
     "data": {
      "text/plain": [
       "-8.416146836547142"
      ]
     },
     "execution_count": 35,
     "metadata": {},
     "output_type": "execute_result"
    }
   ],
   "source": [
    "f(2)"
   ]
  },
  {
   "cell_type": "code",
   "execution_count": 36,
   "metadata": {},
   "outputs": [
    {
     "data": {
      "text/plain": [
       "1.0"
      ]
     },
     "execution_count": 36,
     "metadata": {},
     "output_type": "execute_result"
    }
   ],
   "source": [
    "f(0)"
   ]
  },
  {
   "cell_type": "code",
   "execution_count": 83,
   "metadata": {},
   "outputs": [
    {
     "data": {
      "text/plain": [
       "biseccion (generic function with 2 methods)"
      ]
     },
     "execution_count": 83,
     "metadata": {},
     "output_type": "execute_result"
    }
   ],
   "source": [
    "function f(x)\n",
    "    return cos(x)-x^3\n",
    "end\n",
    "    \n",
    "function biseccion(f,a,b,err)\n",
    "    l1 = a\n",
    "    l = b\n",
    "    k = 0\n",
    "    if f(a)*f(b) > 0\n",
    "        println(\"La función no cambia de signo\")\n",
    "    end\n",
    "    \n",
    "    while abs(l1-l)>err\n",
    "        l1 = l\n",
    "        l = (a+b)/2\n",
    "        if f(a)*f(l) < 0   #Cambia de signo en [a,l]\n",
    "            b = l\n",
    "        end\n",
    "        \n",
    "        if f(l)f(b) < 0 #Cambia de signo en [l,b]\n",
    "            a = l\n",
    "        end\n",
    "        println(\"El intervalo es [$a , $b]\")  \n",
    "        k = k+1\n",
    "    \n",
    "    end\n",
    "    println(\"$k iteraciones\")\n",
    "    print(\"x\", \"=\",l,\" \", \"con: \", k,\" \", \"iteraciones es una buena aproximacion\")\n",
    "end"
   ]
  },
  {
   "cell_type": "code",
   "execution_count": 84,
   "metadata": {},
   "outputs": [
    {
     "name": "stdout",
     "output_type": "stream",
     "text": [
      "El intervalo es [0 , 1.5707963267948966]\n",
      "El intervalo es [0.7853981633974483 , 1.5707963267948966]\n",
      "El intervalo es [0.7853981633974483 , 1.1780972450961724]\n",
      "El intervalo es [0.7853981633974483 , 0.9817477042468103]\n",
      "El intervalo es [0.7853981633974483 , 0.8835729338221293]\n",
      "El intervalo es [0.8344855486097889 , 0.8835729338221293]\n",
      "El intervalo es [0.859029241215959 , 0.8835729338221293]\n",
      "El intervalo es [0.859029241215959 , 0.8713010875190441]\n",
      "El intervalo es [0.8651651643675016 , 0.8713010875190441]\n",
      "El intervalo es [0.8651651643675016 , 0.8682331259432728]\n",
      "El intervalo es [0.8651651643675016 , 0.8666991451553872]\n",
      "El intervalo es [0.8651651643675016 , 0.8659321547614444]\n",
      "El intervalo es [0.8651651643675016 , 0.865548659564473]\n",
      "El intervalo es [0.8653569119659873 , 0.865548659564473]\n",
      "El intervalo es [0.8654527857652301 , 0.865548659564473]\n",
      "El intervalo es [0.8654527857652301 , 0.8655007226648516]\n",
      "El intervalo es [0.8654527857652301 , 0.8654767542150408]\n",
      "El intervalo es [0.8654647699901354 , 0.8654767542150408]\n",
      "El intervalo es [0.8654707621025881 , 0.8654767542150408]\n",
      "El intervalo es [0.8654737581588144 , 0.8654767542150408]\n",
      "El intervalo es [0.8654737581588144 , 0.8654752561869277]\n",
      "El intervalo es [0.8654737581588144 , 0.8654745071728711]\n",
      "22 iteraciones\n",
      "x=0.8654745071728711 con: 22 iteraciones es una buena aproximacion"
     ]
    }
   ],
   "source": [
    "biseccion(f,0,π,10^-6)"
   ]
  },
  {
   "cell_type": "code",
   "execution_count": null,
   "metadata": {},
   "outputs": [],
   "source": []
  }
 ],
 "metadata": {
  "kernelspec": {
   "display_name": "Julia 1.6.2",
   "language": "julia",
   "name": "julia-1.6"
  },
  "language_info": {
   "file_extension": ".jl",
   "mimetype": "application/julia",
   "name": "julia",
   "version": "1.6.2"
  }
 },
 "nbformat": 4,
 "nbformat_minor": 2
}
