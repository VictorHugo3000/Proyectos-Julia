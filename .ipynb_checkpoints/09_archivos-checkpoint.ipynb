{
 "cells": [
  {
   "cell_type": "markdown",
   "metadata": {},
   "source": [
    "# 9. Manejo de archivos\n",
    "> Por Arturo Erdely"
   ]
  },
  {
   "cell_type": "markdown",
   "metadata": {},
   "source": [
    "## Directorios"
   ]
  },
  {
   "cell_type": "code",
   "execution_count": 1,
   "metadata": {},
   "outputs": [
    {
     "data": {
      "text/plain": [
       "\"C:\\\\Users\\\\krypt\\\\Julia proyects\""
      ]
     },
     "execution_count": 1,
     "metadata": {},
     "output_type": "execute_result"
    }
   ],
   "source": [
    "dir = pwd() # directorio actual"
   ]
  },
  {
   "cell_type": "code",
   "execution_count": 2,
   "metadata": {},
   "outputs": [
    {
     "data": {
      "text/plain": [
       "26-element Vector{String}:\n",
       " \".ipynb_checkpoints\"\n",
       " \"01_intro.ipynb\"\n",
       " \"02_numeros.ipynb\"\n",
       " \"03_operaciones.ipynb\"\n",
       " \"04_funciones.ipynb\"\n",
       " \"05_arreglos.ipynb\"\n",
       " \"06_markdown.ipynb\"\n",
       " \"07_plots.ipynb\"\n",
       " \"07_plots.pdf\"\n",
       " \"08_texto (1).ipynb\"\n",
       " \"08_texto (2).ipynb\"\n",
       " \"09_archivos.ipynb\"\n",
       " \"DifDiv.ipynb\"\n",
       " \"Ejemplo01_Fibonacci.ipynb\"\n",
       " \"Ejemplo02_Biseccion.ipynb\"\n",
       " \"LetrasAcatlan.jpg\"\n",
       " \"LogotipoFESA.png\"\n",
       " \"MisFunciones.jl\"\n",
       " \"Método de Bisección-Tarea (1).html\"\n",
       " \"Método de Bisección-Tarea(pdf).pdf\"\n",
       " \"Método de Bisección-Tarea.ipynb\"\n",
       " \"Otra cosa.ipynb\"\n",
       " \"método de bisección1.jpg\"\n",
       " \"pininos.pdf\"\n",
       " \"pininos.png\"\n",
       " \"untitled.jl\""
      ]
     },
     "execution_count": 2,
     "metadata": {},
     "output_type": "execute_result"
    }
   ],
   "source": [
    "archivos = readdir(dir)"
   ]
  },
  {
   "cell_type": "code",
   "execution_count": 3,
   "metadata": {},
   "outputs": [
    {
     "name": "stdout",
     "output_type": "stream",
     "text": [
      "[\".ipynb_checkpoints\", \"01_intro.ipynb\", \"02_numeros.ipynb\", \"03_operaciones.ipynb\", \"04_funciones.ipynb\", \"05_arreglos.ipynb\", \"06_markdown.ipynb\", \"07_plots.ipynb\", \"07_plots.pdf\", \"08_texto (1).ipynb\", \"08_texto (2).ipynb\", \"09_archivos.ipynb\", \"DifDiv.ipynb\", \"Ejemplo01_Fibonacci.ipynb\", \"Ejemplo02_Biseccion.ipynb\", \"LetrasAcatlan.jpg\", \"LogotipoFESA.png\", \"MisFunciones.jl\", \"Método de Bisección-Tarea (1).html\", \"Método de Bisección-Tarea(pdf).pdf\", \"Método de Bisección-Tarea.ipynb\", \"Otra cosa.ipynb\", \"método de bisección1.jpg\", \"pininos.pdf\", \"pininos.png\", \"untitled.jl\"]\n"
     ]
    }
   ],
   "source": [
    "println(archivos)"
   ]
  },
  {
   "cell_type": "code",
   "execution_count": 4,
   "metadata": {},
   "outputs": [
    {
     "data": {
      "text/plain": [
       "\"C:\\\\Users\\\\krypt\\\\Julia proyects\""
      ]
     },
     "execution_count": 4,
     "metadata": {},
     "output_type": "execute_result"
    }
   ],
   "source": [
    "dir"
   ]
  },
  {
   "cell_type": "code",
   "execution_count": 23,
   "metadata": {},
   "outputs": [
    {
     "ename": "LoadError",
     "evalue": "IOError: cd(\"C:\\\\Users\\\\krypt\\\\Julia proyects\\\\Codigo Curso Python\"): no such file or directory (ENOENT)",
     "output_type": "error",
     "traceback": [
      "IOError: cd(\"C:\\\\Users\\\\krypt\\\\Julia proyects\\\\Codigo Curso Python\"): no such file or directory (ENOENT)",
      "",
      "Stacktrace:",
      " [1] uv_error",
      "   @ .\\libuv.jl:97 [inlined]",
      " [2] cd(dir::String)",
      "   @ Base.Filesystem .\\file.jl:85",
      " [3] top-level scope",
      "   @ In[23]:1",
      " [4] eval",
      "   @ .\\boot.jl:360 [inlined]",
      " [5] include_string(mapexpr::typeof(REPL.softscope), mod::Module, code::String, filename::String)",
      "   @ Base .\\loading.jl:1116"
     ]
    }
   ],
   "source": [
    "cd(dir * \"\\\\Codigo Curso Python\")  #Cambiar directorio actual"
   ]
  },
  {
   "cell_type": "code",
   "execution_count": 7,
   "metadata": {},
   "outputs": [
    {
     "data": {
      "text/plain": [
       "\"C:\\\\Users\\\\krypt\\\\Julia proyects\""
      ]
     },
     "execution_count": 7,
     "metadata": {},
     "output_type": "execute_result"
    }
   ],
   "source": [
    "pwd()"
   ]
  },
  {
   "cell_type": "code",
   "execution_count": 9,
   "metadata": {},
   "outputs": [
    {
     "data": {
      "text/plain": [
       "26-element Vector{String}:\n",
       " \".ipynb_checkpoints\"\n",
       " \"01_intro.ipynb\"\n",
       " \"02_numeros.ipynb\"\n",
       " \"03_operaciones.ipynb\"\n",
       " \"04_funciones.ipynb\"\n",
       " \"05_arreglos.ipynb\"\n",
       " \"06_markdown.ipynb\"\n",
       " \"07_plots.ipynb\"\n",
       " \"07_plots.pdf\"\n",
       " \"08_texto (1).ipynb\"\n",
       " \"08_texto (2).ipynb\"\n",
       " \"09_archivos.ipynb\"\n",
       " \"DifDiv.ipynb\"\n",
       " \"Ejemplo01_Fibonacci.ipynb\"\n",
       " \"Ejemplo02_Biseccion.ipynb\"\n",
       " \"LetrasAcatlan.jpg\"\n",
       " \"LogotipoFESA.png\"\n",
       " \"MisFunciones.jl\"\n",
       " \"Método de Bisección-Tarea (1).html\"\n",
       " \"Método de Bisección-Tarea(pdf).pdf\"\n",
       " \"Método de Bisección-Tarea.ipynb\"\n",
       " \"Otra cosa.ipynb\"\n",
       " \"método de bisección1.jpg\"\n",
       " \"pininos.pdf\"\n",
       " \"pininos.png\"\n",
       " \"untitled.jl\""
      ]
     },
     "execution_count": 9,
     "metadata": {},
     "output_type": "execute_result"
    }
   ],
   "source": [
    "readdir(pwd())"
   ]
  },
  {
   "cell_type": "code",
   "execution_count": 10,
   "metadata": {},
   "outputs": [],
   "source": [
    "cd(dir)"
   ]
  },
  {
   "cell_type": "code",
   "execution_count": 11,
   "metadata": {},
   "outputs": [
    {
     "data": {
      "text/plain": [
       "\"C:\\\\Users\\\\krypt\\\\Julia proyects\""
      ]
     },
     "execution_count": 11,
     "metadata": {},
     "output_type": "execute_result"
    }
   ],
   "source": [
    "pwd()"
   ]
  },
  {
   "cell_type": "code",
   "execution_count": 12,
   "metadata": {},
   "outputs": [
    {
     "data": {
      "text/plain": [
       "\"C:\\\\Users\\\\krypt\\\\Julia proyects\""
      ]
     },
     "execution_count": 12,
     "metadata": {},
     "output_type": "execute_result"
    }
   ],
   "source": [
    "dir"
   ]
  },
  {
   "cell_type": "code",
   "execution_count": 13,
   "metadata": {},
   "outputs": [
    {
     "data": {
      "text/plain": [
       "\"C:\\\\Users\\\\krypt\\\\Julia \""
      ]
     },
     "execution_count": 13,
     "metadata": {},
     "output_type": "execute_result"
    }
   ],
   "source": [
    "dirmat = dir[1:(end - 8)]"
   ]
  },
  {
   "cell_type": "code",
   "execution_count": 14,
   "metadata": {},
   "outputs": [
    {
     "ename": "LoadError",
     "evalue": "IOError: cd(\"C:\\\\Users\\\\krypt\\\\Julia \"): no such file or directory (ENOENT)",
     "output_type": "error",
     "traceback": [
      "IOError: cd(\"C:\\\\Users\\\\krypt\\\\Julia \"): no such file or directory (ENOENT)",
      "",
      "Stacktrace:",
      " [1] uv_error",
      "   @ .\\libuv.jl:97 [inlined]",
      " [2] cd(dir::String)",
      "   @ Base.Filesystem .\\file.jl:85",
      " [3] top-level scope",
      "   @ In[14]:1",
      " [4] eval",
      "   @ .\\boot.jl:360 [inlined]",
      " [5] include_string(mapexpr::typeof(REPL.softscope), mod::Module, code::String, filename::String)",
      "   @ Base .\\loading.jl:1116"
     ]
    }
   ],
   "source": [
    "cd(dirmat)\n",
    "pwd()"
   ]
  },
  {
   "cell_type": "code",
   "execution_count": null,
   "metadata": {},
   "outputs": [],
   "source": [
    "cd(dir)\n",
    "pwd()"
   ]
  },
  {
   "cell_type": "code",
   "execution_count": 15,
   "metadata": {},
   "outputs": [
    {
     "data": {
      "text/plain": [
       "26-element Vector{String}:\n",
       " \".ipynb_checkpoints\"\n",
       " \"01_intro.ipynb\"\n",
       " \"02_numeros.ipynb\"\n",
       " \"03_operaciones.ipynb\"\n",
       " \"04_funciones.ipynb\"\n",
       " \"05_arreglos.ipynb\"\n",
       " \"06_markdown.ipynb\"\n",
       " \"07_plots.ipynb\"\n",
       " \"07_plots.pdf\"\n",
       " \"08_texto (1).ipynb\"\n",
       " \"08_texto (2).ipynb\"\n",
       " \"09_archivos.ipynb\"\n",
       " \"DifDiv.ipynb\"\n",
       " \"Ejemplo01_Fibonacci.ipynb\"\n",
       " \"Ejemplo02_Biseccion.ipynb\"\n",
       " \"LetrasAcatlan.jpg\"\n",
       " \"LogotipoFESA.png\"\n",
       " \"MisFunciones.jl\"\n",
       " \"Método de Bisección-Tarea (1).html\"\n",
       " \"Método de Bisección-Tarea(pdf).pdf\"\n",
       " \"Método de Bisección-Tarea.ipynb\"\n",
       " \"Otra cosa.ipynb\"\n",
       " \"método de bisección1.jpg\"\n",
       " \"pininos.pdf\"\n",
       " \"pininos.png\"\n",
       " \"untitled.jl\""
      ]
     },
     "execution_count": 15,
     "metadata": {},
     "output_type": "execute_result"
    }
   ],
   "source": [
    "readdir(dir)"
   ]
  },
  {
   "cell_type": "code",
   "execution_count": 16,
   "metadata": {},
   "outputs": [
    {
     "data": {
      "text/plain": [
       "26-element Vector{String}:\n",
       " \"C:\\\\Users\\\\krypt\\\\Julia proyects\\\\.ipynb_checkpoints\"\n",
       " \"C:\\\\Users\\\\krypt\\\\Julia proyects\\\\01_intro.ipynb\"\n",
       " \"C:\\\\Users\\\\krypt\\\\Julia proyects\\\\02_numeros.ipynb\"\n",
       " \"C:\\\\Users\\\\krypt\\\\Julia proyects\\\\03_operaciones.ipynb\"\n",
       " \"C:\\\\Users\\\\krypt\\\\Julia proyects\\\\04_funciones.ipynb\"\n",
       " \"C:\\\\Users\\\\krypt\\\\Julia proyects\\\\05_arreglos.ipynb\"\n",
       " \"C:\\\\Users\\\\krypt\\\\Julia proyects\\\\06_markdown.ipynb\"\n",
       " \"C:\\\\Users\\\\krypt\\\\Julia proyects\\\\07_plots.ipynb\"\n",
       " \"C:\\\\Users\\\\krypt\\\\Julia proyects\\\\07_plots.pdf\"\n",
       " \"C:\\\\Users\\\\krypt\\\\Julia proyects\\\\08_texto (1).ipynb\"\n",
       " \"C:\\\\Users\\\\krypt\\\\Julia proyects\\\\08_texto (2).ipynb\"\n",
       " \"C:\\\\Users\\\\krypt\\\\Julia proyects\\\\09_archivos.ipynb\"\n",
       " \"C:\\\\Users\\\\krypt\\\\Julia proyects\\\\DifDiv.ipynb\"\n",
       " \"C:\\\\Users\\\\krypt\\\\Julia proyects\\\\Ejemplo01_Fibonacci.ipynb\"\n",
       " \"C:\\\\Users\\\\krypt\\\\Julia proyects\\\\Ejemplo02_Biseccion.ipynb\"\n",
       " \"C:\\\\Users\\\\krypt\\\\Julia proyects\\\\LetrasAcatlan.jpg\"\n",
       " \"C:\\\\Users\\\\krypt\\\\Julia proyects\\\\LogotipoFESA.png\"\n",
       " \"C:\\\\Users\\\\krypt\\\\Julia proyects\\\\MisFunciones.jl\"\n",
       " \"C:\\\\Users\\\\krypt\\\\Julia proyects\\\\Método de Bisección-Tarea (1).html\"\n",
       " \"C:\\\\Users\\\\krypt\\\\Julia proyects\\\\Método de Bisección-Tarea(pdf).pdf\"\n",
       " \"C:\\\\Users\\\\krypt\\\\Julia proyects\\\\Método de Bisección-Tarea.ipynb\"\n",
       " \"C:\\\\Users\\\\krypt\\\\Julia proyects\\\\Otra cosa.ipynb\"\n",
       " \"C:\\\\Users\\\\krypt\\\\Julia proyects\\\\método de bisección1.jpg\"\n",
       " \"C:\\\\Users\\\\krypt\\\\Julia proyects\\\\pininos.pdf\"\n",
       " \"C:\\\\Users\\\\krypt\\\\Julia proyects\\\\pininos.png\"\n",
       " \"C:\\\\Users\\\\krypt\\\\Julia proyects\\\\untitled.jl\""
      ]
     },
     "execution_count": 16,
     "metadata": {},
     "output_type": "execute_result"
    }
   ],
   "source": [
    "readdir(dir, join = true)"
   ]
  },
  {
   "cell_type": "code",
   "execution_count": 17,
   "metadata": {},
   "outputs": [
    {
     "data": {
      "text/plain": [
       "\"C:\\\\Users\\\\krypt\\\\Julia proyects\""
      ]
     },
     "execution_count": 17,
     "metadata": {},
     "output_type": "execute_result"
    }
   ],
   "source": [
    "dir"
   ]
  },
  {
   "cell_type": "code",
   "execution_count": 18,
   "metadata": {},
   "outputs": [
    {
     "data": {
      "text/plain": [
       "\"nuevaCarpeta\""
      ]
     },
     "execution_count": 18,
     "metadata": {},
     "output_type": "execute_result"
    }
   ],
   "source": [
    "mkdir(\"nuevaCarpeta\")"
   ]
  },
  {
   "cell_type": "code",
   "execution_count": 19,
   "metadata": {},
   "outputs": [
    {
     "data": {
      "text/plain": [
       "27-element Vector{String}:\n",
       " \".ipynb_checkpoints\"\n",
       " \"01_intro.ipynb\"\n",
       " \"02_numeros.ipynb\"\n",
       " \"03_operaciones.ipynb\"\n",
       " \"04_funciones.ipynb\"\n",
       " \"05_arreglos.ipynb\"\n",
       " \"06_markdown.ipynb\"\n",
       " \"07_plots.ipynb\"\n",
       " \"07_plots.pdf\"\n",
       " \"08_texto (1).ipynb\"\n",
       " \"08_texto (2).ipynb\"\n",
       " \"09_archivos.ipynb\"\n",
       " \"DifDiv.ipynb\"\n",
       " ⋮\n",
       " \"LetrasAcatlan.jpg\"\n",
       " \"LogotipoFESA.png\"\n",
       " \"MisFunciones.jl\"\n",
       " \"Método de Bisección-Tarea (1).html\"\n",
       " \"Método de Bisección-Tarea(pdf).pdf\"\n",
       " \"Método de Bisección-Tarea.ipynb\"\n",
       " \"Otra cosa.ipynb\"\n",
       " \"método de bisección1.jpg\"\n",
       " \"nuevaCarpeta\"\n",
       " \"pininos.pdf\"\n",
       " \"pininos.png\"\n",
       " \"untitled.jl\""
      ]
     },
     "execution_count": 19,
     "metadata": {},
     "output_type": "execute_result"
    }
   ],
   "source": [
    "readdir(dir)"
   ]
  },
  {
   "cell_type": "code",
   "execution_count": 20,
   "metadata": {},
   "outputs": [],
   "source": [
    "rm(\"nuevaCarpeta\")   #elimina la carpeta"
   ]
  },
  {
   "cell_type": "code",
   "execution_count": 21,
   "metadata": {},
   "outputs": [
    {
     "data": {
      "text/plain": [
       "26-element Vector{String}:\n",
       " \".ipynb_checkpoints\"\n",
       " \"01_intro.ipynb\"\n",
       " \"02_numeros.ipynb\"\n",
       " \"03_operaciones.ipynb\"\n",
       " \"04_funciones.ipynb\"\n",
       " \"05_arreglos.ipynb\"\n",
       " \"06_markdown.ipynb\"\n",
       " \"07_plots.ipynb\"\n",
       " \"07_plots.pdf\"\n",
       " \"08_texto (1).ipynb\"\n",
       " \"08_texto (2).ipynb\"\n",
       " \"09_archivos.ipynb\"\n",
       " \"DifDiv.ipynb\"\n",
       " \"Ejemplo01_Fibonacci.ipynb\"\n",
       " \"Ejemplo02_Biseccion.ipynb\"\n",
       " \"LetrasAcatlan.jpg\"\n",
       " \"LogotipoFESA.png\"\n",
       " \"MisFunciones.jl\"\n",
       " \"Método de Bisección-Tarea (1).html\"\n",
       " \"Método de Bisección-Tarea(pdf).pdf\"\n",
       " \"Método de Bisección-Tarea.ipynb\"\n",
       " \"Otra cosa.ipynb\"\n",
       " \"método de bisección1.jpg\"\n",
       " \"pininos.pdf\"\n",
       " \"pininos.png\"\n",
       " \"untitled.jl\""
      ]
     },
     "execution_count": 21,
     "metadata": {},
     "output_type": "execute_result"
    }
   ],
   "source": [
    "readdir(dir)"
   ]
  },
  {
   "cell_type": "markdown",
   "metadata": {},
   "source": [
    "## Lectura / escritura"
   ]
  },
  {
   "cell_type": "code",
   "execution_count": 24,
   "metadata": {},
   "outputs": [
    {
     "data": {
      "text/plain": [
       "26-element Vector{String}:\n",
       " \".ipynb_checkpoints\"\n",
       " \"01_intro.ipynb\"\n",
       " \"02_numeros.ipynb\"\n",
       " \"03_operaciones.ipynb\"\n",
       " \"04_funciones.ipynb\"\n",
       " \"05_arreglos.ipynb\"\n",
       " \"06_markdown.ipynb\"\n",
       " \"07_plots.ipynb\"\n",
       " \"07_plots.pdf\"\n",
       " \"08_texto (1).ipynb\"\n",
       " \"08_texto (2).ipynb\"\n",
       " \"09_archivos.ipynb\"\n",
       " \"DifDiv.ipynb\"\n",
       " \"Ejemplo01_Fibonacci.ipynb\"\n",
       " \"Ejemplo02_Biseccion.ipynb\"\n",
       " \"LetrasAcatlan.jpg\"\n",
       " \"LogotipoFESA.png\"\n",
       " \"MisFunciones.jl\"\n",
       " \"Método de Bisección-Tarea (1).html\"\n",
       " \"Método de Bisección-Tarea(pdf).pdf\"\n",
       " \"Método de Bisección-Tarea.ipynb\"\n",
       " \"Otra cosa.ipynb\"\n",
       " \"método de bisección1.jpg\"\n",
       " \"pininos.pdf\"\n",
       " \"pininos.png\"\n",
       " \"untitled.jl\""
      ]
     },
     "execution_count": 24,
     "metadata": {},
     "output_type": "execute_result"
    }
   ],
   "source": [
    "readdir(pwd())"
   ]
  },
  {
   "cell_type": "code",
   "execution_count": 25,
   "metadata": {},
   "outputs": [
    {
     "data": {
      "text/plain": [
       "IOStream(<file texto.txt>)"
      ]
     },
     "execution_count": 25,
     "metadata": {},
     "output_type": "execute_result"
    }
   ],
   "source": [
    "f = open(\"texto.txt\", \"w\") # abrir archivo con opción a escribir \"w\" = write, si no existe se crea."
   ]
  },
  {
   "cell_type": "code",
   "execution_count": 26,
   "metadata": {},
   "outputs": [
    {
     "data": {
      "text/plain": [
       "String[]"
      ]
     },
     "execution_count": 26,
     "metadata": {},
     "output_type": "execute_result"
    }
   ],
   "source": [
    "contenido = readlines(f)"
   ]
  },
  {
   "cell_type": "code",
   "execution_count": 27,
   "metadata": {},
   "outputs": [
    {
     "data": {
      "text/plain": [
       "19"
      ]
     },
     "execution_count": 27,
     "metadata": {},
     "output_type": "execute_result"
    }
   ],
   "source": [
    "frase1 = \"Adiós mundo cruel.\"\n",
    "write(f, frase1)"
   ]
  },
  {
   "cell_type": "code",
   "execution_count": 28,
   "metadata": {},
   "outputs": [],
   "source": [
    "close(f)"
   ]
  },
  {
   "cell_type": "code",
   "execution_count": 29,
   "metadata": {},
   "outputs": [
    {
     "data": {
      "text/plain": [
       "(18, 19)"
      ]
     },
     "execution_count": 29,
     "metadata": {},
     "output_type": "execute_result"
    }
   ],
   "source": [
    "length(frase1), sizeof(frase1)   # El acento en las lestras vale 2 bytes en lugar de uno como en las letras sin acento"
   ]
  },
  {
   "cell_type": "code",
   "execution_count": 30,
   "metadata": {},
   "outputs": [
    {
     "data": {
      "text/plain": [
       "27-element Vector{String}:\n",
       " \".ipynb_checkpoints\"\n",
       " \"01_intro.ipynb\"\n",
       " \"02_numeros.ipynb\"\n",
       " \"03_operaciones.ipynb\"\n",
       " \"04_funciones.ipynb\"\n",
       " \"05_arreglos.ipynb\"\n",
       " \"06_markdown.ipynb\"\n",
       " \"07_plots.ipynb\"\n",
       " \"07_plots.pdf\"\n",
       " \"08_texto (1).ipynb\"\n",
       " \"08_texto (2).ipynb\"\n",
       " \"09_archivos.ipynb\"\n",
       " \"DifDiv.ipynb\"\n",
       " ⋮\n",
       " \"LetrasAcatlan.jpg\"\n",
       " \"LogotipoFESA.png\"\n",
       " \"MisFunciones.jl\"\n",
       " \"Método de Bisección-Tarea (1).html\"\n",
       " \"Método de Bisección-Tarea(pdf).pdf\"\n",
       " \"Método de Bisección-Tarea.ipynb\"\n",
       " \"Otra cosa.ipynb\"\n",
       " \"método de bisección1.jpg\"\n",
       " \"pininos.pdf\"\n",
       " \"pininos.png\"\n",
       " \"texto.txt\"\n",
       " \"untitled.jl\""
      ]
     },
     "execution_count": 30,
     "metadata": {},
     "output_type": "execute_result"
    }
   ],
   "source": [
    "readdir(pwd())"
   ]
  },
  {
   "cell_type": "code",
   "execution_count": 31,
   "metadata": {},
   "outputs": [
    {
     "data": {
      "text/plain": [
       "IOStream(<file texto.txt>)"
      ]
     },
     "execution_count": 31,
     "metadata": {},
     "output_type": "execute_result"
    }
   ],
   "source": [
    "f = open(\"texto.txt\", \"r\") # abrir modo solo lectura \"r\" = read, también open(\"texto.txt\")"
   ]
  },
  {
   "cell_type": "code",
   "execution_count": 32,
   "metadata": {},
   "outputs": [
    {
     "data": {
      "text/plain": [
       "1-element Vector{String}:\n",
       " \"Adiós mundo cruel.\""
      ]
     },
     "execution_count": 32,
     "metadata": {},
     "output_type": "execute_result"
    }
   ],
   "source": [
    "contenido = readlines(f)"
   ]
  },
  {
   "cell_type": "code",
   "execution_count": 33,
   "metadata": {},
   "outputs": [
    {
     "ename": "LoadError",
     "evalue": "ArgumentError: write failed, IOStream is not writeable",
     "output_type": "error",
     "traceback": [
      "ArgumentError: write failed, IOStream is not writeable",
      "",
      "Stacktrace:",
      " [1] unsafe_write(s::IOStream, p::Ptr{UInt8}, nb::UInt64)",
      "   @ Base .\\iostream.jl:372",
      " [2] write(io::IOStream, s::String)",
      "   @ Base .\\strings\\io.jl:185",
      " [3] top-level scope",
      "   @ In[33]:1",
      " [4] eval",
      "   @ .\\boot.jl:360 [inlined]",
      " [5] include_string(mapexpr::typeof(REPL.softscope), mod::Module, code::String, filename::String)",
      "   @ Base .\\loading.jl:1116"
     ]
    }
   ],
   "source": [
    "write(f, \"Algo más\") # error porque está en modo de solo lectura"
   ]
  },
  {
   "cell_type": "code",
   "execution_count": 34,
   "metadata": {},
   "outputs": [],
   "source": [
    "close(f)"
   ]
  },
  {
   "cell_type": "code",
   "execution_count": 35,
   "metadata": {},
   "outputs": [
    {
     "data": {
      "text/plain": [
       "String[]"
      ]
     },
     "execution_count": 35,
     "metadata": {},
     "output_type": "execute_result"
    }
   ],
   "source": [
    "frase2 = \"Ya no lo soporto.\"\n",
    "f = open(\"texto.txt\", \"w\")\n",
    "write(f, frase2)\n",
    "contenido = readlines(f)"
   ]
  },
  {
   "cell_type": "markdown",
   "metadata": {},
   "source": [
    "Porque el archivo sigue abierto, la nueva información no se ha guardado, hay que cerrarlo:"
   ]
  },
  {
   "cell_type": "code",
   "execution_count": 36,
   "metadata": {},
   "outputs": [
    {
     "data": {
      "text/plain": [
       "1-element Vector{String}:\n",
       " \"Ya no lo soporto.\""
      ]
     },
     "execution_count": 36,
     "metadata": {},
     "output_type": "execute_result"
    }
   ],
   "source": [
    "close(f)\n",
    "f = open(\"texto.txt\")\n",
    "contenido = readlines(f)"
   ]
  },
  {
   "cell_type": "markdown",
   "metadata": {},
   "source": [
    "Nótese que ya no aparece el contenido anterior. Si lo que deseamos es agregar, entonces:"
   ]
  },
  {
   "cell_type": "code",
   "execution_count": 37,
   "metadata": {},
   "outputs": [
    {
     "data": {
      "text/plain": [
       "1-element Vector{String}:\n",
       " \"Ya no lo soporto.Adiós mundo cruel.\""
      ]
     },
     "execution_count": 37,
     "metadata": {},
     "output_type": "execute_result"
    }
   ],
   "source": [
    "f = open(\"texto.txt\", \"a\") # \"a\" = append\n",
    "write(f, frase1)\n",
    "close(f)\n",
    "f = open(\"texto.txt\")\n",
    "contenido = readlines(f)\n",
    "close(f)\n",
    "contenido"
   ]
  },
  {
   "cell_type": "markdown",
   "metadata": {},
   "source": [
    "Agregó el nuevo texto a continuación del existente, si deseamos que sea en una nueva línea debemos utilizar la instrucción `\\n`"
   ]
  },
  {
   "cell_type": "code",
   "execution_count": 38,
   "metadata": {},
   "outputs": [
    {
     "data": {
      "text/plain": [
       "2-element Vector{String}:\n",
       " \"Ya no lo soporto.Adiós mundo cruel.\"\n",
       " \"Nueva línea.\""
      ]
     },
     "execution_count": 38,
     "metadata": {},
     "output_type": "execute_result"
    }
   ],
   "source": [
    "frase3 = \"Nueva línea.\"\n",
    "f = open(\"texto.txt\", \"a\") # \"a\" = append\n",
    "write(f, \"\\n\" * frase3)\n",
    "close(f)\n",
    "f = open(\"texto.txt\")\n",
    "contenido = readlines(f)\n",
    "close(f)\n",
    "contenido"
   ]
  },
  {
   "cell_type": "code",
   "execution_count": 39,
   "metadata": {},
   "outputs": [
    {
     "data": {
      "text/plain": [
       "\" Me voy a Marte.\\nNo me esperen a cenar.\""
      ]
     },
     "execution_count": 39,
     "metadata": {},
     "output_type": "execute_result"
    }
   ],
   "source": [
    "frase4 = \" Me voy a Marte.\\nNo me esperen a cenar.\""
   ]
  },
  {
   "cell_type": "code",
   "execution_count": 45,
   "metadata": {},
   "outputs": [
    {
     "data": {
      "text/plain": [
       "8-element Vector{String}:\n",
       " \"Ya no lo soporto.Adiós mundo cruel.\"\n",
       " \"Nueva línea. Me voy a Marte.\"\n",
       " \"No me esperen a cenar. Me voy a Marte.\"\n",
       " \"No me esperen a cenar. Me voy a Marte.\"\n",
       " \"No me esperen a cenar. Me voy a Marte.\"\n",
       " \"No me esperen a cenar. Me voy a Marte.\"\n",
       " \"No me esperen a cenar. Me voy a Marte.\"\n",
       " \"No me esperen a cenar.\""
      ]
     },
     "execution_count": 45,
     "metadata": {},
     "output_type": "execute_result"
    }
   ],
   "source": [
    "f = open(\"texto.txt\", \"a\") # \"a\" = append\n",
    "write(f, frase4)\n",
    "close(f)\n",
    "f = open(\"texto.txt\")\n",
    "contenido = readlines(f)\n",
    "close(f)\n",
    "contenido\n"
   ]
  },
  {
   "cell_type": "code",
   "execution_count": 46,
   "metadata": {},
   "outputs": [
    {
     "data": {
      "text/plain": [
       "true"
      ]
     },
     "execution_count": 46,
     "metadata": {},
     "output_type": "execute_result"
    }
   ],
   "source": [
    "f = open(\"texto.txt\")\n",
    "isopen(f)"
   ]
  },
  {
   "cell_type": "code",
   "execution_count": 47,
   "metadata": {},
   "outputs": [
    {
     "data": {
      "text/plain": [
       "false"
      ]
     },
     "execution_count": 47,
     "metadata": {},
     "output_type": "execute_result"
    }
   ],
   "source": [
    "close(f)\n",
    "isopen(f)"
   ]
  },
  {
   "cell_type": "code",
   "execution_count": 48,
   "metadata": {},
   "outputs": [
    {
     "data": {
      "text/plain": [
       "8"
      ]
     },
     "execution_count": 48,
     "metadata": {},
     "output_type": "execute_result"
    }
   ],
   "source": [
    "f = open(\"texto.txt\")\n",
    "countlines(f)"
   ]
  },
  {
   "cell_type": "code",
   "execution_count": 49,
   "metadata": {},
   "outputs": [
    {
     "data": {
      "text/plain": [
       "48"
      ]
     },
     "execution_count": 49,
     "metadata": {},
     "output_type": "execute_result"
    }
   ],
   "source": [
    "contenido = readlines(f)\n",
    "sizeof(f)"
   ]
  },
  {
   "cell_type": "code",
   "execution_count": 51,
   "metadata": {},
   "outputs": [
    {
     "data": {
      "text/plain": [
       "String[]"
      ]
     },
     "execution_count": 51,
     "metadata": {},
     "output_type": "execute_result"
    }
   ],
   "source": [
    "contenido = readlines(f)"
   ]
  },
  {
   "cell_type": "code",
   "execution_count": 50,
   "metadata": {},
   "outputs": [],
   "source": [
    "close(f)"
   ]
  },
  {
   "cell_type": "markdown",
   "metadata": {},
   "source": [
    "## No texto"
   ]
  },
  {
   "cell_type": "code",
   "execution_count": 52,
   "metadata": {},
   "outputs": [
    {
     "data": {
      "text/plain": [
       "2×3 Matrix{Float64}:\n",
       " 0.943585  0.625855  0.371498\n",
       " 0.492278  0.892617  0.0556097"
      ]
     },
     "execution_count": 52,
     "metadata": {},
     "output_type": "execute_result"
    }
   ],
   "source": [
    "a = 1\n",
    "b = 2.5\n",
    "v = [1, 2, 3]\n",
    "M = rand(2, 3)"
   ]
  },
  {
   "cell_type": "code",
   "execution_count": 53,
   "metadata": {},
   "outputs": [
    {
     "data": {
      "text/plain": [
       "4-element Vector{Any}:\n",
       " 1\n",
       " 2.5\n",
       "  [1, 2, 3]\n",
       "  [0.9435853415003843 0.6258552244042808 0.3714981580072656; 0.49227787921358446 0.8926166176668335 0.055609733076666945]"
      ]
     },
     "execution_count": 53,
     "metadata": {},
     "output_type": "execute_result"
    }
   ],
   "source": [
    "X = [a, b, v, M]"
   ]
  },
  {
   "cell_type": "code",
   "execution_count": 54,
   "metadata": {},
   "outputs": [],
   "source": [
    "f = open(\"valores.txt\", \"w\")\n",
    "for e ∈ X\n",
    "    write(f, e)\n",
    "end\n",
    "close(f)"
   ]
  },
  {
   "cell_type": "code",
   "execution_count": 55,
   "metadata": {},
   "outputs": [
    {
     "data": {
      "text/plain": [
       "Vector{String} (alias for Array{String, 1})"
      ]
     },
     "execution_count": 55,
     "metadata": {},
     "output_type": "execute_result"
    }
   ],
   "source": [
    "f = open(\"valores.txt\")\n",
    "contenido = readlines(f)\n",
    "close(f)\n",
    "typeof(contenido)"
   ]
  },
  {
   "cell_type": "code",
   "execution_count": 56,
   "metadata": {},
   "outputs": [
    {
     "data": {
      "text/plain": [
       "1-element Vector{String}:\n",
       " \"\\x01\\0\\0\\0\\0\\0\\0\\0\\0\\0\\0\\0\\0\\0\\x04@\\x01\\0\\0\\0\\0\\0\\0\\0\\x02\\0\\0\\0\\0\\0\\0\\0\\x03\\0\\0\\0\\0\\0\\0\\0\\\"U\\xd7\\xe2\\xd91\\xee?\\xb4\\x0f\\xf1\\x13{\\x81\\xdf?\\xaa\\e\\e\\x89\\x01\\a\\xe4?\\x90ؗ\\xb9P\\x90\\xec?\\xac\\x96\\xca5\\xa0\\xc6\\xd7?@\\xa1\\xce\\x01\\xe1x\\xac?\""
      ]
     },
     "execution_count": 56,
     "metadata": {},
     "output_type": "execute_result"
    }
   ],
   "source": [
    "contenido"
   ]
  },
  {
   "cell_type": "markdown",
   "metadata": {},
   "source": [
    "Hay que convertir todo a texto:"
   ]
  },
  {
   "cell_type": "code",
   "execution_count": 57,
   "metadata": {},
   "outputs": [],
   "source": [
    "f = open(\"valores.txt\", \"w\")\n",
    "for e ∈ X\n",
    "    write(f, string(e))\n",
    "end\n",
    "close(f)"
   ]
  },
  {
   "cell_type": "code",
   "execution_count": 58,
   "metadata": {},
   "outputs": [
    {
     "data": {
      "text/plain": [
       "1-element Vector{String}:\n",
       " \"12.5[1, 2, 3][0.9435853415003843 0.6258552244042808 0.3714981580072656; 0.49227787921358446 0.8926166176668335 0.055609733076666945]\""
      ]
     },
     "execution_count": 58,
     "metadata": {},
     "output_type": "execute_result"
    }
   ],
   "source": [
    "f = open(\"valores.txt\")\n",
    "contenido = readlines(f)\n",
    "close(f)\n",
    "contenido"
   ]
  },
  {
   "cell_type": "markdown",
   "metadata": {},
   "source": [
    "Faltó indicar los saltos de línea mediante `\\n`"
   ]
  },
  {
   "cell_type": "code",
   "execution_count": 59,
   "metadata": {},
   "outputs": [],
   "source": [
    "f = open(\"valores.txt\", \"w\")\n",
    "for e ∈ X\n",
    "    write(f, string(e) * \"\\n\")\n",
    "end\n",
    "close(f)"
   ]
  },
  {
   "cell_type": "code",
   "execution_count": 60,
   "metadata": {},
   "outputs": [
    {
     "data": {
      "text/plain": [
       "4-element Vector{String}:\n",
       " \"1\"\n",
       " \"2.5\"\n",
       " \"[1, 2, 3]\"\n",
       " \"[0.9435853415003843 0.6258552244042808 0.3714981580072656; 0.49227787921358446 0.8926166176668335 0.055609733076666945]\""
      ]
     },
     "execution_count": 60,
     "metadata": {},
     "output_type": "execute_result"
    }
   ],
   "source": [
    "f = open(\"valores.txt\")\n",
    "contenido = readlines(f)\n",
    "close(f)\n",
    "contenido"
   ]
  },
  {
   "cell_type": "markdown",
   "metadata": {},
   "source": [
    "Y luego convertir a los tipos que sean convenientes:"
   ]
  },
  {
   "cell_type": "code",
   "execution_count": 61,
   "metadata": {},
   "outputs": [
    {
     "data": {
      "text/plain": [
       "1"
      ]
     },
     "execution_count": 61,
     "metadata": {},
     "output_type": "execute_result"
    }
   ],
   "source": [
    "eval(Meta.parse(contenido[1]))"
   ]
  },
  {
   "cell_type": "code",
   "execution_count": 62,
   "metadata": {},
   "outputs": [
    {
     "data": {
      "text/plain": [
       "2.5"
      ]
     },
     "execution_count": 62,
     "metadata": {},
     "output_type": "execute_result"
    }
   ],
   "source": [
    "eval(Meta.parse(contenido[2]))"
   ]
  },
  {
   "cell_type": "code",
   "execution_count": 63,
   "metadata": {},
   "outputs": [
    {
     "data": {
      "text/plain": [
       "3-element Vector{Int64}:\n",
       " 1\n",
       " 2\n",
       " 3"
      ]
     },
     "execution_count": 63,
     "metadata": {},
     "output_type": "execute_result"
    }
   ],
   "source": [
    "eval(Meta.parse(contenido[3]))"
   ]
  },
  {
   "cell_type": "code",
   "execution_count": 64,
   "metadata": {},
   "outputs": [
    {
     "data": {
      "text/plain": [
       "2×3 Matrix{Float64}:\n",
       " 0.943585  0.625855  0.371498\n",
       " 0.492278  0.892617  0.0556097"
      ]
     },
     "execution_count": 64,
     "metadata": {},
     "output_type": "execute_result"
    }
   ],
   "source": [
    "eval(Meta.parse(contenido[4]))"
   ]
  },
  {
   "cell_type": "markdown",
   "metadata": {},
   "source": [
    "## Crear / leer un archivo separado por comas (CSV)"
   ]
  },
  {
   "cell_type": "code",
   "execution_count": 65,
   "metadata": {},
   "outputs": [
    {
     "data": {
      "text/plain": [
       "5-element Vector{Float64}:\n",
       " 0.15818789380682952\n",
       " 0.15035277076133013\n",
       " 0.5375136385817936\n",
       " 0.9081294707500334\n",
       " 0.15388126800446877"
      ]
     },
     "execution_count": 65,
     "metadata": {},
     "output_type": "execute_result"
    }
   ],
   "source": [
    "A = [1, 2, 3, 4, 5]\n",
    "B = [\"Alma\", \"Betina\", \"Carmela\", \"Dionisia\", \"Eleuteria\"]\n",
    "C = rand(5)"
   ]
  },
  {
   "cell_type": "code",
   "execution_count": 66,
   "metadata": {},
   "outputs": [
    {
     "data": {
      "text/plain": [
       "3-element Vector{Vector{T} where T}:\n",
       " [1, 2, 3, 4, 5]\n",
       " [\"Alma\", \"Betina\", \"Carmela\", \"Dionisia\", \"Eleuteria\"]\n",
       " [0.15818789380682952, 0.15035277076133013, 0.5375136385817936, 0.9081294707500334, 0.15388126800446877]"
      ]
     },
     "execution_count": 66,
     "metadata": {},
     "output_type": "execute_result"
    }
   ],
   "source": [
    "D = [A, B, C]"
   ]
  },
  {
   "cell_type": "code",
   "execution_count": 67,
   "metadata": {},
   "outputs": [
    {
     "data": {
      "text/plain": [
       "5-element Vector{String}:\n",
       " \"Alma\"\n",
       " \"Betina\"\n",
       " \"Carmela\"\n",
       " \"Dionisia\"\n",
       " \"Eleuteria\""
      ]
     },
     "execution_count": 67,
     "metadata": {},
     "output_type": "execute_result"
    }
   ],
   "source": [
    "D[2]"
   ]
  },
  {
   "cell_type": "code",
   "execution_count": 68,
   "metadata": {},
   "outputs": [],
   "source": [
    "f = open(\"prueba.csv\", \"w\")\n",
    "for i ∈ 1:length(D[1])   #En este caso se va a recorrer sobre los renglones.\n",
    "    for j ∈ 1:length(D)\n",
    "        if j < length(D)\n",
    "            write(f, string(D[j][i]) * \",\")\n",
    "        else\n",
    "            write(f, string(D[j][i]) * \"\\n\")\n",
    "        end\n",
    "    end\n",
    "end\n",
    "close(f)"
   ]
  },
  {
   "cell_type": "code",
   "execution_count": 69,
   "metadata": {},
   "outputs": [
    {
     "data": {
      "text/plain": [
       "5-element Vector{String}:\n",
       " \"1,Alma,0.15818789380682952\"\n",
       " \"2,Betina,0.15035277076133013\"\n",
       " \"3,Carmela,0.5375136385817936\"\n",
       " \"4,Dionisia,0.9081294707500334\"\n",
       " \"5,Eleuteria,0.15388126800446877\""
      ]
     },
     "execution_count": 69,
     "metadata": {},
     "output_type": "execute_result"
    }
   ],
   "source": [
    "f = open(\"prueba.csv\")\n",
    "contenido = readlines(f)\n",
    "close(f)\n",
    "contenido"
   ]
  },
  {
   "cell_type": "code",
   "execution_count": 70,
   "metadata": {},
   "outputs": [
    {
     "data": {
      "text/plain": [
       "5"
      ]
     },
     "execution_count": 70,
     "metadata": {},
     "output_type": "execute_result"
    }
   ],
   "source": [
    "nfilas = length(contenido)"
   ]
  },
  {
   "cell_type": "code",
   "execution_count": 71,
   "metadata": {},
   "outputs": [
    {
     "data": {
      "text/plain": [
       "3"
      ]
     },
     "execution_count": 71,
     "metadata": {},
     "output_type": "execute_result"
    }
   ],
   "source": [
    "ncolumnas = length(findall(\",\", contenido[1])) + 1"
   ]
  },
  {
   "cell_type": "code",
   "execution_count": 72,
   "metadata": {},
   "outputs": [
    {
     "data": {
      "text/plain": [
       "1-element Vector{Vector{String}}:\n",
       " [\"\", \"\", \"\", \"\", \"\"]"
      ]
     },
     "execution_count": 72,
     "metadata": {},
     "output_type": "execute_result"
    }
   ],
   "source": [
    "E = fill(fill(\"\", nfilas), 1)"
   ]
  },
  {
   "cell_type": "code",
   "execution_count": 73,
   "metadata": {},
   "outputs": [],
   "source": [
    "for j ∈ 2:ncolumnas\n",
    "    push!(E, fill(\"\", nfilas))\n",
    "end"
   ]
  },
  {
   "cell_type": "code",
   "execution_count": 74,
   "metadata": {},
   "outputs": [
    {
     "data": {
      "text/plain": [
       "3-element Vector{Vector{String}}:\n",
       " [\"\", \"\", \"\", \"\", \"\"]\n",
       " [\"\", \"\", \"\", \"\", \"\"]\n",
       " [\"\", \"\", \"\", \"\", \"\"]"
      ]
     },
     "execution_count": 74,
     "metadata": {},
     "output_type": "execute_result"
    }
   ],
   "source": [
    "E"
   ]
  },
  {
   "cell_type": "code",
   "execution_count": 75,
   "metadata": {},
   "outputs": [
    {
     "data": {
      "text/plain": [
       "\"1,Alma,0.15818789380682952\""
      ]
     },
     "execution_count": 75,
     "metadata": {},
     "output_type": "execute_result"
    }
   ],
   "source": [
    "contenido[1]"
   ]
  },
  {
   "cell_type": "code",
   "execution_count": 76,
   "metadata": {},
   "outputs": [
    {
     "data": {
      "text/plain": [
       "3-element Vector{SubString{String}}:\n",
       " \"1\"\n",
       " \"Alma\"\n",
       " \"0.15818789380682952\""
      ]
     },
     "execution_count": 76,
     "metadata": {},
     "output_type": "execute_result"
    }
   ],
   "source": [
    "split(contenido[1], \",\")"
   ]
  },
  {
   "cell_type": "code",
   "execution_count": 77,
   "metadata": {},
   "outputs": [
    {
     "data": {
      "text/plain": [
       "3-element Vector{Vector{String}}:\n",
       " [\"1\", \"2\", \"3\", \"4\", \"5\"]\n",
       " [\"Alma\", \"Betina\", \"Carmela\", \"Dionisia\", \"Eleuteria\"]\n",
       " [\"0.15818789380682952\", \"0.15035277076133013\", \"0.5375136385817936\", \"0.9081294707500334\", \"0.15388126800446877\"]"
      ]
     },
     "execution_count": 77,
     "metadata": {},
     "output_type": "execute_result"
    }
   ],
   "source": [
    "for i ∈ 1:length(E[1])\n",
    "    fila = split(contenido[i], \",\")\n",
    "    for j ∈ 1:length(E)\n",
    "        E[j][i] = fila[j]\n",
    "    end\n",
    "end\n",
    "E"
   ]
  },
  {
   "cell_type": "code",
   "execution_count": 78,
   "metadata": {},
   "outputs": [
    {
     "data": {
      "text/plain": [
       "convertir (generic function with 1 method)"
      ]
     },
     "execution_count": 78,
     "metadata": {},
     "output_type": "execute_result"
    }
   ],
   "source": [
    "convertir(x) = eval(Meta.parse(x))"
   ]
  },
  {
   "cell_type": "code",
   "execution_count": 79,
   "metadata": {},
   "outputs": [
    {
     "data": {
      "text/plain": [
       "5-element Vector{Int64}:\n",
       " 1\n",
       " 2\n",
       " 3\n",
       " 4\n",
       " 5"
      ]
     },
     "execution_count": 79,
     "metadata": {},
     "output_type": "execute_result"
    }
   ],
   "source": [
    "convertir.(E[1])"
   ]
  },
  {
   "cell_type": "code",
   "execution_count": 80,
   "metadata": {},
   "outputs": [
    {
     "data": {
      "text/plain": [
       "5-element Vector{Float64}:\n",
       " 0.15818789380682952\n",
       " 0.15035277076133013\n",
       " 0.5375136385817936\n",
       " 0.9081294707500334\n",
       " 0.15388126800446877"
      ]
     },
     "execution_count": 80,
     "metadata": {},
     "output_type": "execute_result"
    }
   ],
   "source": [
    "convertir.(E[3])"
   ]
  },
  {
   "cell_type": "code",
   "execution_count": 81,
   "metadata": {},
   "outputs": [
    {
     "data": {
      "text/plain": [
       "3-element Vector{Vector{T} where T}:\n",
       " [1, 2, 3, 4, 5]\n",
       " [\"Alma\", \"Betina\", \"Carmela\", \"Dionisia\", \"Eleuteria\"]\n",
       " [0.15818789380682952, 0.15035277076133013, 0.5375136385817936, 0.9081294707500334, 0.15388126800446877]"
      ]
     },
     "execution_count": 81,
     "metadata": {},
     "output_type": "execute_result"
    }
   ],
   "source": [
    "F = [convertir.(E[1]), E[2], convertir.(E[3])]"
   ]
  },
  {
   "cell_type": "code",
   "execution_count": 82,
   "metadata": {},
   "outputs": [
    {
     "data": {
      "text/plain": [
       "3-element Vector{Vector{T} where T}:\n",
       " [1, 2, 3, 4, 5]\n",
       " [\"Alma\", \"Betina\", \"Carmela\", \"Dionisia\", \"Eleuteria\"]\n",
       " [0.15818789380682952, 0.15035277076133013, 0.5375136385817936, 0.9081294707500334, 0.15388126800446877]"
      ]
     },
     "execution_count": 82,
     "metadata": {},
     "output_type": "execute_result"
    }
   ],
   "source": [
    "D"
   ]
  },
  {
   "cell_type": "code",
   "execution_count": 83,
   "metadata": {},
   "outputs": [
    {
     "data": {
      "text/plain": [
       "true"
      ]
     },
     "execution_count": 83,
     "metadata": {},
     "output_type": "execute_result"
    }
   ],
   "source": [
    "D == F"
   ]
  },
  {
   "cell_type": "code",
   "execution_count": 84,
   "metadata": {},
   "outputs": [
    {
     "data": {
      "text/plain": [
       "false"
      ]
     },
     "execution_count": 84,
     "metadata": {},
     "output_type": "execute_result"
    }
   ],
   "source": [
    "D === F"
   ]
  },
  {
   "cell_type": "code",
   "execution_count": null,
   "metadata": {},
   "outputs": [],
   "source": []
  }
 ],
 "metadata": {
  "kernelspec": {
   "display_name": "Julia 1.6.2",
   "language": "julia",
   "name": "julia-1.6"
  },
  "language_info": {
   "file_extension": ".jl",
   "mimetype": "application/julia",
   "name": "julia",
   "version": "1.6.2"
  }
 },
 "nbformat": 4,
 "nbformat_minor": 5
}
