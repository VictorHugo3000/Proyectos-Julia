{
 "cells": [
  {
   "cell_type": "code",
   "execution_count": 1,
   "metadata": {},
   "outputs": [],
   "source": [
    "# Statistics III   Midterm Exam # 1    May 19th, 2021"
   ]
  },
  {
   "cell_type": "code",
   "execution_count": 2,
   "metadata": {},
   "outputs": [],
   "source": [
    "# Use the this notebook as a template to generate a random sample, \n",
    "# make the required calculations using the appropriate `Julia` code, \n",
    "# and generate a text file with results to be sumitted."
   ]
  },
  {
   "cell_type": "code",
   "execution_count": 3,
   "metadata": {},
   "outputs": [],
   "source": [
    "# Type your 9-digit UNAM account number, name, and birth date, as in the following example:\n",
    "unamID = 123456789\n",
    "name = \"Ana Lucía Ramírez Pedroza\"\n",
    "birth = \"26032001\"; # ddmmyyyy"
   ]
  },
  {
   "cell_type": "code",
   "execution_count": 4,
   "metadata": {},
   "outputs": [],
   "source": [
    "# Generate a random sample with the following code:\n",
    "using Random\n",
    "n = sum(digits(unamID)[1:3])\n",
    "Random.seed!(unamID)\n",
    "sample = randn(n);"
   ]
  },
  {
   "cell_type": "code",
   "execution_count": 5,
   "metadata": {},
   "outputs": [
    {
     "name": "stdout",
     "output_type": "stream",
     "text": [
      "Loaded functions: Fn  Tn  EDA  Bn  cuantil_puntual  GoF  bootstrap  densidad\n",
      "Package dependencies: Distributions (just for Bn)\n"
     ]
    }
   ],
   "source": [
    "include(\"Stats3.jl\")"
   ]
  },
  {
   "cell_type": "code",
   "execution_count": 6,
   "metadata": {},
   "outputs": [
    {
     "data": {
      "text/plain": [
       "0.20833333333333334"
      ]
     },
     "execution_count": 6,
     "metadata": {},
     "output_type": "execute_result"
    }
   ],
   "source": [
    "# Write and/or reuse `Julia` code to obtain an unbiased and consistent \n",
    "# point estimation of the probability that a future observation will\n",
    "# belong to the interval ]0, 1] and save it with the name: point_estimate\n",
    "point_estimate = Tn(\"]0,1]\", sample)"
   ]
  },
  {
   "cell_type": "code",
   "execution_count": 7,
   "metadata": {},
   "outputs": [
    {
     "name": "stdout",
     "output_type": "stream",
     "text": [
      "Iterando... \n",
      "1\r",
      "2\r",
      "3\r",
      "4\r",
      "5\r",
      "6\r",
      "7\r",
      "...fin\n"
     ]
    },
    {
     "data": {
      "text/plain": [
       "(0.05680265304013315, 0.45425619168995546)"
      ]
     },
     "execution_count": 7,
     "metadata": {},
     "output_type": "execute_result"
    }
   ],
   "source": [
    "# Write and/or reuse `Julia` code to obtain a 99% bayesian interval estimation\n",
    "# of the probability that a future observation will belong to the interval ]0, 1]\n",
    "# and save it with the name: interval_estimate\n",
    "r = Bn(\"]0,1]\", sample, 0.99)\n",
    "interval_estimate = r.intervalo"
   ]
  },
  {
   "cell_type": "code",
   "execution_count": 8,
   "metadata": {},
   "outputs": [
    {
     "data": {
      "text/plain": [
       "0.19804624652667283"
      ]
     },
     "execution_count": 8,
     "metadata": {},
     "output_type": "execute_result"
    }
   ],
   "source": [
    "# Write and/or reuse `Julia` code to obtain a point estimation\n",
    "# of the 0.6 quantile and save it with the name: xi\n",
    "xi = cuantil_puntual(0.6, sample)"
   ]
  },
  {
   "cell_type": "code",
   "execution_count": 9,
   "metadata": {},
   "outputs": [],
   "source": [
    "# Generate a text file using the following code:\n",
    "filename = string(unamID) * \".txt\"\n",
    "f = open(filename, \"w\")\n",
    "info = string.([name, birth, unamID, point_estimate,\n",
    "       interval_estimate[1], interval_estimate[2], xi, time()])\n",
    "for i ∈ 1:length(info)\n",
    "    write(f, info[i])\n",
    "    write(f, \"\\n\")\n",
    "end\n",
    "close(f)"
   ]
  },
  {
   "cell_type": "code",
   "execution_count": null,
   "metadata": {},
   "outputs": [],
   "source": [
    "# Submit the text file in Google Classroom"
   ]
  }
 ],
 "metadata": {
  "kernelspec": {
   "display_name": "Julia 1.6.2",
   "language": "julia",
   "name": "julia-1.6"
  },
  "language_info": {
   "file_extension": ".jl",
   "mimetype": "application/julia",
   "name": "julia",
   "version": "1.6.2"
  }
 },
 "nbformat": 4,
 "nbformat_minor": 4
}
