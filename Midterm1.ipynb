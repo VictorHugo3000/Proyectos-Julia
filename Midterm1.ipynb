{
 "cells": [
  {
   "cell_type": "code",
   "execution_count": null,
   "metadata": {},
   "outputs": [],
   "source": [
    "# Statistics III   Midterm Exam # 1    May 19th, 2021"
   ]
  },
  {
   "cell_type": "code",
   "execution_count": null,
   "metadata": {},
   "outputs": [],
   "source": [
    "# Use the following code as a template to generate a random sample, \n",
    "# make the required calculations using the appropriate `Julia` code, \n",
    "# and generate a text file with results to be sumitted."
   ]
  },
  {
   "cell_type": "code",
   "execution_count": 3,
   "metadata": {},
   "outputs": [
    {
     "data": {
      "text/plain": [
       "9-element Vector{Int64}:\n",
       " 1\n",
       " 2\n",
       " 3\n",
       " 4\n",
       " 5\n",
       " 6\n",
       " 7\n",
       " 8\n",
       " 9"
      ]
     },
     "execution_count": 3,
     "metadata": {},
     "output_type": "execute_result"
    }
   ],
   "source": [
    "b=sort(digits(123456789))"
   ]
  },
  {
   "cell_type": "code",
   "execution_count": 4,
   "metadata": {},
   "outputs": [
    {
     "ename": "LoadError",
     "evalue": "MethodError: no method matching randn(::Vector{Int64})\n\u001b[0mClosest candidates are:\n\u001b[0m  randn() at C:\\buildbot\\worker\\package_win64\\build\\usr\\share\\julia\\stdlib\\v1.6\\Random\\src\\normal.jl:38\n\u001b[0m  randn(\u001b[91m::Random.AbstractRNG\u001b[39m) at C:\\buildbot\\worker\\package_win64\\build\\usr\\share\\julia\\stdlib\\v1.6\\Random\\src\\normal.jl:38\n\u001b[0m  randn(\u001b[91m::Random.AbstractRNG\u001b[39m, \u001b[91m::Type{Complex{T}}\u001b[39m) where T<:AbstractFloat at C:\\buildbot\\worker\\package_win64\\build\\usr\\share\\julia\\stdlib\\v1.6\\Random\\src\\normal.jl:90\n\u001b[0m  ...",
     "output_type": "error",
     "traceback": [
      "MethodError: no method matching randn(::Vector{Int64})\n\u001b[0mClosest candidates are:\n\u001b[0m  randn() at C:\\buildbot\\worker\\package_win64\\build\\usr\\share\\julia\\stdlib\\v1.6\\Random\\src\\normal.jl:38\n\u001b[0m  randn(\u001b[91m::Random.AbstractRNG\u001b[39m) at C:\\buildbot\\worker\\package_win64\\build\\usr\\share\\julia\\stdlib\\v1.6\\Random\\src\\normal.jl:38\n\u001b[0m  randn(\u001b[91m::Random.AbstractRNG\u001b[39m, \u001b[91m::Type{Complex{T}}\u001b[39m) where T<:AbstractFloat at C:\\buildbot\\worker\\package_win64\\build\\usr\\share\\julia\\stdlib\\v1.6\\Random\\src\\normal.jl:90\n\u001b[0m  ...",
      "",
      "Stacktrace:",
      " [1] top-level scope",
      "   @ In[4]:1",
      " [2] eval",
      "   @ .\\boot.jl:360 [inlined]",
      " [3] include_string(mapexpr::typeof(REPL.softscope), mod::Module, code::String, filename::String)",
      "   @ Base .\\loading.jl:1116"
     ]
    }
   ],
   "source": [
    "randn(b)"
   ]
  },
  {
   "cell_type": "code",
   "execution_count": 5,
   "metadata": {},
   "outputs": [],
   "source": [
    "# Type your 9-digit UNAM account number, name, and birth date, as in the following example:\n",
    "unamID = 123456789\n",
    "name = \"Ana Lucía Ramírez Pedroza\"\n",
    "birth = \"26032001\"; # ddmmyyyy"
   ]
  },
  {
   "cell_type": "code",
   "execution_count": 6,
   "metadata": {},
   "outputs": [],
   "source": [
    "# Generate a random sample with the following code:\n",
    "using Random\n",
    "n = sum(digits(unamID)[1:3])\n",
    "Random.seed!(unamID)\n",
    "sample = randn(n);"
   ]
  },
  {
   "cell_type": "code",
   "execution_count": 7,
   "metadata": {},
   "outputs": [],
   "source": [
    "# Write and/or reuse `Julia` code to obtain an unbiased and consistent \n",
    "# point estimation of the probability that a future observation will\n",
    "# belong to the interval ]0, 1] and save it with the name: point_estimate\n"
   ]
  },
  {
   "cell_type": "code",
   "execution_count": 8,
   "metadata": {},
   "outputs": [],
   "source": [
    "# Write and/or reuse `Julia` code to obtain a 99% bayesian interval estimation\n",
    "# of the probability that a future observation will belong to the interval ]0, 1]\n",
    "# and save it with the name: interval_estimate\n"
   ]
  },
  {
   "cell_type": "code",
   "execution_count": 9,
   "metadata": {},
   "outputs": [],
   "source": [
    "# Write and/or reuse `Julia` code to obtain a point estimation\n",
    "# of the 0.6 quantile and save it with the name: xi\n"
   ]
  },
  {
   "cell_type": "code",
   "execution_count": 10,
   "metadata": {},
   "outputs": [
    {
     "ename": "LoadError",
     "evalue": "UndefVarError: interval_estimate not defined",
     "output_type": "error",
     "traceback": [
      "UndefVarError: interval_estimate not defined",
      "",
      "Stacktrace:",
      " [1] top-level scope",
      "   @ In[10]:4",
      " [2] eval",
      "   @ .\\boot.jl:360 [inlined]",
      " [3] include_string(mapexpr::typeof(REPL.softscope), mod::Module, code::String, filename::String)",
      "   @ Base .\\loading.jl:1116"
     ]
    }
   ],
   "source": [
    "# Generate a text file using the following code:\n",
    "filename = string(unamID) * \".txt\"\n",
    "f = open(filename, \"w\")\n",
    "info = string.([name, birth, unamID, point_estimate,\n",
    "       interval_estimate[1], interval_estimate[2], xi, time()])\n",
    "for i ∈ 1:length(info)\n",
    "    write(f, info[i])\n",
    "    write(f, \"\\n\")\n",
    "end\n",
    "close(f)"
   ]
  },
  {
   "cell_type": "code",
   "execution_count": null,
   "metadata": {},
   "outputs": [],
   "source": [
    "# Submit the text file in Google Classroom"
   ]
  }
 ],
 "metadata": {
  "kernelspec": {
   "display_name": "Julia 1.6.2",
   "language": "julia",
   "name": "julia-1.6"
  },
  "language_info": {
   "file_extension": ".jl",
   "mimetype": "application/julia",
   "name": "julia",
   "version": "1.6.2"
  }
 },
 "nbformat": 4,
 "nbformat_minor": 4
}
