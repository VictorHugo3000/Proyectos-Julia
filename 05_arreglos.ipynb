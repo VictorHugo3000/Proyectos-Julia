{
 "cells": [
  {
   "cell_type": "markdown",
   "metadata": {},
   "source": [
    "# 5. Arreglos multidimensionales\n",
    "> Por Arturo Erdely"
   ]
  },
  {
   "cell_type": "markdown",
   "metadata": {},
   "source": [
    "Recordemos algunos los numéricos analizados hasta el momento:"
   ]
  },
  {
   "cell_type": "code",
   "execution_count": null,
   "metadata": {},
   "outputs": [],
   "source": [
    "typeof.((true, 1, 1.0, 1//1, 1 + 1im, 1.0 + 1.0im, 1//1 + 1//1*im))"
   ]
  },
  {
   "cell_type": "markdown",
   "metadata": {},
   "source": [
    "Crear un arreglo de ceros tipo *entero* con dimensiones $2\\times 3$:"
   ]
  },
  {
   "cell_type": "code",
   "execution_count": null,
   "metadata": {},
   "outputs": [],
   "source": [
    "A = zeros(Int64, 2, 3)"
   ]
  },
  {
   "cell_type": "markdown",
   "metadata": {},
   "source": [
    "De hecho bastaría con escribir `Int` y automáticamente se asignará el tipo `Int64` si se trata de una computadora a 64 bits, o bien el tipo `Int32` si es a 32 bits:"
   ]
  },
  {
   "cell_type": "code",
   "execution_count": null,
   "metadata": {},
   "outputs": [],
   "source": [
    "A = zeros(Int, 2, 3)"
   ]
  },
  {
   "cell_type": "markdown",
   "metadata": {},
   "source": [
    "Ahora un arreglo de unos tipo *racional* con dimensiones $3\\times 2$:"
   ]
  },
  {
   "cell_type": "code",
   "execution_count": null,
   "metadata": {},
   "outputs": [],
   "source": [
    "B = ones(Rational{Int64}, 3, 2)"
   ]
  },
  {
   "cell_type": "markdown",
   "metadata": {},
   "source": [
    "Un arreglo de tipo *Booleano* con puros falsos, dimensiones $1\\times 3$:"
   ]
  },
  {
   "cell_type": "code",
   "execution_count": null,
   "metadata": {},
   "outputs": [],
   "source": [
    "C = falses(1, 3)"
   ]
  },
  {
   "cell_type": "markdown",
   "metadata": {},
   "source": [
    "Booleano pero con verdaderos, dimensiones $3\\times 1$:"
   ]
  },
  {
   "cell_type": "code",
   "execution_count": null,
   "metadata": {},
   "outputs": [],
   "source": [
    "D = trues(3, 1)"
   ]
  },
  {
   "cell_type": "markdown",
   "metadata": {},
   "source": [
    "Arreglo de ceros de tipo *punto flotante* de dimensiones $2\\times 3\\times 4$:"
   ]
  },
  {
   "cell_type": "code",
   "execution_count": null,
   "metadata": {},
   "outputs": [],
   "source": [
    "E = zeros(Float64, 2, 3, 4)"
   ]
  },
  {
   "cell_type": "markdown",
   "metadata": {},
   "source": [
    "De hecho, si no se especifica el tipo numérico, por defecto es de punto flotante:"
   ]
  },
  {
   "cell_type": "code",
   "execution_count": null,
   "metadata": {},
   "outputs": [],
   "source": [
    "E = zeros(2, 3, 4)"
   ]
  },
  {
   "cell_type": "markdown",
   "metadata": {},
   "source": [
    "Una vez creado un arreglo, basta con especificar cada entrada mediante sus coordenadas entre corteches y separando por comas:"
   ]
  },
  {
   "cell_type": "code",
   "execution_count": null,
   "metadata": {},
   "outputs": [],
   "source": [
    "G = zeros(3,4)"
   ]
  },
  {
   "cell_type": "code",
   "execution_count": null,
   "metadata": {},
   "outputs": [],
   "source": [
    "G[2, 3] = π"
   ]
  },
  {
   "cell_type": "code",
   "execution_count": null,
   "metadata": {},
   "outputs": [],
   "source": [
    "G"
   ]
  },
  {
   "cell_type": "code",
   "execution_count": null,
   "metadata": {},
   "outputs": [],
   "source": [
    "G[2, 3]"
   ]
  },
  {
   "cell_type": "markdown",
   "metadata": {},
   "source": [
    "Modificar una fila completa:"
   ]
  },
  {
   "cell_type": "code",
   "execution_count": null,
   "metadata": {},
   "outputs": [],
   "source": [
    "G[1, :] = [1, 2, 3, 4]"
   ]
  },
  {
   "cell_type": "code",
   "execution_count": null,
   "metadata": {},
   "outputs": [],
   "source": [
    "G"
   ]
  },
  {
   "cell_type": "markdown",
   "metadata": {},
   "source": [
    "Modificar una columna:"
   ]
  },
  {
   "cell_type": "code",
   "execution_count": null,
   "metadata": {},
   "outputs": [],
   "source": [
    "G[: , 2] = ℯ # error porque falta un punto antes del símbolo `=` para vectorizar la asignación"
   ]
  },
  {
   "cell_type": "code",
   "execution_count": null,
   "metadata": {},
   "outputs": [],
   "source": [
    "G[: , 2] .= ℯ "
   ]
  },
  {
   "cell_type": "code",
   "execution_count": null,
   "metadata": {},
   "outputs": [],
   "source": [
    "G"
   ]
  },
  {
   "cell_type": "markdown",
   "metadata": {},
   "source": [
    "Obtener submatrices:"
   ]
  },
  {
   "cell_type": "code",
   "execution_count": null,
   "metadata": {},
   "outputs": [],
   "source": [
    "G[2:3, 3:4]"
   ]
  },
  {
   "cell_type": "code",
   "execution_count": null,
   "metadata": {},
   "outputs": [],
   "source": [
    "G[[1, 3], [2, 4]]"
   ]
  },
  {
   "cell_type": "markdown",
   "metadata": {},
   "source": [
    "Nótese que así puede defirse un arreglo de $3\\times 1$:"
   ]
  },
  {
   "cell_type": "code",
   "execution_count": null,
   "metadata": {},
   "outputs": [],
   "source": [
    "a = zeros(Int, 3, 1)"
   ]
  },
  {
   "cell_type": "markdown",
   "metadata": {},
   "source": [
    "Pero no es mismo que un vector:"
   ]
  },
  {
   "cell_type": "code",
   "execution_count": null,
   "metadata": {},
   "outputs": [],
   "source": [
    "v = [0, 0, 0]"
   ]
  },
  {
   "cell_type": "code",
   "execution_count": null,
   "metadata": {},
   "outputs": [],
   "source": [
    "a == v"
   ]
  },
  {
   "cell_type": "markdown",
   "metadata": {},
   "source": [
    "Y así puede definirse un arreglo de $1\\times 3$:"
   ]
  },
  {
   "cell_type": "code",
   "execution_count": null,
   "metadata": {},
   "outputs": [],
   "source": [
    "[1 2 3]"
   ]
  },
  {
   "cell_type": "markdown",
   "metadata": {},
   "source": [
    "O así uno de $2\\times 3$:"
   ]
  },
  {
   "cell_type": "code",
   "execution_count": null,
   "metadata": {},
   "outputs": [],
   "source": [
    "[1 2 3; 4 5 6]"
   ]
  },
  {
   "cell_type": "markdown",
   "metadata": {},
   "source": [
    "También es posible crear arreglos de esta forma:"
   ]
  },
  {
   "cell_type": "code",
   "execution_count": 1,
   "metadata": {},
   "outputs": [
    {
     "data": {
      "text/plain": [
       "3×5 Matrix{Int64}:\n",
       " 9  9  9  9  9\n",
       " 9  9  9  9  9\n",
       " 9  9  9  9  9"
      ]
     },
     "execution_count": 1,
     "metadata": {},
     "output_type": "execute_result"
    }
   ],
   "source": [
    "H = fill(9, 3, 5)"
   ]
  },
  {
   "cell_type": "markdown",
   "metadata": {},
   "source": [
    "También es posible crear **vectores o arreglos de funciones**, por ejemplo:"
   ]
  },
  {
   "cell_type": "code",
   "execution_count": 5,
   "metadata": {},
   "outputs": [
    {
     "data": {
      "text/plain": [
       "h (generic function with 1 method)"
      ]
     },
     "execution_count": 5,
     "metadata": {},
     "output_type": "execute_result"
    }
   ],
   "source": [
    "f(x) = 2x + 1\n",
    "g(x) = x^2\n",
    "h(x) = x^3 "
   ]
  },
  {
   "cell_type": "code",
   "execution_count": 6,
   "metadata": {},
   "outputs": [
    {
     "data": {
      "text/plain": [
       "3-element Vector{Function}:\n",
       " f (generic function with 1 method)\n",
       " g (generic function with 1 method)\n",
       " h (generic function with 1 method)"
      ]
     },
     "execution_count": 6,
     "metadata": {},
     "output_type": "execute_result"
    }
   ],
   "source": [
    "I = [f, g, h]"
   ]
  },
  {
   "cell_type": "code",
   "execution_count": 7,
   "metadata": {},
   "outputs": [
    {
     "data": {
      "text/plain": [
       "25"
      ]
     },
     "execution_count": 7,
     "metadata": {},
     "output_type": "execute_result"
    }
   ],
   "source": [
    "I[2](5)"
   ]
  },
  {
   "cell_type": "markdown",
   "metadata": {},
   "source": [
    "Crearemos un arreglo `J` de funciones, como composición de pares de funciones del vector de funciones `I`:"
   ]
  },
  {
   "cell_type": "code",
   "execution_count": 8,
   "metadata": {},
   "outputs": [
    {
     "data": {
      "text/plain": [
       "3×3 Matrix{Function}:\n",
       " #undef  #undef  #undef\n",
       " #undef  #undef  #undef\n",
       " #undef  #undef  #undef"
      ]
     },
     "execution_count": 8,
     "metadata": {},
     "output_type": "execute_result"
    }
   ],
   "source": [
    "J = Array{Function, 2}(undef, 3, 3)"
   ]
  },
  {
   "cell_type": "code",
   "execution_count": 4,
   "metadata": {},
   "outputs": [
    {
     "ename": "LoadError",
     "evalue": "UndefVarError: x not defined",
     "output_type": "error",
     "traceback": [
      "UndefVarError: x not defined",
      "",
      "Stacktrace:",
      " [1] top-level scope",
      "   @ In[4]:1",
      " [2] eval",
      "   @ .\\boot.jl:360 [inlined]",
      " [3] include_string(mapexpr::typeof(REPL.softscope), mod::Module, code::String, filename::String)",
      "   @ Base .\\loading.jl:1116"
     ]
    }
   ],
   "source": [
    "L = Array{Function}(f(x),g(x),2,1)"
   ]
  },
  {
   "cell_type": "code",
   "execution_count": 2,
   "metadata": {},
   "outputs": [
    {
     "name": "stdout",
     "output_type": "stream",
     "text": [
      "search: \u001b[0m\u001b[1mA\u001b[22m\u001b[0m\u001b[1mr\u001b[22m\u001b[0m\u001b[1mr\u001b[22m\u001b[0m\u001b[1ma\u001b[22m\u001b[0m\u001b[1my\u001b[22m Sub\u001b[0m\u001b[1mA\u001b[22m\u001b[0m\u001b[1mr\u001b[22m\u001b[0m\u001b[1mr\u001b[22m\u001b[0m\u001b[1ma\u001b[22m\u001b[0m\u001b[1my\u001b[22m Bit\u001b[0m\u001b[1mA\u001b[22m\u001b[0m\u001b[1mr\u001b[22m\u001b[0m\u001b[1mr\u001b[22m\u001b[0m\u001b[1ma\u001b[22m\u001b[0m\u001b[1my\u001b[22m Dense\u001b[0m\u001b[1mA\u001b[22m\u001b[0m\u001b[1mr\u001b[22m\u001b[0m\u001b[1mr\u001b[22m\u001b[0m\u001b[1ma\u001b[22m\u001b[0m\u001b[1my\u001b[22m Strided\u001b[0m\u001b[1mA\u001b[22m\u001b[0m\u001b[1mr\u001b[22m\u001b[0m\u001b[1mr\u001b[22m\u001b[0m\u001b[1ma\u001b[22m\u001b[0m\u001b[1my\u001b[22m PermutedDims\u001b[0m\u001b[1mA\u001b[22m\u001b[0m\u001b[1mr\u001b[22m\u001b[0m\u001b[1mr\u001b[22m\u001b[0m\u001b[1ma\u001b[22m\u001b[0m\u001b[1my\u001b[22m\n",
      "\n"
     ]
    },
    {
     "data": {
      "text/latex": [
       "\\begin{verbatim}\n",
       "Array{T,N} <: AbstractArray{T,N}\n",
       "\\end{verbatim}\n",
       "\\texttt{N}-dimensional dense array with elements of type \\texttt{T}.\n",
       "\n",
       "\\rule{\\textwidth}{1pt}\n",
       "\\begin{verbatim}\n",
       "Array{T}(undef, dims)\n",
       "Array{T,N}(undef, dims)\n",
       "\\end{verbatim}\n",
       "Construct an uninitialized \\texttt{N}-dimensional \\href{@ref}{\\texttt{Array}} containing elements of type \\texttt{T}. \\texttt{N} can either be supplied explicitly, as in \\texttt{Array\\{T,N\\}(undef, dims)}, or be determined by the length or number of \\texttt{dims}. \\texttt{dims} may be a tuple or a series of integer arguments corresponding to the lengths in each dimension. If the rank \\texttt{N} is supplied explicitly, then it must match the length or number of \\texttt{dims}. See \\href{@ref}{\\texttt{undef}}.\n",
       "\n",
       "\\section{Examples}\n",
       "\\begin{verbatim}\n",
       "julia> A = Array{Float64, 2}(undef, 2, 3) # N given explicitly\n",
       "2×3 Array{Float64, 2}:\n",
       " 6.90198e-310  6.90198e-310  6.90198e-310\n",
       " 6.90198e-310  6.90198e-310  0.0\n",
       "\n",
       "julia> B = Array{Float64}(undef, 2) # N determined by the input\n",
       "2-element Array{Float64, 1}:\n",
       " 1.87103e-320\n",
       " 0.0\n",
       "\\end{verbatim}\n",
       "\\rule{\\textwidth}{1pt}\n",
       "\\begin{verbatim}\n",
       "Array{T}(nothing, dims)\n",
       "Array{T,N}(nothing, dims)\n",
       "\\end{verbatim}\n",
       "Construct an \\texttt{N}-dimensional \\href{@ref}{\\texttt{Array}} containing elements of type \\texttt{T}, initialized with \\href{@ref}{\\texttt{nothing}} entries. Element type \\texttt{T} must be able to hold these values, i.e. \\texttt{Nothing <: T}.\n",
       "\n",
       "\\section{Examples}\n",
       "\\begin{verbatim}\n",
       "julia> Array{Union{Nothing, String}}(nothing, 2)\n",
       "2-element Vector{Union{Nothing, String}}:\n",
       " nothing\n",
       " nothing\n",
       "\n",
       "julia> Array{Union{Nothing, Int}}(nothing, 2, 3)\n",
       "2×3 Matrix{Union{Nothing, Int64}}:\n",
       " nothing  nothing  nothing\n",
       " nothing  nothing  nothing\n",
       "\\end{verbatim}\n",
       "\\rule{\\textwidth}{1pt}\n",
       "\\begin{verbatim}\n",
       "Array{T}(missing, dims)\n",
       "Array{T,N}(missing, dims)\n",
       "\\end{verbatim}\n",
       "Construct an \\texttt{N}-dimensional \\href{@ref}{\\texttt{Array}} containing elements of type \\texttt{T}, initialized with \\href{@ref}{\\texttt{missing}} entries. Element type \\texttt{T} must be able to hold these values, i.e. \\texttt{Missing <: T}.\n",
       "\n",
       "\\section{Examples}\n",
       "\\begin{verbatim}\n",
       "julia> Array{Union{Missing, String}}(missing, 2)\n",
       "2-element Vector{Union{Missing, String}}:\n",
       " missing\n",
       " missing\n",
       "\n",
       "julia> Array{Union{Missing, Int}}(missing, 2, 3)\n",
       "2×3 Matrix{Union{Missing, Int64}}:\n",
       " missing  missing  missing\n",
       " missing  missing  missing\n",
       "\\end{verbatim}\n"
      ],
      "text/markdown": [
       "```\n",
       "Array{T,N} <: AbstractArray{T,N}\n",
       "```\n",
       "\n",
       "`N`-dimensional dense array with elements of type `T`.\n",
       "\n",
       "---\n",
       "\n",
       "```\n",
       "Array{T}(undef, dims)\n",
       "Array{T,N}(undef, dims)\n",
       "```\n",
       "\n",
       "Construct an uninitialized `N`-dimensional [`Array`](@ref) containing elements of type `T`. `N` can either be supplied explicitly, as in `Array{T,N}(undef, dims)`, or be determined by the length or number of `dims`. `dims` may be a tuple or a series of integer arguments corresponding to the lengths in each dimension. If the rank `N` is supplied explicitly, then it must match the length or number of `dims`. See [`undef`](@ref).\n",
       "\n",
       "# Examples\n",
       "\n",
       "```julia-repl\n",
       "julia> A = Array{Float64, 2}(undef, 2, 3) # N given explicitly\n",
       "2×3 Array{Float64, 2}:\n",
       " 6.90198e-310  6.90198e-310  6.90198e-310\n",
       " 6.90198e-310  6.90198e-310  0.0\n",
       "\n",
       "julia> B = Array{Float64}(undef, 2) # N determined by the input\n",
       "2-element Array{Float64, 1}:\n",
       " 1.87103e-320\n",
       " 0.0\n",
       "```\n",
       "\n",
       "---\n",
       "\n",
       "```\n",
       "Array{T}(nothing, dims)\n",
       "Array{T,N}(nothing, dims)\n",
       "```\n",
       "\n",
       "Construct an `N`-dimensional [`Array`](@ref) containing elements of type `T`, initialized with [`nothing`](@ref) entries. Element type `T` must be able to hold these values, i.e. `Nothing <: T`.\n",
       "\n",
       "# Examples\n",
       "\n",
       "```jldoctest\n",
       "julia> Array{Union{Nothing, String}}(nothing, 2)\n",
       "2-element Vector{Union{Nothing, String}}:\n",
       " nothing\n",
       " nothing\n",
       "\n",
       "julia> Array{Union{Nothing, Int}}(nothing, 2, 3)\n",
       "2×3 Matrix{Union{Nothing, Int64}}:\n",
       " nothing  nothing  nothing\n",
       " nothing  nothing  nothing\n",
       "```\n",
       "\n",
       "---\n",
       "\n",
       "```\n",
       "Array{T}(missing, dims)\n",
       "Array{T,N}(missing, dims)\n",
       "```\n",
       "\n",
       "Construct an `N`-dimensional [`Array`](@ref) containing elements of type `T`, initialized with [`missing`](@ref) entries. Element type `T` must be able to hold these values, i.e. `Missing <: T`.\n",
       "\n",
       "# Examples\n",
       "\n",
       "```jldoctest\n",
       "julia> Array{Union{Missing, String}}(missing, 2)\n",
       "2-element Vector{Union{Missing, String}}:\n",
       " missing\n",
       " missing\n",
       "\n",
       "julia> Array{Union{Missing, Int}}(missing, 2, 3)\n",
       "2×3 Matrix{Union{Missing, Int64}}:\n",
       " missing  missing  missing\n",
       " missing  missing  missing\n",
       "```\n"
      ],
      "text/plain": [
       "\u001b[36m  Array{T,N} <: AbstractArray{T,N}\u001b[39m\n",
       "\n",
       "  \u001b[36mN\u001b[39m-dimensional dense array with elements of type \u001b[36mT\u001b[39m.\n",
       "\n",
       "  ────────────────────────────────────────────────────────────────────────────\n",
       "\n",
       "\u001b[36m  Array{T}(undef, dims)\u001b[39m\n",
       "\u001b[36m  Array{T,N}(undef, dims)\u001b[39m\n",
       "\n",
       "  Construct an uninitialized \u001b[36mN\u001b[39m-dimensional \u001b[36mArray\u001b[39m containing elements of type\n",
       "  \u001b[36mT\u001b[39m. \u001b[36mN\u001b[39m can either be supplied explicitly, as in \u001b[36mArray{T,N}(undef, dims)\u001b[39m, or be\n",
       "  determined by the length or number of \u001b[36mdims\u001b[39m. \u001b[36mdims\u001b[39m may be a tuple or a series\n",
       "  of integer arguments corresponding to the lengths in each dimension. If the\n",
       "  rank \u001b[36mN\u001b[39m is supplied explicitly, then it must match the length or number of\n",
       "  \u001b[36mdims\u001b[39m. See \u001b[36mundef\u001b[39m.\n",
       "\n",
       "\u001b[1m  Examples\u001b[22m\n",
       "\u001b[1m  ≡≡≡≡≡≡≡≡≡≡\u001b[22m\n",
       "\n",
       "\u001b[36m  julia> A = Array{Float64, 2}(undef, 2, 3) # N given explicitly\u001b[39m\n",
       "\u001b[36m  2×3 Array{Float64, 2}:\u001b[39m\n",
       "\u001b[36m   6.90198e-310  6.90198e-310  6.90198e-310\u001b[39m\n",
       "\u001b[36m   6.90198e-310  6.90198e-310  0.0\u001b[39m\n",
       "\u001b[36m  \u001b[39m\n",
       "\u001b[36m  julia> B = Array{Float64}(undef, 2) # N determined by the input\u001b[39m\n",
       "\u001b[36m  2-element Array{Float64, 1}:\u001b[39m\n",
       "\u001b[36m   1.87103e-320\u001b[39m\n",
       "\u001b[36m   0.0\u001b[39m\n",
       "\n",
       "  ────────────────────────────────────────────────────────────────────────────\n",
       "\n",
       "\u001b[36m  Array{T}(nothing, dims)\u001b[39m\n",
       "\u001b[36m  Array{T,N}(nothing, dims)\u001b[39m\n",
       "\n",
       "  Construct an \u001b[36mN\u001b[39m-dimensional \u001b[36mArray\u001b[39m containing elements of type \u001b[36mT\u001b[39m, initialized\n",
       "  with \u001b[36mnothing\u001b[39m entries. Element type \u001b[36mT\u001b[39m must be able to hold these values, i.e.\n",
       "  \u001b[36mNothing <: T\u001b[39m.\n",
       "\n",
       "\u001b[1m  Examples\u001b[22m\n",
       "\u001b[1m  ≡≡≡≡≡≡≡≡≡≡\u001b[22m\n",
       "\n",
       "\u001b[36m  julia> Array{Union{Nothing, String}}(nothing, 2)\u001b[39m\n",
       "\u001b[36m  2-element Vector{Union{Nothing, String}}:\u001b[39m\n",
       "\u001b[36m   nothing\u001b[39m\n",
       "\u001b[36m   nothing\u001b[39m\n",
       "\u001b[36m  \u001b[39m\n",
       "\u001b[36m  julia> Array{Union{Nothing, Int}}(nothing, 2, 3)\u001b[39m\n",
       "\u001b[36m  2×3 Matrix{Union{Nothing, Int64}}:\u001b[39m\n",
       "\u001b[36m   nothing  nothing  nothing\u001b[39m\n",
       "\u001b[36m   nothing  nothing  nothing\u001b[39m\n",
       "\n",
       "  ────────────────────────────────────────────────────────────────────────────\n",
       "\n",
       "\u001b[36m  Array{T}(missing, dims)\u001b[39m\n",
       "\u001b[36m  Array{T,N}(missing, dims)\u001b[39m\n",
       "\n",
       "  Construct an \u001b[36mN\u001b[39m-dimensional \u001b[36mArray\u001b[39m containing elements of type \u001b[36mT\u001b[39m, initialized\n",
       "  with \u001b[36mmissing\u001b[39m entries. Element type \u001b[36mT\u001b[39m must be able to hold these values, i.e.\n",
       "  \u001b[36mMissing <: T\u001b[39m.\n",
       "\n",
       "\u001b[1m  Examples\u001b[22m\n",
       "\u001b[1m  ≡≡≡≡≡≡≡≡≡≡\u001b[22m\n",
       "\n",
       "\u001b[36m  julia> Array{Union{Missing, String}}(missing, 2)\u001b[39m\n",
       "\u001b[36m  2-element Vector{Union{Missing, String}}:\u001b[39m\n",
       "\u001b[36m   missing\u001b[39m\n",
       "\u001b[36m   missing\u001b[39m\n",
       "\u001b[36m  \u001b[39m\n",
       "\u001b[36m  julia> Array{Union{Missing, Int}}(missing, 2, 3)\u001b[39m\n",
       "\u001b[36m  2×3 Matrix{Union{Missing, Int64}}:\u001b[39m\n",
       "\u001b[36m   missing  missing  missing\u001b[39m\n",
       "\u001b[36m   missing  missing  missing\u001b[39m"
      ]
     },
     "execution_count": 2,
     "metadata": {},
     "output_type": "execute_result"
    }
   ],
   "source": [
    "?Array"
   ]
  },
  {
   "cell_type": "code",
   "execution_count": 6,
   "metadata": {},
   "outputs": [
    {
     "data": {
      "text/plain": [
       "3×3 Matrix{Function}:\n",
       " f ∘ f  f ∘ g  f ∘ h\n",
       " g ∘ f  g ∘ g  g ∘ h\n",
       " h ∘ f  h ∘ g  h ∘ h"
      ]
     },
     "execution_count": 6,
     "metadata": {},
     "output_type": "execute_result"
    }
   ],
   "source": [
    "for i ∈ 1:3\n",
    "    for j ∈ 1:3\n",
    "        J[i, j] = I[i] ∘ I[j]\n",
    "    end\n",
    "end\n",
    "J"
   ]
  },
  {
   "cell_type": "code",
   "execution_count": 7,
   "metadata": {},
   "outputs": [
    {
     "data": {
      "text/plain": [
       "g ∘ h"
      ]
     },
     "execution_count": 7,
     "metadata": {},
     "output_type": "execute_result"
    }
   ],
   "source": [
    "J[2, 3]"
   ]
  },
  {
   "cell_type": "code",
   "execution_count": 8,
   "metadata": {},
   "outputs": [
    {
     "data": {
      "text/plain": [
       "(201, 201)"
      ]
     },
     "execution_count": 8,
     "metadata": {},
     "output_type": "execute_result"
    }
   ],
   "source": [
    "J[1, 2](10), (f ∘ g)(10)"
   ]
  },
  {
   "cell_type": "markdown",
   "metadata": {},
   "source": [
    "## 5.1 Transformaciones"
   ]
  },
  {
   "cell_type": "code",
   "execution_count": 9,
   "metadata": {},
   "outputs": [
    {
     "data": {
      "text/plain": [
       "3×4 Matrix{Float64}:\n",
       " 0.0  0.0  0.0  0.0\n",
       " 0.0  0.0  0.0  0.0\n",
       " 0.0  0.0  0.0  0.0"
      ]
     },
     "execution_count": 9,
     "metadata": {},
     "output_type": "execute_result"
    }
   ],
   "source": [
    "K = zeros(3, 4)"
   ]
  },
  {
   "cell_type": "code",
   "execution_count": 10,
   "metadata": {},
   "outputs": [
    {
     "data": {
      "text/plain": [
       "3×4 Matrix{Float64}:\n",
       " 0.0  0.0  0.0  0.0\n",
       " 0.0  0.0  0.0  0.0\n",
       " 0.0  0.0  0.0  0.0"
      ]
     },
     "execution_count": 10,
     "metadata": {},
     "output_type": "execute_result"
    }
   ],
   "source": [
    "L = K # L se convierte en un espejo de K, y viceversa\n",
    "M = copy(K) # M es una copia independiente de K"
   ]
  },
  {
   "cell_type": "code",
   "execution_count": 11,
   "metadata": {},
   "outputs": [
    {
     "data": {
      "text/plain": [
       "3×4 Matrix{Float64}:\n",
       " 0.0  0.0  0.0  0.0\n",
       " 0.0  0.0  0.0  0.0\n",
       " 0.0  0.0  0.0  0.0"
      ]
     },
     "execution_count": 11,
     "metadata": {},
     "output_type": "execute_result"
    }
   ],
   "source": [
    "K"
   ]
  },
  {
   "cell_type": "code",
   "execution_count": 12,
   "metadata": {},
   "outputs": [
    {
     "data": {
      "text/plain": [
       "3×4 Matrix{Float64}:\n",
       " 0.0  0.0  0.0  0.0\n",
       " 0.0  0.0  0.0  0.0\n",
       " 0.0  0.0  0.0  0.0"
      ]
     },
     "execution_count": 12,
     "metadata": {},
     "output_type": "execute_result"
    }
   ],
   "source": [
    "L"
   ]
  },
  {
   "cell_type": "code",
   "execution_count": 13,
   "metadata": {},
   "outputs": [
    {
     "data": {
      "text/plain": [
       "3×4 Matrix{Float64}:\n",
       " 0.0  0.0  0.0  0.0\n",
       " 0.0  0.0  0.0  0.0\n",
       " 0.0  0.0  0.0  0.0"
      ]
     },
     "execution_count": 13,
     "metadata": {},
     "output_type": "execute_result"
    }
   ],
   "source": [
    "M"
   ]
  },
  {
   "cell_type": "code",
   "execution_count": 14,
   "metadata": {},
   "outputs": [
    {
     "data": {
      "text/plain": [
       "3×4 Matrix{Float64}:\n",
       " 0.0      0.0  0.0  0.0\n",
       " 3.14159  0.0  0.0  0.0\n",
       " 0.0      0.0  0.0  0.0"
      ]
     },
     "execution_count": 14,
     "metadata": {},
     "output_type": "execute_result"
    }
   ],
   "source": [
    "K[2, 1] = π\n",
    "K"
   ]
  },
  {
   "cell_type": "code",
   "execution_count": 15,
   "metadata": {},
   "outputs": [
    {
     "data": {
      "text/plain": [
       "3×4 Matrix{Float64}:\n",
       " 0.0      0.0  0.0  0.0\n",
       " 3.14159  0.0  0.0  0.0\n",
       " 0.0      0.0  0.0  0.0"
      ]
     },
     "execution_count": 15,
     "metadata": {},
     "output_type": "execute_result"
    }
   ],
   "source": [
    "L"
   ]
  },
  {
   "cell_type": "code",
   "execution_count": 16,
   "metadata": {},
   "outputs": [
    {
     "data": {
      "text/plain": [
       "3×4 Matrix{Float64}:\n",
       " 0.0  0.0  0.0  0.0\n",
       " 0.0  0.0  0.0  0.0\n",
       " 0.0  0.0  0.0  0.0"
      ]
     },
     "execution_count": 16,
     "metadata": {},
     "output_type": "execute_result"
    }
   ],
   "source": [
    "M"
   ]
  },
  {
   "cell_type": "code",
   "execution_count": 17,
   "metadata": {},
   "outputs": [
    {
     "data": {
      "text/plain": [
       "3×4 Matrix{Float64}:\n",
       " 0.0      0.0  0.0  0.0\n",
       " 3.14159  0.0  0.0  0.0\n",
       " 0.0      0.0  0.0  2.71828"
      ]
     },
     "execution_count": 17,
     "metadata": {},
     "output_type": "execute_result"
    }
   ],
   "source": [
    "L[3, 4] = ℯ\n",
    "L"
   ]
  },
  {
   "cell_type": "code",
   "execution_count": 18,
   "metadata": {},
   "outputs": [
    {
     "data": {
      "text/plain": [
       "3×4 Matrix{Float64}:\n",
       " 0.0      0.0  0.0  0.0\n",
       " 3.14159  0.0  0.0  0.0\n",
       " 0.0      0.0  0.0  2.71828"
      ]
     },
     "execution_count": 18,
     "metadata": {},
     "output_type": "execute_result"
    }
   ],
   "source": [
    "K"
   ]
  },
  {
   "cell_type": "code",
   "execution_count": 19,
   "metadata": {},
   "outputs": [
    {
     "data": {
      "text/plain": [
       "4×3 transpose(::Matrix{Float64}) with eltype Float64:\n",
       " 0.0  3.14159  0.0\n",
       " 0.0  0.0      0.0\n",
       " 0.0  0.0      0.0\n",
       " 0.0  0.0      2.71828"
      ]
     },
     "execution_count": 19,
     "metadata": {},
     "output_type": "execute_result"
    }
   ],
   "source": [
    "tK = transpose(K) # transpuesta"
   ]
  },
  {
   "cell_type": "code",
   "execution_count": 20,
   "metadata": {},
   "outputs": [],
   "source": [
    "rK = reshape(K, 6, 2)\n",
    "vK = vec(rK);"
   ]
  },
  {
   "cell_type": "code",
   "execution_count": 21,
   "metadata": {},
   "outputs": [
    {
     "data": {
      "text/plain": [
       "3×4 Matrix{Float64}:\n",
       " 0.0      0.0  0.0  0.0\n",
       " 3.14159  0.0  0.0  0.0\n",
       " 0.0      0.0  0.0  2.71828"
      ]
     },
     "execution_count": 21,
     "metadata": {},
     "output_type": "execute_result"
    }
   ],
   "source": [
    "K"
   ]
  },
  {
   "cell_type": "code",
   "execution_count": 22,
   "metadata": {},
   "outputs": [
    {
     "data": {
      "text/plain": [
       "6×2 Matrix{Float64}:\n",
       " 0.0      0.0\n",
       " 3.14159  0.0\n",
       " 0.0      0.0\n",
       " 0.0      0.0\n",
       " 0.0      0.0\n",
       " 0.0      2.71828"
      ]
     },
     "execution_count": 22,
     "metadata": {},
     "output_type": "execute_result"
    }
   ],
   "source": [
    "rK"
   ]
  },
  {
   "cell_type": "code",
   "execution_count": 23,
   "metadata": {},
   "outputs": [
    {
     "data": {
      "text/plain": [
       "12-element Vector{Float64}:\n",
       " 0.0\n",
       " 3.141592653589793\n",
       " 0.0\n",
       " 0.0\n",
       " 0.0\n",
       " 0.0\n",
       " 0.0\n",
       " 0.0\n",
       " 0.0\n",
       " 0.0\n",
       " 0.0\n",
       " 2.718281828459045"
      ]
     },
     "execution_count": 23,
     "metadata": {},
     "output_type": "execute_result"
    }
   ],
   "source": [
    "vK"
   ]
  },
  {
   "cell_type": "markdown",
   "metadata": {},
   "source": [
    "Rellenar mediante una sucesión:"
   ]
  },
  {
   "cell_type": "code",
   "execution_count": 24,
   "metadata": {},
   "outputs": [
    {
     "data": {
      "text/plain": [
       "1:12"
      ]
     },
     "execution_count": 24,
     "metadata": {},
     "output_type": "execute_result"
    }
   ],
   "source": [
    "1:12"
   ]
  },
  {
   "cell_type": "code",
   "execution_count": 25,
   "metadata": {},
   "outputs": [
    {
     "data": {
      "text/plain": [
       "12-element Vector{Int64}:\n",
       "  1\n",
       "  2\n",
       "  3\n",
       "  4\n",
       "  5\n",
       "  6\n",
       "  7\n",
       "  8\n",
       "  9\n",
       " 10\n",
       " 11\n",
       " 12"
      ]
     },
     "execution_count": 25,
     "metadata": {},
     "output_type": "execute_result"
    }
   ],
   "source": [
    "collect(1:12)"
   ]
  },
  {
   "cell_type": "code",
   "execution_count": 26,
   "metadata": {},
   "outputs": [
    {
     "data": {
      "text/plain": [
       "3×4 Matrix{Int64}:\n",
       " 1  4  7  10\n",
       " 2  5  8  11\n",
       " 3  6  9  12"
      ]
     },
     "execution_count": 26,
     "metadata": {},
     "output_type": "execute_result"
    }
   ],
   "source": [
    "N = reshape(collect(1:12), 3, 4)"
   ]
  },
  {
   "cell_type": "code",
   "execution_count": 27,
   "metadata": {},
   "outputs": [
    {
     "data": {
      "text/plain": [
       "3×4 transpose(::Matrix{Int64}) with eltype Int64:\n",
       " 1   2   3   4\n",
       " 5   6   7   8\n",
       " 9  10  11  12"
      ]
     },
     "execution_count": 27,
     "metadata": {},
     "output_type": "execute_result"
    }
   ],
   "source": [
    "P = transpose(reshape(collect(1:12), 4, 3))"
   ]
  },
  {
   "cell_type": "markdown",
   "metadata": {},
   "source": [
    "Obtener información sobre un arreglo:"
   ]
  },
  {
   "cell_type": "code",
   "execution_count": 28,
   "metadata": {},
   "outputs": [
    {
     "data": {
      "text/plain": [
       "2"
      ]
     },
     "execution_count": 28,
     "metadata": {},
     "output_type": "execute_result"
    }
   ],
   "source": [
    "ndims(P)"
   ]
  },
  {
   "cell_type": "code",
   "execution_count": 29,
   "metadata": {},
   "outputs": [
    {
     "data": {
      "text/plain": [
       "(3, 4)"
      ]
     },
     "execution_count": 29,
     "metadata": {},
     "output_type": "execute_result"
    }
   ],
   "source": [
    "size(P)"
   ]
  },
  {
   "cell_type": "code",
   "execution_count": 30,
   "metadata": {},
   "outputs": [
    {
     "data": {
      "text/plain": [
       "LinearAlgebra.Transpose{Int64, Matrix{Int64}}"
      ]
     },
     "execution_count": 30,
     "metadata": {},
     "output_type": "execute_result"
    }
   ],
   "source": [
    "typeof(P)"
   ]
  },
  {
   "cell_type": "code",
   "execution_count": 31,
   "metadata": {},
   "outputs": [
    {
     "data": {
      "text/plain": [
       "Int64"
      ]
     },
     "execution_count": 31,
     "metadata": {},
     "output_type": "execute_result"
    }
   ],
   "source": [
    "eltype(P)"
   ]
  },
  {
   "cell_type": "markdown",
   "metadata": {},
   "source": [
    "## 5.2 Operaciones"
   ]
  },
  {
   "cell_type": "markdown",
   "metadata": {},
   "source": [
    "Aplicar una función a todas los elementos de un arreglo:"
   ]
  },
  {
   "cell_type": "code",
   "execution_count": 32,
   "metadata": {},
   "outputs": [
    {
     "data": {
      "text/plain": [
       "ℓ (generic function with 1 method)"
      ]
     },
     "execution_count": 32,
     "metadata": {},
     "output_type": "execute_result"
    }
   ],
   "source": [
    "ℓ(x) = x^2 + 1"
   ]
  },
  {
   "cell_type": "code",
   "execution_count": 33,
   "metadata": {},
   "outputs": [
    {
     "data": {
      "text/plain": [
       "3×4 Matrix{Int64}:\n",
       "  2    5   10   17\n",
       " 26   37   50   65\n",
       " 82  101  122  145"
      ]
     },
     "execution_count": 33,
     "metadata": {},
     "output_type": "execute_result"
    }
   ],
   "source": [
    "ℓ.(P)"
   ]
  },
  {
   "cell_type": "code",
   "execution_count": 34,
   "metadata": {},
   "outputs": [
    {
     "data": {
      "text/plain": [
       "3×4 transpose(::Matrix{Int64}) with eltype Int64:\n",
       " 1   2   3   4\n",
       " 5   6   7   8\n",
       " 9  10  11  12"
      ]
     },
     "execution_count": 34,
     "metadata": {},
     "output_type": "execute_result"
    }
   ],
   "source": [
    "P"
   ]
  },
  {
   "cell_type": "code",
   "execution_count": 35,
   "metadata": {},
   "outputs": [
    {
     "ename": "LoadError",
     "evalue": "MethodError: no method matching +(::LinearAlgebra.Transpose{Int64, Matrix{Int64}}, ::Int64)\nFor element-wise addition, use broadcasting with dot syntax: array .+ scalar\n\u001b[0mClosest candidates are:\n\u001b[0m  +(::Any, ::Any, \u001b[91m::Any\u001b[39m, \u001b[91m::Any...\u001b[39m) at operators.jl:560\n\u001b[0m  +(\u001b[91m::T\u001b[39m, ::T) where T<:Union{Int128, Int16, Int32, Int64, Int8, UInt128, UInt16, UInt32, UInt64, UInt8} at int.jl:87\n\u001b[0m  +(\u001b[91m::T\u001b[39m, ::Integer) where T<:AbstractChar at char.jl:223\n\u001b[0m  ...",
     "output_type": "error",
     "traceback": [
      "MethodError: no method matching +(::LinearAlgebra.Transpose{Int64, Matrix{Int64}}, ::Int64)\nFor element-wise addition, use broadcasting with dot syntax: array .+ scalar\n\u001b[0mClosest candidates are:\n\u001b[0m  +(::Any, ::Any, \u001b[91m::Any\u001b[39m, \u001b[91m::Any...\u001b[39m) at operators.jl:560\n\u001b[0m  +(\u001b[91m::T\u001b[39m, ::T) where T<:Union{Int128, Int16, Int32, Int64, Int8, UInt128, UInt16, UInt32, UInt64, UInt8} at int.jl:87\n\u001b[0m  +(\u001b[91m::T\u001b[39m, ::Integer) where T<:AbstractChar at char.jl:223\n\u001b[0m  ...",
      "",
      "Stacktrace:",
      " [1] top-level scope",
      "   @ In[35]:1",
      " [2] eval",
      "   @ .\\boot.jl:360 [inlined]",
      " [3] include_string(mapexpr::typeof(REPL.softscope), mod::Module, code::String, filename::String)",
      "   @ Base .\\loading.jl:1116"
     ]
    }
   ],
   "source": [
    "P + 1 # error, porque falta vectorizar la operación"
   ]
  },
  {
   "cell_type": "code",
   "execution_count": 36,
   "metadata": {},
   "outputs": [
    {
     "data": {
      "text/plain": [
       "3×4 Matrix{Int64}:\n",
       "  2   3   4   5\n",
       "  6   7   8   9\n",
       " 10  11  12  13"
      ]
     },
     "execution_count": 36,
     "metadata": {},
     "output_type": "execute_result"
    }
   ],
   "source": [
    "P .+ 1"
   ]
  },
  {
   "cell_type": "code",
   "execution_count": 37,
   "metadata": {},
   "outputs": [
    {
     "data": {
      "text/plain": [
       "3×4 BitMatrix:\n",
       " 1  1  1  1\n",
       " 1  1  1  0\n",
       " 0  0  0  0"
      ]
     },
     "execution_count": 37,
     "metadata": {},
     "output_type": "execute_result"
    }
   ],
   "source": [
    "(P .+ 1) .≤ 8"
   ]
  },
  {
   "cell_type": "code",
   "execution_count": 38,
   "metadata": {},
   "outputs": [
    {
     "data": {
      "text/plain": [
       "3×4 transpose(::Matrix{Int64}) with eltype Int64:\n",
       " 1   2   3   4\n",
       " 5   6   7   8\n",
       " 9  10  11  12"
      ]
     },
     "execution_count": 38,
     "metadata": {},
     "output_type": "execute_result"
    }
   ],
   "source": [
    "P"
   ]
  },
  {
   "cell_type": "code",
   "execution_count": 39,
   "metadata": {},
   "outputs": [
    {
     "data": {
      "text/plain": [
       "3×4 Matrix{Int64}:\n",
       " 100   200   300   400\n",
       " 500   600   700   800\n",
       " 900  1000  1100  1200"
      ]
     },
     "execution_count": 39,
     "metadata": {},
     "output_type": "execute_result"
    }
   ],
   "source": [
    "Q = 100 .* P"
   ]
  },
  {
   "cell_type": "code",
   "execution_count": 40,
   "metadata": {},
   "outputs": [
    {
     "data": {
      "text/plain": [
       "3×4 Matrix{Int64}:\n",
       " 101   202   303   404\n",
       " 505   606   707   808\n",
       " 909  1010  1111  1212"
      ]
     },
     "execution_count": 40,
     "metadata": {},
     "output_type": "execute_result"
    }
   ],
   "source": [
    "P + Q"
   ]
  },
  {
   "cell_type": "code",
   "execution_count": 41,
   "metadata": {},
   "outputs": [
    {
     "data": {
      "text/plain": [
       "3×4 Matrix{Int64}:\n",
       "  100    400    900   1600\n",
       " 2500   3600   4900   6400\n",
       " 8100  10000  12100  14400"
      ]
     },
     "execution_count": 41,
     "metadata": {},
     "output_type": "execute_result"
    }
   ],
   "source": [
    "P .* Q # multiplicación P[i, j]*Q[i,j]"
   ]
  },
  {
   "cell_type": "code",
   "execution_count": 42,
   "metadata": {},
   "outputs": [
    {
     "data": {
      "text/plain": [
       "3×3 Matrix{Int64}:\n",
       " 1  4  7\n",
       " 2  5  8\n",
       " 3  6  9"
      ]
     },
     "execution_count": 42,
     "metadata": {},
     "output_type": "execute_result"
    }
   ],
   "source": [
    "R = reshape(collect(1:9), 3, 3)"
   ]
  },
  {
   "cell_type": "code",
   "execution_count": 43,
   "metadata": {},
   "outputs": [
    {
     "data": {
      "text/plain": [
       "3×3 Matrix{Int64}:\n",
       " 100  400  700\n",
       " 200  500  800\n",
       " 300  600  900"
      ]
     },
     "execution_count": 43,
     "metadata": {},
     "output_type": "execute_result"
    }
   ],
   "source": [
    "S = 100 .* R"
   ]
  },
  {
   "cell_type": "code",
   "execution_count": 44,
   "metadata": {},
   "outputs": [
    {
     "data": {
      "text/plain": [
       "3×3 Matrix{Int64}:\n",
       " 100  1600  4900\n",
       " 400  2500  6400\n",
       " 900  3600  8100"
      ]
     },
     "execution_count": 44,
     "metadata": {},
     "output_type": "execute_result"
    }
   ],
   "source": [
    "R .* S # multiplicación P[i, j]*Q[i,j]"
   ]
  },
  {
   "cell_type": "code",
   "execution_count": 45,
   "metadata": {},
   "outputs": [
    {
     "data": {
      "text/plain": [
       "3×3 Matrix{Int64}:\n",
       " 3000  6600  10200\n",
       " 3600  8100  12600\n",
       " 4200  9600  15000"
      ]
     },
     "execution_count": 45,
     "metadata": {},
     "output_type": "execute_result"
    }
   ],
   "source": [
    "R * S # multiplicación de matrices"
   ]
  },
  {
   "cell_type": "code",
   "execution_count": 46,
   "metadata": {},
   "outputs": [
    {
     "data": {
      "text/plain": [
       "3×3 Matrix{Float64}:\n",
       " 0.295472  0.148091  0.381601\n",
       " 0.650459  0.434262  0.597401\n",
       " 0.267837  0.289802  0.229698"
      ]
     },
     "execution_count": 46,
     "metadata": {},
     "output_type": "execute_result"
    }
   ],
   "source": [
    "T = rand(3, 3) # rellenar con números pseudoaleatorios con distribución Uniforme(0,1)"
   ]
  },
  {
   "cell_type": "code",
   "execution_count": 47,
   "metadata": {},
   "outputs": [
    {
     "data": {
      "text/plain": [
       "3×3 Matrix{Float64}:\n",
       " -9.86699  10.2964   -10.3869\n",
       "  1.42494  -4.61725    9.64132\n",
       "  9.70751  -6.18063    4.30094"
      ]
     },
     "execution_count": 47,
     "metadata": {},
     "output_type": "execute_result"
    }
   ],
   "source": [
    "invT = inv(T)"
   ]
  },
  {
   "cell_type": "code",
   "execution_count": 48,
   "metadata": {},
   "outputs": [
    {
     "data": {
      "text/plain": [
       "3×3 Matrix{Float64}:\n",
       " 1.0  0.0   0.0\n",
       " 0.0  1.0  -0.0\n",
       " 0.0  0.0   1.0"
      ]
     },
     "execution_count": 48,
     "metadata": {},
     "output_type": "execute_result"
    }
   ],
   "source": [
    "round.(T * invT, digits = 4)"
   ]
  },
  {
   "cell_type": "markdown",
   "metadata": {},
   "source": [
    "# Ejemplo"
   ]
  },
  {
   "cell_type": "code",
   "execution_count": 8,
   "metadata": {},
   "outputs": [
    {
     "data": {
      "text/plain": [
       "fibonacci2 (generic function with 1 method)"
      ]
     },
     "execution_count": 8,
     "metadata": {},
     "output_type": "execute_result"
    }
   ],
   "source": [
    "function fibonacci2(máximo)\n",
    "    ant = 0\n",
    "    sig = 1\n",
    "    contador = 2\n",
    "    while sig ≤ máximo\n",
    "        fib = ant + sig\n",
    "        ant = sig\n",
    "        sig = fib\n",
    "        contador+=1\n",
    "        \n",
    "    end\n",
    "    print(contador)\n",
    "    v = zeros(Int,contador)\n",
    "    v[2] = 1\n",
    "    for i in 3:contador\n",
    "        v[i] = v[i-1]+v[i-2]\n",
    "    end\n",
    "    return v # o bien podría omitirse\n",
    "end     "
   ]
  },
  {
   "cell_type": "code",
   "execution_count": 9,
   "metadata": {},
   "outputs": [
    {
     "name": "stdout",
     "output_type": "stream",
     "text": [
      "13"
     ]
    },
    {
     "data": {
      "text/plain": [
       "13-element Vector{Int64}:\n",
       "   0\n",
       "   1\n",
       "   1\n",
       "   2\n",
       "   3\n",
       "   5\n",
       "   8\n",
       "  13\n",
       "  21\n",
       "  34\n",
       "  55\n",
       "  89\n",
       " 144"
      ]
     },
     "execution_count": 9,
     "metadata": {},
     "output_type": "execute_result"
    }
   ],
   "source": [
    "fibonacci2(100)"
   ]
  },
  {
   "cell_type": "code",
   "execution_count": 10,
   "metadata": {},
   "outputs": [
    {
     "ename": "LoadError",
     "evalue": "UndefVarError: v not defined",
     "output_type": "error",
     "traceback": [
      "UndefVarError: v not defined",
      "",
      "Stacktrace:",
      " [1] top-level scope",
      "   @ :0",
      " [2] eval",
      "   @ .\\boot.jl:360 [inlined]",
      " [3] include_string(mapexpr::typeof(REPL.softscope), mod::Module, code::String, filename::String)",
      "   @ Base .\\loading.jl:1116"
     ]
    }
   ],
   "source": [
    "v"
   ]
  },
  {
   "cell_type": "code",
   "execution_count": 11,
   "metadata": {},
   "outputs": [],
   "source": [
    "using Plots"
   ]
  },
  {
   "cell_type": "code",
   "execution_count": 12,
   "metadata": {},
   "outputs": [
    {
     "ename": "LoadError",
     "evalue": "UndefVarError: v not defined",
     "output_type": "error",
     "traceback": [
      "UndefVarError: v not defined",
      "",
      "Stacktrace:",
      " [1] top-level scope",
      "   @ In[12]:1",
      " [2] eval",
      "   @ .\\boot.jl:360 [inlined]",
      " [3] include_string(mapexpr::typeof(REPL.softscope), mod::Module, code::String, filename::String)",
      "   @ Base .\\loading.jl:1116"
     ]
    }
   ],
   "source": [
    "plot(v)"
   ]
  },
  {
   "cell_type": "code",
   "execution_count": 56,
   "metadata": {},
   "outputs": [
    {
     "name": "stdout",
     "output_type": "stream",
     "text": [
      "search: \u001b[0m\u001b[1ma\u001b[22m\u001b[0m\u001b[1mp\u001b[22m\u001b[0m\u001b[1mp\u001b[22m\u001b[0m\u001b[1me\u001b[22m\u001b[0m\u001b[1mn\u001b[22m\u001b[0m\u001b[1md\u001b[22m\u001b[0m\u001b[1m!\u001b[22m\n",
      "\n"
     ]
    },
    {
     "data": {
      "text/latex": [
       "\\begin{verbatim}\n",
       "append!(collection, collections...) -> collection.\n",
       "\\end{verbatim}\n",
       "For an ordered container \\texttt{collection}, add the elements of each \\texttt{collections} to the end of it.\n",
       "\n",
       "\\begin{quote}\n",
       "\\textbf{compat}\n",
       "\n",
       "Julia 1.6\n",
       "\n",
       "Specifying multiple collections to be appended requires at least Julia 1.6.\n",
       "\n",
       "\\end{quote}\n",
       "\\section{Examples}\n",
       "\\begin{verbatim}\n",
       "julia> append!([1], [2, 3])\n",
       "3-element Vector{Int64}:\n",
       " 1\n",
       " 2\n",
       " 3\n",
       "\n",
       "julia> append!([1, 2, 3], [4, 5], [6])\n",
       "6-element Vector{Int64}:\n",
       " 1\n",
       " 2\n",
       " 3\n",
       " 4\n",
       " 5\n",
       " 6\n",
       "\\end{verbatim}\n",
       "Use \\href{@ref}{\\texttt{push!}} to add individual items to \\texttt{collection} which are not already themselves in another collection. The result of the preceding example is equivalent to \\texttt{push!([1, 2, 3], 4, 5, 6)}.\n",
       "\n",
       "See \\href{@ref}{\\texttt{sizehint!}} for notes about the performance model.\n",
       "\n"
      ],
      "text/markdown": [
       "```\n",
       "append!(collection, collections...) -> collection.\n",
       "```\n",
       "\n",
       "For an ordered container `collection`, add the elements of each `collections` to the end of it.\n",
       "\n",
       "!!! compat \"Julia 1.6\"\n",
       "    Specifying multiple collections to be appended requires at least Julia 1.6.\n",
       "\n",
       "\n",
       "# Examples\n",
       "\n",
       "```jldoctest\n",
       "julia> append!([1], [2, 3])\n",
       "3-element Vector{Int64}:\n",
       " 1\n",
       " 2\n",
       " 3\n",
       "\n",
       "julia> append!([1, 2, 3], [4, 5], [6])\n",
       "6-element Vector{Int64}:\n",
       " 1\n",
       " 2\n",
       " 3\n",
       " 4\n",
       " 5\n",
       " 6\n",
       "```\n",
       "\n",
       "Use [`push!`](@ref) to add individual items to `collection` which are not already themselves in another collection. The result of the preceding example is equivalent to `push!([1, 2, 3], 4, 5, 6)`.\n",
       "\n",
       "See [`sizehint!`](@ref) for notes about the performance model.\n"
      ],
      "text/plain": [
       "\u001b[36m  append!(collection, collections...) -> collection.\u001b[39m\n",
       "\n",
       "  For an ordered container \u001b[36mcollection\u001b[39m, add the elements of each \u001b[36mcollections\u001b[39m to\n",
       "  the end of it.\n",
       "\n",
       "\u001b[39m\u001b[1m  │ \u001b[22m\u001b[39m\u001b[1mJulia 1.6\u001b[22m\n",
       "\u001b[39m\u001b[1m  │\u001b[22m\n",
       "\u001b[39m\u001b[1m  │\u001b[22m  Specifying multiple collections to be appended requires at least\n",
       "\u001b[39m\u001b[1m  │\u001b[22m  Julia 1.6.\n",
       "\n",
       "\u001b[1m  Examples\u001b[22m\n",
       "\u001b[1m  ≡≡≡≡≡≡≡≡≡≡\u001b[22m\n",
       "\n",
       "\u001b[36m  julia> append!([1], [2, 3])\u001b[39m\n",
       "\u001b[36m  3-element Vector{Int64}:\u001b[39m\n",
       "\u001b[36m   1\u001b[39m\n",
       "\u001b[36m   2\u001b[39m\n",
       "\u001b[36m   3\u001b[39m\n",
       "\u001b[36m  \u001b[39m\n",
       "\u001b[36m  julia> append!([1, 2, 3], [4, 5], [6])\u001b[39m\n",
       "\u001b[36m  6-element Vector{Int64}:\u001b[39m\n",
       "\u001b[36m   1\u001b[39m\n",
       "\u001b[36m   2\u001b[39m\n",
       "\u001b[36m   3\u001b[39m\n",
       "\u001b[36m   4\u001b[39m\n",
       "\u001b[36m   5\u001b[39m\n",
       "\u001b[36m   6\u001b[39m\n",
       "\n",
       "  Use \u001b[36mpush!\u001b[39m to add individual items to \u001b[36mcollection\u001b[39m which are not already\n",
       "  themselves in another collection. The result of the preceding example is\n",
       "  equivalent to \u001b[36mpush!([1, 2, 3], 4, 5, 6)\u001b[39m.\n",
       "\n",
       "  See \u001b[36msizehint!\u001b[39m for notes about the performance model."
      ]
     },
     "execution_count": 56,
     "metadata": {},
     "output_type": "execute_result"
    }
   ],
   "source": [
    "?append!"
   ]
  },
  {
   "cell_type": "markdown",
   "metadata": {},
   "source": [
    "## Tarea\n",
    "\n",
    "Programar una tercera version de **fibonacci** utilizando la instrucción 'append!' de modo que se inicie un vector de longitud 2 [0,1] y que termine entregando un vector con todos los elementos de la sucesión del tipo [0,1,1,2,...] o bien utulizando el operador de union."
   ]
  },
  {
   "cell_type": "code",
   "execution_count": 19,
   "metadata": {},
   "outputs": [
    {
     "data": {
      "text/plain": [
       "fibonacci3 (generic function with 1 method)"
      ]
     },
     "execution_count": 19,
     "metadata": {},
     "output_type": "execute_result"
    }
   ],
   "source": [
    "function fibonacci3(máximo)\n",
    "    ant = 0\n",
    "    sig = 1\n",
    "    lista1 = [ant,sig]\n",
    "    #print(ant, \" \", sig)\n",
    "    while sig ≤ máximo\n",
    "        fib = ant + sig\n",
    "        ant = sig\n",
    "        sig = fib\n",
    "        print(\" \", fib)\n",
    "        append!(lista1,fib)\n",
    "    end\n",
    "    return lista1\n",
    "end     "
   ]
  },
  {
   "cell_type": "code",
   "execution_count": 20,
   "metadata": {},
   "outputs": [
    {
     "name": "stdout",
     "output_type": "stream",
     "text": [
      " 1 2 3 5 8 13 21 34 55 89 144"
     ]
    },
    {
     "data": {
      "text/plain": [
       "13-element Vector{Int64}:\n",
       "   0\n",
       "   1\n",
       "   1\n",
       "   2\n",
       "   3\n",
       "   5\n",
       "   8\n",
       "  13\n",
       "  21\n",
       "  34\n",
       "  55\n",
       "  89\n",
       " 144"
      ]
     },
     "execution_count": 20,
     "metadata": {},
     "output_type": "execute_result"
    }
   ],
   "source": [
    "fibonacci3(100)"
   ]
  },
  {
   "cell_type": "code",
   "execution_count": 21,
   "metadata": {},
   "outputs": [
    {
     "ename": "LoadError",
     "evalue": "UndefVarError: lista1 not defined",
     "output_type": "error",
     "traceback": [
      "UndefVarError: lista1 not defined",
      "",
      "Stacktrace:",
      " [1] top-level scope",
      "   @ In[21]:1",
      " [2] eval",
      "   @ .\\boot.jl:360 [inlined]",
      " [3] include_string(mapexpr::typeof(REPL.softscope), mod::Module, code::String, filename::String)",
      "   @ Base .\\loading.jl:1116"
     ]
    }
   ],
   "source": [
    "print(lista1)"
   ]
  },
  {
   "cell_type": "code",
   "execution_count": 22,
   "metadata": {},
   "outputs": [
    {
     "ename": "LoadError",
     "evalue": "syntax: incomplete: \"function\" at In[22]:1 requires end",
     "output_type": "error",
     "traceback": [
      "syntax: incomplete: \"function\" at In[22]:1 requires end",
      "",
      "Stacktrace:",
      " [1] top-level scope",
      "   @ In[22]:1",
      " [2] eval",
      "   @ .\\boot.jl:360 [inlined]",
      " [3] include_string(mapexpr::typeof(REPL.softscope), mod::Module, code::String, filename::String)",
      "   @ Base .\\loading.jl:1116"
     ]
    }
   ],
   "source": [
    "function fibonacci3(maximo)\n",
    "    v = [0,1]\n",
    "    "
   ]
  },
  {
   "cell_type": "code",
   "execution_count": 23,
   "metadata": {},
   "outputs": [
    {
     "ename": "LoadError",
     "evalue": "UndefVarError: lista1 not defined",
     "output_type": "error",
     "traceback": [
      "UndefVarError: lista1 not defined",
      "",
      "Stacktrace:",
      " [1] top-level scope",
      "   @ In[23]:1",
      " [2] eval",
      "   @ .\\boot.jl:360 [inlined]",
      " [3] include_string(mapexpr::typeof(REPL.softscope), mod::Module, code::String, filename::String)",
      "   @ Base .\\loading.jl:1116"
     ]
    }
   ],
   "source": [
    "plot(lista1)"
   ]
  },
  {
   "cell_type": "code",
   "execution_count": 24,
   "metadata": {},
   "outputs": [
    {
     "name": "stdout",
     "output_type": "stream",
     "text": [
      " 1 2 3 5 8 13 21 34 55 89 144"
     ]
    },
    {
     "data": {
      "image/svg+xml": [
       "<?xml version=\"1.0\" encoding=\"utf-8\"?>\n",
       "<svg xmlns=\"http://www.w3.org/2000/svg\" xmlns:xlink=\"http://www.w3.org/1999/xlink\" width=\"600\" height=\"400\" viewBox=\"0 0 2400 1600\">\n",
       "<defs>\n",
       "  <clipPath id=\"clip570\">\n",
       "    <rect x=\"0\" y=\"0\" width=\"2400\" height=\"1600\"/>\n",
       "  </clipPath>\n",
       "</defs>\n",
       "<path clip-path=\"url(#clip570)\" d=\"\n",
       "M0 1600 L2400 1600 L2400 0 L0 0  Z\n",
       "  \" fill=\"#ffffff\" fill-rule=\"evenodd\" fill-opacity=\"1\"/>\n",
       "<defs>\n",
       "  <clipPath id=\"clip571\">\n",
       "    <rect x=\"480\" y=\"0\" width=\"1681\" height=\"1600\"/>\n",
       "  </clipPath>\n",
       "</defs>\n",
       "<path clip-path=\"url(#clip570)\" d=\"\n",
       "M169.121 1486.45 L2352.76 1486.45 L2352.76 47.2441 L169.121 47.2441  Z\n",
       "  \" fill=\"#ffffff\" fill-rule=\"evenodd\" fill-opacity=\"1\"/>\n",
       "<defs>\n",
       "  <clipPath id=\"clip572\">\n",
       "    <rect x=\"169\" y=\"47\" width=\"2185\" height=\"1440\"/>\n",
       "  </clipPath>\n",
       "</defs>\n",
       "<polyline clip-path=\"url(#clip572)\" style=\"stroke:#000000; stroke-linecap:butt; stroke-linejoin:round; stroke-width:2; stroke-opacity:0.1; fill:none\" points=\"\n",
       "  488.426,1486.45 488.426,47.2441 \n",
       "  \"/>\n",
       "<polyline clip-path=\"url(#clip572)\" style=\"stroke:#000000; stroke-linecap:butt; stroke-linejoin:round; stroke-width:2; stroke-opacity:0.1; fill:none\" points=\"\n",
       "  917.6,1486.45 917.6,47.2441 \n",
       "  \"/>\n",
       "<polyline clip-path=\"url(#clip572)\" style=\"stroke:#000000; stroke-linecap:butt; stroke-linejoin:round; stroke-width:2; stroke-opacity:0.1; fill:none\" points=\"\n",
       "  1346.77,1486.45 1346.77,47.2441 \n",
       "  \"/>\n",
       "<polyline clip-path=\"url(#clip572)\" style=\"stroke:#000000; stroke-linecap:butt; stroke-linejoin:round; stroke-width:2; stroke-opacity:0.1; fill:none\" points=\"\n",
       "  1775.95,1486.45 1775.95,47.2441 \n",
       "  \"/>\n",
       "<polyline clip-path=\"url(#clip572)\" style=\"stroke:#000000; stroke-linecap:butt; stroke-linejoin:round; stroke-width:2; stroke-opacity:0.1; fill:none\" points=\"\n",
       "  2205.12,1486.45 2205.12,47.2441 \n",
       "  \"/>\n",
       "<polyline clip-path=\"url(#clip570)\" style=\"stroke:#000000; stroke-linecap:butt; stroke-linejoin:round; stroke-width:4; stroke-opacity:1; fill:none\" points=\"\n",
       "  169.121,1486.45 2352.76,1486.45 \n",
       "  \"/>\n",
       "<polyline clip-path=\"url(#clip570)\" style=\"stroke:#000000; stroke-linecap:butt; stroke-linejoin:round; stroke-width:4; stroke-opacity:1; fill:none\" points=\"\n",
       "  488.426,1486.45 488.426,1469.18 \n",
       "  \"/>\n",
       "<polyline clip-path=\"url(#clip570)\" style=\"stroke:#000000; stroke-linecap:butt; stroke-linejoin:round; stroke-width:4; stroke-opacity:1; fill:none\" points=\"\n",
       "  917.6,1486.45 917.6,1469.18 \n",
       "  \"/>\n",
       "<polyline clip-path=\"url(#clip570)\" style=\"stroke:#000000; stroke-linecap:butt; stroke-linejoin:round; stroke-width:4; stroke-opacity:1; fill:none\" points=\"\n",
       "  1346.77,1486.45 1346.77,1469.18 \n",
       "  \"/>\n",
       "<polyline clip-path=\"url(#clip570)\" style=\"stroke:#000000; stroke-linecap:butt; stroke-linejoin:round; stroke-width:4; stroke-opacity:1; fill:none\" points=\"\n",
       "  1775.95,1486.45 1775.95,1469.18 \n",
       "  \"/>\n",
       "<polyline clip-path=\"url(#clip570)\" style=\"stroke:#000000; stroke-linecap:butt; stroke-linejoin:round; stroke-width:4; stroke-opacity:1; fill:none\" points=\"\n",
       "  2205.12,1486.45 2205.12,1469.18 \n",
       "  \"/>\n",
       "<path clip-path=\"url(#clip570)\" d=\"M460.163 1543.18 L476.482 1543.18 L476.482 1547.12 L454.538 1547.12 L454.538 1543.18 Q457.2 1540.43 461.783 1535.8 Q466.389 1531.15 467.57 1529.81 Q469.815 1527.28 470.695 1525.55 Q471.598 1523.79 471.598 1522.1 Q471.598 1519.34 469.653 1517.61 Q467.732 1515.87 464.63 1515.87 Q462.431 1515.87 459.977 1516.63 Q457.547 1517.4 454.769 1518.95 L454.769 1514.23 Q457.593 1513.09 460.047 1512.51 Q462.501 1511.93 464.538 1511.93 Q469.908 1511.93 473.102 1514.62 Q476.297 1517.31 476.297 1521.8 Q476.297 1523.93 475.487 1525.85 Q474.7 1527.74 472.593 1530.34 Q472.014 1531.01 468.913 1534.23 Q465.811 1537.42 460.163 1543.18 Z\" fill=\"#000000\" fill-rule=\"evenodd\" fill-opacity=\"1\" /><path clip-path=\"url(#clip570)\" d=\"M486.297 1541.24 L491.181 1541.24 L491.181 1547.12 L486.297 1547.12 L486.297 1541.24 Z\" fill=\"#000000\" fill-rule=\"evenodd\" fill-opacity=\"1\" /><path clip-path=\"url(#clip570)\" d=\"M501.412 1512.56 L519.769 1512.56 L519.769 1516.5 L505.695 1516.5 L505.695 1524.97 Q506.713 1524.62 507.732 1524.46 Q508.75 1524.27 509.769 1524.27 Q515.556 1524.27 518.935 1527.44 Q522.315 1530.62 522.315 1536.03 Q522.315 1541.61 518.843 1544.71 Q515.371 1547.79 509.051 1547.79 Q506.875 1547.79 504.607 1547.42 Q502.361 1547.05 499.954 1546.31 L499.954 1541.61 Q502.037 1542.74 504.26 1543.3 Q506.482 1543.86 508.959 1543.86 Q512.963 1543.86 515.301 1541.75 Q517.639 1539.64 517.639 1536.03 Q517.639 1532.42 515.301 1530.31 Q512.963 1528.21 508.959 1528.21 Q507.084 1528.21 505.209 1528.62 Q503.357 1529.04 501.412 1529.92 L501.412 1512.56 Z\" fill=\"#000000\" fill-rule=\"evenodd\" fill-opacity=\"1\" /><path clip-path=\"url(#clip570)\" d=\"M884.764 1512.56 L903.121 1512.56 L903.121 1516.5 L889.047 1516.5 L889.047 1524.97 Q890.065 1524.62 891.084 1524.46 Q892.102 1524.27 893.121 1524.27 Q898.908 1524.27 902.287 1527.44 Q905.667 1530.62 905.667 1536.03 Q905.667 1541.61 902.195 1544.71 Q898.723 1547.79 892.403 1547.79 Q890.227 1547.79 887.959 1547.42 Q885.713 1547.05 883.306 1546.31 L883.306 1541.61 Q885.389 1542.74 887.612 1543.3 Q889.834 1543.86 892.311 1543.86 Q896.315 1543.86 898.653 1541.75 Q900.991 1539.64 900.991 1536.03 Q900.991 1532.42 898.653 1530.31 Q896.315 1528.21 892.311 1528.21 Q890.436 1528.21 888.561 1528.62 Q886.709 1529.04 884.764 1529.92 L884.764 1512.56 Z\" fill=\"#000000\" fill-rule=\"evenodd\" fill-opacity=\"1\" /><path clip-path=\"url(#clip570)\" d=\"M914.88 1541.24 L919.764 1541.24 L919.764 1547.12 L914.88 1547.12 L914.88 1541.24 Z\" fill=\"#000000\" fill-rule=\"evenodd\" fill-opacity=\"1\" /><path clip-path=\"url(#clip570)\" d=\"M939.949 1515.64 Q936.338 1515.64 934.509 1519.2 Q932.704 1522.75 932.704 1529.87 Q932.704 1536.98 934.509 1540.55 Q936.338 1544.09 939.949 1544.09 Q943.583 1544.09 945.389 1540.55 Q947.218 1536.98 947.218 1529.87 Q947.218 1522.75 945.389 1519.2 Q943.583 1515.64 939.949 1515.64 M939.949 1511.93 Q945.759 1511.93 948.815 1516.54 Q951.894 1521.12 951.894 1529.87 Q951.894 1538.6 948.815 1543.21 Q945.759 1547.79 939.949 1547.79 Q934.139 1547.79 931.06 1543.21 Q928.005 1538.6 928.005 1529.87 Q928.005 1521.12 931.06 1516.54 Q934.139 1511.93 939.949 1511.93 Z\" fill=\"#000000\" fill-rule=\"evenodd\" fill-opacity=\"1\" /><path clip-path=\"url(#clip570)\" d=\"M1313.09 1512.56 L1335.32 1512.56 L1335.32 1514.55 L1322.77 1547.12 L1317.88 1547.12 L1329.69 1516.5 L1313.09 1516.5 L1313.09 1512.56 Z\" fill=\"#000000\" fill-rule=\"evenodd\" fill-opacity=\"1\" /><path clip-path=\"url(#clip570)\" d=\"M1344.44 1541.24 L1349.32 1541.24 L1349.32 1547.12 L1344.44 1547.12 L1344.44 1541.24 Z\" fill=\"#000000\" fill-rule=\"evenodd\" fill-opacity=\"1\" /><path clip-path=\"url(#clip570)\" d=\"M1359.55 1512.56 L1377.91 1512.56 L1377.91 1516.5 L1363.83 1516.5 L1363.83 1524.97 Q1364.85 1524.62 1365.87 1524.46 Q1366.89 1524.27 1367.91 1524.27 Q1373.69 1524.27 1377.07 1527.44 Q1380.45 1530.62 1380.45 1536.03 Q1380.45 1541.61 1376.98 1544.71 Q1373.51 1547.79 1367.19 1547.79 Q1365.01 1547.79 1362.75 1547.42 Q1360.5 1547.05 1358.09 1546.31 L1358.09 1541.61 Q1360.18 1542.74 1362.4 1543.3 Q1364.62 1543.86 1367.1 1543.86 Q1371.1 1543.86 1373.44 1541.75 Q1375.78 1539.64 1375.78 1536.03 Q1375.78 1532.42 1373.44 1530.31 Q1371.1 1528.21 1367.1 1528.21 Q1365.22 1528.21 1363.35 1528.62 Q1361.5 1529.04 1359.55 1529.92 L1359.55 1512.56 Z\" fill=\"#000000\" fill-rule=\"evenodd\" fill-opacity=\"1\" /><path clip-path=\"url(#clip570)\" d=\"M1728.02 1543.18 L1735.66 1543.18 L1735.66 1516.82 L1727.35 1518.49 L1727.35 1514.23 L1735.61 1512.56 L1740.29 1512.56 L1740.29 1543.18 L1747.93 1543.18 L1747.93 1547.12 L1728.02 1547.12 L1728.02 1543.18 Z\" fill=\"#000000\" fill-rule=\"evenodd\" fill-opacity=\"1\" /><path clip-path=\"url(#clip570)\" d=\"M1767.37 1515.64 Q1763.76 1515.64 1761.93 1519.2 Q1760.13 1522.75 1760.13 1529.87 Q1760.13 1536.98 1761.93 1540.55 Q1763.76 1544.09 1767.37 1544.09 Q1771 1544.09 1772.81 1540.55 Q1774.64 1536.98 1774.64 1529.87 Q1774.64 1522.75 1772.81 1519.2 Q1771 1515.64 1767.37 1515.64 M1767.37 1511.93 Q1773.18 1511.93 1776.24 1516.54 Q1779.31 1521.12 1779.31 1529.87 Q1779.31 1538.6 1776.24 1543.21 Q1773.18 1547.79 1767.37 1547.79 Q1761.56 1547.79 1758.48 1543.21 Q1755.43 1538.6 1755.43 1529.87 Q1755.43 1521.12 1758.48 1516.54 Q1761.56 1511.93 1767.37 1511.93 Z\" fill=\"#000000\" fill-rule=\"evenodd\" fill-opacity=\"1\" /><path clip-path=\"url(#clip570)\" d=\"M1787.53 1541.24 L1792.42 1541.24 L1792.42 1547.12 L1787.53 1547.12 L1787.53 1541.24 Z\" fill=\"#000000\" fill-rule=\"evenodd\" fill-opacity=\"1\" /><path clip-path=\"url(#clip570)\" d=\"M1812.6 1515.64 Q1808.99 1515.64 1807.16 1519.2 Q1805.36 1522.75 1805.36 1529.87 Q1805.36 1536.98 1807.16 1540.55 Q1808.99 1544.09 1812.6 1544.09 Q1816.24 1544.09 1818.04 1540.55 Q1819.87 1536.98 1819.87 1529.87 Q1819.87 1522.75 1818.04 1519.2 Q1816.24 1515.64 1812.6 1515.64 M1812.6 1511.93 Q1818.41 1511.93 1821.47 1516.54 Q1824.55 1521.12 1824.55 1529.87 Q1824.55 1538.6 1821.47 1543.21 Q1818.41 1547.79 1812.6 1547.79 Q1806.79 1547.79 1803.71 1543.21 Q1800.66 1538.6 1800.66 1529.87 Q1800.66 1521.12 1803.71 1516.54 Q1806.79 1511.93 1812.6 1511.93 Z\" fill=\"#000000\" fill-rule=\"evenodd\" fill-opacity=\"1\" /><path clip-path=\"url(#clip570)\" d=\"M2157.69 1543.18 L2165.33 1543.18 L2165.33 1516.82 L2157.02 1518.49 L2157.02 1514.23 L2165.28 1512.56 L2169.96 1512.56 L2169.96 1543.18 L2177.6 1543.18 L2177.6 1547.12 L2157.69 1547.12 L2157.69 1543.18 Z\" fill=\"#000000\" fill-rule=\"evenodd\" fill-opacity=\"1\" /><path clip-path=\"url(#clip570)\" d=\"M2191.07 1543.18 L2207.39 1543.18 L2207.39 1547.12 L2185.44 1547.12 L2185.44 1543.18 Q2188.11 1540.43 2192.69 1535.8 Q2197.3 1531.15 2198.48 1529.81 Q2200.72 1527.28 2201.6 1525.55 Q2202.5 1523.79 2202.5 1522.1 Q2202.5 1519.34 2200.56 1517.61 Q2198.64 1515.87 2195.54 1515.87 Q2193.34 1515.87 2190.88 1516.63 Q2188.45 1517.4 2185.68 1518.95 L2185.68 1514.23 Q2188.5 1513.09 2190.95 1512.51 Q2193.41 1511.93 2195.44 1511.93 Q2200.81 1511.93 2204.01 1514.62 Q2207.2 1517.31 2207.2 1521.8 Q2207.2 1523.93 2206.39 1525.85 Q2205.61 1527.74 2203.5 1530.34 Q2202.92 1531.01 2199.82 1534.23 Q2196.72 1537.42 2191.07 1543.18 Z\" fill=\"#000000\" fill-rule=\"evenodd\" fill-opacity=\"1\" /><path clip-path=\"url(#clip570)\" d=\"M2217.2 1541.24 L2222.09 1541.24 L2222.09 1547.12 L2217.2 1547.12 L2217.2 1541.24 Z\" fill=\"#000000\" fill-rule=\"evenodd\" fill-opacity=\"1\" /><path clip-path=\"url(#clip570)\" d=\"M2232.32 1512.56 L2250.68 1512.56 L2250.68 1516.5 L2236.6 1516.5 L2236.6 1524.97 Q2237.62 1524.62 2238.64 1524.46 Q2239.66 1524.27 2240.68 1524.27 Q2246.46 1524.27 2249.84 1527.44 Q2253.22 1530.62 2253.22 1536.03 Q2253.22 1541.61 2249.75 1544.71 Q2246.28 1547.79 2239.96 1547.79 Q2237.78 1547.79 2235.51 1547.42 Q2233.27 1547.05 2230.86 1546.31 L2230.86 1541.61 Q2232.94 1542.74 2235.17 1543.3 Q2237.39 1543.86 2239.87 1543.86 Q2243.87 1543.86 2246.21 1541.75 Q2248.55 1539.64 2248.55 1536.03 Q2248.55 1532.42 2246.21 1530.31 Q2243.87 1528.21 2239.87 1528.21 Q2237.99 1528.21 2236.12 1528.62 Q2234.26 1529.04 2232.32 1529.92 L2232.32 1512.56 Z\" fill=\"#000000\" fill-rule=\"evenodd\" fill-opacity=\"1\" /><polyline clip-path=\"url(#clip572)\" style=\"stroke:#000000; stroke-linecap:butt; stroke-linejoin:round; stroke-width:2; stroke-opacity:0.1; fill:none\" points=\"\n",
       "  169.121,1445.72 2352.76,1445.72 \n",
       "  \"/>\n",
       "<polyline clip-path=\"url(#clip572)\" style=\"stroke:#000000; stroke-linecap:butt; stroke-linejoin:round; stroke-width:2; stroke-opacity:0.1; fill:none\" points=\"\n",
       "  169.121,1162.85 2352.76,1162.85 \n",
       "  \"/>\n",
       "<polyline clip-path=\"url(#clip572)\" style=\"stroke:#000000; stroke-linecap:butt; stroke-linejoin:round; stroke-width:2; stroke-opacity:0.1; fill:none\" points=\"\n",
       "  169.121,879.991 2352.76,879.991 \n",
       "  \"/>\n",
       "<polyline clip-path=\"url(#clip572)\" style=\"stroke:#000000; stroke-linecap:butt; stroke-linejoin:round; stroke-width:2; stroke-opacity:0.1; fill:none\" points=\"\n",
       "  169.121,597.129 2352.76,597.129 \n",
       "  \"/>\n",
       "<polyline clip-path=\"url(#clip572)\" style=\"stroke:#000000; stroke-linecap:butt; stroke-linejoin:round; stroke-width:2; stroke-opacity:0.1; fill:none\" points=\"\n",
       "  169.121,314.266 2352.76,314.266 \n",
       "  \"/>\n",
       "<polyline clip-path=\"url(#clip570)\" style=\"stroke:#000000; stroke-linecap:butt; stroke-linejoin:round; stroke-width:4; stroke-opacity:1; fill:none\" points=\"\n",
       "  169.121,1486.45 169.121,47.2441 \n",
       "  \"/>\n",
       "<polyline clip-path=\"url(#clip570)\" style=\"stroke:#000000; stroke-linecap:butt; stroke-linejoin:round; stroke-width:4; stroke-opacity:1; fill:none\" points=\"\n",
       "  169.121,1445.72 195.325,1445.72 \n",
       "  \"/>\n",
       "<polyline clip-path=\"url(#clip570)\" style=\"stroke:#000000; stroke-linecap:butt; stroke-linejoin:round; stroke-width:4; stroke-opacity:1; fill:none\" points=\"\n",
       "  169.121,1162.85 195.325,1162.85 \n",
       "  \"/>\n",
       "<polyline clip-path=\"url(#clip570)\" style=\"stroke:#000000; stroke-linecap:butt; stroke-linejoin:round; stroke-width:4; stroke-opacity:1; fill:none\" points=\"\n",
       "  169.121,879.991 195.325,879.991 \n",
       "  \"/>\n",
       "<polyline clip-path=\"url(#clip570)\" style=\"stroke:#000000; stroke-linecap:butt; stroke-linejoin:round; stroke-width:4; stroke-opacity:1; fill:none\" points=\"\n",
       "  169.121,597.129 195.325,597.129 \n",
       "  \"/>\n",
       "<polyline clip-path=\"url(#clip570)\" style=\"stroke:#000000; stroke-linecap:butt; stroke-linejoin:round; stroke-width:4; stroke-opacity:1; fill:none\" points=\"\n",
       "  169.121,314.266 195.325,314.266 \n",
       "  \"/>\n",
       "<path clip-path=\"url(#clip570)\" d=\"M121.177 1431.51 Q117.566 1431.51 115.737 1435.08 Q113.932 1438.62 113.932 1445.75 Q113.932 1452.86 115.737 1456.42 Q117.566 1459.96 121.177 1459.96 Q124.811 1459.96 126.617 1456.42 Q128.445 1452.86 128.445 1445.75 Q128.445 1438.62 126.617 1435.08 Q124.811 1431.51 121.177 1431.51 M121.177 1427.81 Q126.987 1427.81 130.043 1432.42 Q133.121 1437 133.121 1445.75 Q133.121 1454.48 130.043 1459.08 Q126.987 1463.67 121.177 1463.67 Q115.367 1463.67 112.288 1459.08 Q109.233 1454.48 109.233 1445.75 Q109.233 1437 112.288 1432.42 Q115.367 1427.81 121.177 1427.81 Z\" fill=\"#000000\" fill-rule=\"evenodd\" fill-opacity=\"1\" /><path clip-path=\"url(#clip570)\" d=\"M95.1817 1161.5 Q98.5382 1162.22 100.413 1164.49 Q102.311 1166.75 102.311 1170.09 Q102.311 1175.2 98.7928 1178 Q95.2743 1180.8 88.7928 1180.8 Q86.6169 1180.8 84.3021 1180.36 Q82.0105 1179.95 79.5568 1179.09 L79.5568 1174.58 Q81.5012 1175.71 83.816 1176.29 Q86.1308 1176.87 88.654 1176.87 Q93.0521 1176.87 95.3437 1175.13 Q97.6585 1173.4 97.6585 1170.09 Q97.6585 1167.03 95.5058 1165.32 Q93.3762 1163.58 89.5567 1163.58 L85.529 1163.58 L85.529 1159.74 L89.7419 1159.74 Q93.191 1159.74 95.0197 1158.37 Q96.8484 1156.99 96.8484 1154.39 Q96.8484 1151.73 94.9502 1150.32 Q93.0752 1148.88 89.5567 1148.88 Q87.6354 1148.88 85.4364 1149.3 Q83.2373 1149.72 80.5984 1150.6 L80.5984 1146.43 Q83.2605 1145.69 85.5753 1145.32 Q87.9132 1144.95 89.9734 1144.95 Q95.2974 1144.95 98.3993 1147.38 Q101.501 1149.79 101.501 1153.91 Q101.501 1156.78 99.8576 1158.77 Q98.2141 1160.74 95.1817 1161.5 Z\" fill=\"#000000\" fill-rule=\"evenodd\" fill-opacity=\"1\" /><path clip-path=\"url(#clip570)\" d=\"M121.177 1148.65 Q117.566 1148.65 115.737 1152.22 Q113.932 1155.76 113.932 1162.89 Q113.932 1169.99 115.737 1173.56 Q117.566 1177.1 121.177 1177.1 Q124.811 1177.1 126.617 1173.56 Q128.445 1169.99 128.445 1162.89 Q128.445 1155.76 126.617 1152.22 Q124.811 1148.65 121.177 1148.65 M121.177 1144.95 Q126.987 1144.95 130.043 1149.55 Q133.121 1154.14 133.121 1162.89 Q133.121 1171.61 130.043 1176.22 Q126.987 1180.8 121.177 1180.8 Q115.367 1180.8 112.288 1176.22 Q109.233 1171.61 109.233 1162.89 Q109.233 1154.14 112.288 1149.55 Q115.367 1144.95 121.177 1144.95 Z\" fill=\"#000000\" fill-rule=\"evenodd\" fill-opacity=\"1\" /><path clip-path=\"url(#clip570)\" d=\"M91.5938 878.128 Q88.4456 878.128 86.5938 880.28 Q84.7651 882.433 84.7651 886.183 Q84.7651 889.91 86.5938 892.086 Q88.4456 894.239 91.5938 894.239 Q94.7419 894.239 96.5706 892.086 Q98.4224 889.91 98.4224 886.183 Q98.4224 882.433 96.5706 880.28 Q94.7419 878.128 91.5938 878.128 M100.876 863.475 L100.876 867.734 Q99.1169 866.901 97.3113 866.461 Q95.5289 866.021 93.7697 866.021 Q89.1401 866.021 86.6864 869.146 Q84.2558 872.271 83.9086 878.59 Q85.2743 876.577 87.3345 875.512 Q89.3947 874.424 91.8715 874.424 Q97.0798 874.424 100.089 877.595 Q103.121 880.743 103.121 886.183 Q103.121 891.507 99.9733 894.725 Q96.8252 897.942 91.5938 897.942 Q85.5984 897.942 82.4271 893.359 Q79.2559 888.752 79.2559 880.026 Q79.2559 871.831 83.1447 866.97 Q87.0336 862.086 93.5845 862.086 Q95.3437 862.086 97.1261 862.433 Q98.9317 862.78 100.876 863.475 Z\" fill=\"#000000\" fill-rule=\"evenodd\" fill-opacity=\"1\" /><path clip-path=\"url(#clip570)\" d=\"M121.177 865.79 Q117.566 865.79 115.737 869.354 Q113.932 872.896 113.932 880.026 Q113.932 887.132 115.737 890.697 Q117.566 894.239 121.177 894.239 Q124.811 894.239 126.617 890.697 Q128.445 887.132 128.445 880.026 Q128.445 872.896 126.617 869.354 Q124.811 865.79 121.177 865.79 M121.177 862.086 Q126.987 862.086 130.043 866.692 Q133.121 871.276 133.121 880.026 Q133.121 888.752 130.043 893.359 Q126.987 897.942 121.177 897.942 Q115.367 897.942 112.288 893.359 Q109.233 888.752 109.233 880.026 Q109.233 871.276 112.288 866.692 Q115.367 862.086 121.177 862.086 Z\" fill=\"#000000\" fill-rule=\"evenodd\" fill-opacity=\"1\" /><path clip-path=\"url(#clip570)\" d=\"M81.154 613.691 L81.154 609.432 Q82.9133 610.265 84.7188 610.705 Q86.5243 611.145 88.2604 611.145 Q92.89 611.145 95.3206 608.043 Q97.7743 604.918 98.1215 598.575 Q96.7789 600.566 94.7187 601.631 Q92.6586 602.696 90.1586 602.696 Q84.9734 602.696 81.941 599.571 Q78.9318 596.423 78.9318 590.983 Q78.9318 585.659 82.0799 582.441 Q85.2281 579.224 90.4595 579.224 Q96.4548 579.224 99.603 583.83 Q102.774 588.413 102.774 597.163 Q102.774 605.335 98.8854 610.219 Q95.0197 615.08 88.4688 615.08 Q86.7095 615.08 84.904 614.733 Q83.0984 614.385 81.154 613.691 M90.4595 599.038 Q93.6076 599.038 95.4363 596.886 Q97.2882 594.733 97.2882 590.983 Q97.2882 587.256 95.4363 585.103 Q93.6076 582.927 90.4595 582.927 Q87.3114 582.927 85.4595 585.103 Q83.6308 587.256 83.6308 590.983 Q83.6308 594.733 85.4595 596.886 Q87.3114 599.038 90.4595 599.038 Z\" fill=\"#000000\" fill-rule=\"evenodd\" fill-opacity=\"1\" /><path clip-path=\"url(#clip570)\" d=\"M121.177 582.927 Q117.566 582.927 115.737 586.492 Q113.932 590.034 113.932 597.163 Q113.932 604.27 115.737 607.835 Q117.566 611.376 121.177 611.376 Q124.811 611.376 126.617 607.835 Q128.445 604.27 128.445 597.163 Q128.445 590.034 126.617 586.492 Q124.811 582.927 121.177 582.927 M121.177 579.224 Q126.987 579.224 130.043 583.83 Q133.121 588.413 133.121 597.163 Q133.121 605.89 130.043 610.497 Q126.987 615.08 121.177 615.08 Q115.367 615.08 112.288 610.497 Q109.233 605.89 109.233 597.163 Q109.233 588.413 112.288 583.83 Q115.367 579.224 121.177 579.224 Z\" fill=\"#000000\" fill-rule=\"evenodd\" fill-opacity=\"1\" /><path clip-path=\"url(#clip570)\" d=\"M51.6634 327.611 L59.3023 327.611 L59.3023 301.245 L50.9921 302.912 L50.9921 298.653 L59.256 296.986 L63.9319 296.986 L63.9319 327.611 L71.5707 327.611 L71.5707 331.546 L51.6634 331.546 L51.6634 327.611 Z\" fill=\"#000000\" fill-rule=\"evenodd\" fill-opacity=\"1\" /><path clip-path=\"url(#clip570)\" d=\"M85.0429 327.611 L101.362 327.611 L101.362 331.546 L79.4179 331.546 L79.4179 327.611 Q82.0799 324.856 86.6632 320.227 Q91.2697 315.574 92.4502 314.231 Q94.6956 311.708 95.5752 309.972 Q96.478 308.213 96.478 306.523 Q96.478 303.769 94.5336 302.032 Q92.6123 300.296 89.5104 300.296 Q87.3114 300.296 84.8577 301.06 Q82.4271 301.824 79.6494 303.375 L79.6494 298.653 Q82.4734 297.519 84.9271 296.94 Q87.3808 296.361 89.4178 296.361 Q94.7882 296.361 97.9826 299.046 Q101.177 301.732 101.177 306.222 Q101.177 308.352 100.367 310.273 Q99.5798 312.171 97.4734 314.764 Q96.8947 315.435 93.7928 318.653 Q90.691 321.847 85.0429 327.611 Z\" fill=\"#000000\" fill-rule=\"evenodd\" fill-opacity=\"1\" /><path clip-path=\"url(#clip570)\" d=\"M121.177 300.065 Q117.566 300.065 115.737 303.63 Q113.932 307.171 113.932 314.301 Q113.932 321.407 115.737 324.972 Q117.566 328.514 121.177 328.514 Q124.811 328.514 126.617 324.972 Q128.445 321.407 128.445 314.301 Q128.445 307.171 126.617 303.63 Q124.811 300.065 121.177 300.065 M121.177 296.361 Q126.987 296.361 130.043 300.968 Q133.121 305.551 133.121 314.301 Q133.121 323.028 130.043 327.634 Q126.987 332.217 121.177 332.217 Q115.367 332.217 112.288 327.634 Q109.233 323.028 109.233 314.301 Q109.233 305.551 112.288 300.968 Q115.367 296.361 121.177 296.361 Z\" fill=\"#000000\" fill-rule=\"evenodd\" fill-opacity=\"1\" /><polyline clip-path=\"url(#clip572)\" style=\"stroke:#009af9; stroke-linecap:butt; stroke-linejoin:round; stroke-width:4; stroke-opacity:1; fill:none\" points=\"\n",
       "  230.922,1445.72 402.592,1436.29 574.261,1436.29 745.93,1426.86 917.6,1417.43 1089.27,1398.57 1260.94,1370.29 1432.61,1323.14 1604.28,1247.71 1775.95,1125.14 \n",
       "  1947.62,927.135 2119.29,606.557 2290.95,87.9763 \n",
       "  \"/>\n",
       "<path clip-path=\"url(#clip570)\" d=\"\n",
       "M1984.91 198.898 L2279.97 198.898 L2279.97 95.2176 L1984.91 95.2176  Z\n",
       "  \" fill=\"#ffffff\" fill-rule=\"evenodd\" fill-opacity=\"1\"/>\n",
       "<polyline clip-path=\"url(#clip570)\" style=\"stroke:#000000; stroke-linecap:butt; stroke-linejoin:round; stroke-width:4; stroke-opacity:1; fill:none\" points=\"\n",
       "  1984.91,198.898 2279.97,198.898 2279.97,95.2176 1984.91,95.2176 1984.91,198.898 \n",
       "  \"/>\n",
       "<polyline clip-path=\"url(#clip570)\" style=\"stroke:#009af9; stroke-linecap:butt; stroke-linejoin:round; stroke-width:4; stroke-opacity:1; fill:none\" points=\"\n",
       "  2009.17,147.058 2154.75,147.058 \n",
       "  \"/>\n",
       "<path clip-path=\"url(#clip570)\" d=\"M2192.86 166.745 Q2191.05 171.375 2189.34 172.787 Q2187.62 174.199 2184.75 174.199 L2181.35 174.199 L2181.35 170.634 L2183.85 170.634 Q2185.61 170.634 2186.58 169.8 Q2187.55 168.967 2188.73 165.865 L2189.5 163.921 L2179.01 138.412 L2183.53 138.412 L2191.63 158.689 L2199.73 138.412 L2204.24 138.412 L2192.86 166.745 Z\" fill=\"#000000\" fill-rule=\"evenodd\" fill-opacity=\"1\" /><path clip-path=\"url(#clip570)\" d=\"M2211.54 160.402 L2219.17 160.402 L2219.17 134.037 L2210.86 135.703 L2210.86 131.444 L2219.13 129.778 L2223.8 129.778 L2223.8 160.402 L2231.44 160.402 L2231.44 164.338 L2211.54 164.338 L2211.54 160.402 Z\" fill=\"#000000\" fill-rule=\"evenodd\" fill-opacity=\"1\" /></svg>\n"
      ]
     },
     "execution_count": 24,
     "metadata": {},
     "output_type": "execute_result"
    }
   ],
   "source": [
    "plot(fibonacci3(100))"
   ]
  },
  {
   "cell_type": "code",
   "execution_count": null,
   "metadata": {},
   "outputs": [],
   "source": []
  }
 ],
 "metadata": {
  "kernelspec": {
   "display_name": "Julia 1.6.2",
   "language": "julia",
   "name": "julia-1.6"
  },
  "language_info": {
   "file_extension": ".jl",
   "mimetype": "application/julia",
   "name": "julia",
   "version": "1.6.2"
  }
 },
 "nbformat": 4,
 "nbformat_minor": 4
}
