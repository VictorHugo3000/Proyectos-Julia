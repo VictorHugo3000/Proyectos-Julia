{
 "cells": [
  {
   "cell_type": "code",
   "execution_count": 1,
   "metadata": {},
   "outputs": [
    {
     "name": "stdout",
     "output_type": "stream",
     "text": [
      "Hola\n"
     ]
    },
    {
     "data": {
      "text/plain": [
       "4"
      ]
     },
     "execution_count": 1,
     "metadata": {},
     "output_type": "execute_result"
    }
   ],
   "source": [
    "include(\"untitled.jl\")"
   ]
  },
  {
   "cell_type": "code",
   "execution_count": 2,
   "metadata": {},
   "outputs": [
    {
     "name": "stdout",
     "output_type": "stream",
     "text": [
      "funciones: bisección   fibonacci   fibonacciMax\n",
      "Ejecuta MisFunciones() para resumen\n"
     ]
    }
   ],
   "source": [
    "include(\"MisFunciones.jl\")"
   ]
  },
  {
   "cell_type": "code",
   "execution_count": 3,
   "metadata": {},
   "outputs": [
    {
     "name": "stdout",
     "output_type": "stream",
     "text": [
      "bisección\t\tAlgoritmo de bisección para encontrar raíces\n",
      "fibonacci\t\tGenerar cierto número de términos de Fibonacci\n",
      "fiboncciMax\t\tGenerar términos de Fibonacci que no excedan un valor\n",
      "\n",
      "Más detalle: Ejecuta ?nombre donde `nombre` es cualquiera de las funciones\n"
     ]
    }
   ],
   "source": [
    "MisFunciones()"
   ]
  },
  {
   "cell_type": "code",
   "execution_count": 5,
   "metadata": {},
   "outputs": [
    {
     "name": "stdout",
     "output_type": "stream",
     "text": [
      "\"\u001b[36mbisección\u001b[39m\" can be typed by \u001b[36mbiseccio\\acute<tab>n\u001b[39m\n",
      "\n",
      "search: \u001b[0m\u001b[1mb\u001b[22m\u001b[0m\u001b[1mi\u001b[22m\u001b[0m\u001b[1ms\u001b[22m\u001b[0m\u001b[1me\u001b[22m\u001b[0m\u001b[1mc\u001b[22m\u001b[0m\u001b[1mc\u001b[22m\u001b[0m\u001b[1mi\u001b[22m\u001b[0m\u001b[1mó\u001b[22m\u001b[0m\u001b[1mn\u001b[22m\n",
      "\n"
     ]
    },
    {
     "data": {
      "text/latex": [
       "\\begin{verbatim}\n",
       "bisección(f, a, b; δ = abs((a + b)/2) / 1_000_000, m = 10_000)\n",
       "\\end{verbatim}\n",
       "Aplica el \\emph{algoritmo de bisección} para encontrar la raíz de una función real y continua \\texttt{f} de variable real en un intervalo cerrado \\texttt{[a,b]} bajo el supuesto de que la raíz es única en dicho itervalo y que f(a)f(b) < 0. Opcionalmente se puede especificar un nivel de tolerancia \\texttt{δ} y/o un número máximo \\texttt{m} de iteraciones, si no se especifican entonces se utilizan los valores por defecto que se muestran. El resultado es una \\textbf{tupla} etiquetada con los valores de la raíz encontrada, el valor de la función en dicha raíz, el número de iteraciones realizadas, el número máximo de iteraciones, y la tolerancia utilizada. En caso de que el algoritmo entregue un resultado, no porque se cumplió el \\emph{criterio de paro} sino porque se alcanzó el número máximo de iteraciones, se mostrará un mensaje de advertencia al respecto.\n",
       "\n",
       "\\subsection{Ejemplo 1}\n",
       "\\begin{verbatim}\n",
       "f(x) = (x - 3) * (x - 1) * (x + 1)\n",
       "bisección(f, -1.9, 0.0)\n",
       "\\end{verbatim}\n",
       "\\subsection{Ejemplo 2}\n",
       "\\begin{verbatim}\n",
       "f(x) = (x - 3) * (x - 1) * (x + 1)\n",
       "bisección(f, -1.9, 0.0, m = 9)\n",
       "\\end{verbatim}\n"
      ],
      "text/markdown": [
       "```\n",
       "bisección(f, a, b; δ = abs((a + b)/2) / 1_000_000, m = 10_000)\n",
       "```\n",
       "\n",
       "Aplica el *algoritmo de bisección* para encontrar la raíz de una función real y continua `f` de variable real en un intervalo cerrado `[a,b]` bajo el supuesto de que la raíz es única en dicho itervalo y que f(a)f(b) < 0. Opcionalmente se puede especificar un nivel de tolerancia `δ` y/o un número máximo `m` de iteraciones, si no se especifican entonces se utilizan los valores por defecto que se muestran. El resultado es una **tupla** etiquetada con los valores de la raíz encontrada, el valor de la función en dicha raíz, el número de iteraciones realizadas, el número máximo de iteraciones, y la tolerancia utilizada. En caso de que el algoritmo entregue un resultado, no porque se cumplió el *criterio de paro* sino porque se alcanzó el número máximo de iteraciones, se mostrará un mensaje de advertencia al respecto.\n",
       "\n",
       "## Ejemplo 1\n",
       "\n",
       "```\n",
       "f(x) = (x - 3) * (x - 1) * (x + 1)\n",
       "bisección(f, -1.9, 0.0)\n",
       "```\n",
       "\n",
       "## Ejemplo 2\n",
       "\n",
       "```\n",
       "f(x) = (x - 3) * (x - 1) * (x + 1)\n",
       "bisección(f, -1.9, 0.0, m = 9)\n",
       "```\n"
      ],
      "text/plain": [
       "\u001b[36m  bisección(f, a, b; δ = abs((a + b)/2) / 1_000_000, m = 10_000)\u001b[39m\n",
       "\n",
       "  Aplica el \u001b[4malgoritmo de bisección\u001b[24m para encontrar la raíz de una función real\n",
       "  y continua \u001b[36mf\u001b[39m de variable real en un intervalo cerrado \u001b[36m[a,b]\u001b[39m bajo el supuesto\n",
       "  de que la raíz es única en dicho itervalo y que f(a)f(b) < 0. Opcionalmente\n",
       "  se puede especificar un nivel de tolerancia \u001b[36mδ\u001b[39m y/o un número máximo \u001b[36mm\u001b[39m de\n",
       "  iteraciones, si no se especifican entonces se utilizan los valores por\n",
       "  defecto que se muestran. El resultado es una \u001b[1mtupla\u001b[22m etiquetada con los\n",
       "  valores de la raíz encontrada, el valor de la función en dicha raíz, el\n",
       "  número de iteraciones realizadas, el número máximo de iteraciones, y la\n",
       "  tolerancia utilizada. En caso de que el algoritmo entregue un resultado, no\n",
       "  porque se cumplió el \u001b[4mcriterio de paro\u001b[24m sino porque se alcanzó el número\n",
       "  máximo de iteraciones, se mostrará un mensaje de advertencia al respecto.\n",
       "\n",
       "\u001b[1m  Ejemplo 1\u001b[22m\n",
       "\u001b[1m  ===========\u001b[22m\n",
       "\n",
       "\u001b[36m  f(x) = (x - 3) * (x - 1) * (x + 1)\u001b[39m\n",
       "\u001b[36m  bisección(f, -1.9, 0.0)\u001b[39m\n",
       "\n",
       "\u001b[1m  Ejemplo 2\u001b[22m\n",
       "\u001b[1m  ===========\u001b[22m\n",
       "\n",
       "\u001b[36m  f(x) = (x - 3) * (x - 1) * (x + 1)\u001b[39m\n",
       "\u001b[36m  bisección(f, -1.9, 0.0, m = 9)\u001b[39m"
      ]
     },
     "execution_count": 5,
     "metadata": {},
     "output_type": "execute_result"
    }
   ],
   "source": [
    "?bisección"
   ]
  },
  {
   "cell_type": "code",
   "execution_count": 6,
   "metadata": {},
   "outputs": [
    {
     "data": {
      "text/plain": [
       "\"C:\\\\Users\\\\krypt\\\\Julia proyects\""
      ]
     },
     "execution_count": 6,
     "metadata": {},
     "output_type": "execute_result"
    }
   ],
   "source": [
    "pwd()"
   ]
  },
  {
   "cell_type": "code",
   "execution_count": null,
   "metadata": {},
   "outputs": [],
   "source": []
  }
 ],
 "metadata": {
  "kernelspec": {
   "display_name": "Julia 1.6.2",
   "language": "julia",
   "name": "julia-1.6"
  },
  "language_info": {
   "file_extension": ".jl",
   "mimetype": "application/julia",
   "name": "julia",
   "version": "1.6.2"
  }
 },
 "nbformat": 4,
 "nbformat_minor": 2
}
