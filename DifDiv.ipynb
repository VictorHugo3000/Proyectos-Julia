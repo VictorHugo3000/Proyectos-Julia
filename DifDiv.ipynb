{
 "cells": [
  {
   "cell_type": "markdown",
   "metadata": {},
   "source": [
    "# Diferencias Divididas\n",
    "> Por Christian Rubio"
   ]
  },
  {
   "cell_type": "markdown",
   "metadata": {},
   "source": [
    "## 1 Definiciones"
   ]
  },
  {
   "cell_type": "markdown",
   "metadata": {},
   "source": [
    "El polinómio de Lagrange $P_n(x)$ es un polinomio que interpola a $n+1$ puntos dados en el plano, que tiene la característica que es el polinomio de grado mínimo, es decir, de grado $n$.\n",
    "\n",
    "Habitualmente los puntos se denotan con las coordenadas $(x_i,y_i)$ por lo que el algoritmo recibe de entrada los valores $x_1,x_2,\\dots , x_{n+1}, y_1,y_2,\\dots y_{n+1}$ como las tuplas $x = (x_1, x_2, \\dots , x_{n+1)}$ y $y = (y_1, y_2,\\dots ,y_{n+1})$.\n",
    "\n",
    "El polinomio de Lagrange se puede obtener de forma constructiva, sin embargo la manera más eficiente de obtenerlo es a través del método conocido como Diferencias Divididas, esto es $P_n(x)=a_1+a_2(x-x_1)+a_3(x-x_1)(x-x_2)+\\dots + a_{n+1}(x-x_1)(x-x_2)\\ldots (x-x_n).$\n",
    "\n",
    "Entonces, este algoritmo te dará como salida los coeficientes $a_1,a_2,\\dots , a_{n+1}$."
   ]
  },
  {
   "cell_type": "markdown",
   "metadata": {},
   "source": [
    "## 2 Implementación"
   ]
  },
  {
   "cell_type": "markdown",
   "metadata": {},
   "source": [
    "### Entrada"
   ]
  },
  {
   "cell_type": "code",
   "execution_count": 1,
   "metadata": {},
   "outputs": [],
   "source": [
    "x = (1, 1.3, 1.6, 1.9, 2.2);"
   ]
  },
  {
   "cell_type": "code",
   "execution_count": 2,
   "metadata": {},
   "outputs": [],
   "source": [
    "y = (0.7651977, 0.6200860, 0.4554022, 0.2818186, 0.1103623);"
   ]
  },
  {
   "cell_type": "markdown",
   "metadata": {},
   "source": [
    "### Algoritmo"
   ]
  },
  {
   "cell_type": "code",
   "execution_count": 3,
   "metadata": {},
   "outputs": [
    {
     "data": {
      "text/plain": [
       "4"
      ]
     },
     "execution_count": 3,
     "metadata": {},
     "output_type": "execute_result"
    }
   ],
   "source": [
    "n=length(x)-1"
   ]
  },
  {
   "cell_type": "code",
   "execution_count": 4,
   "metadata": {},
   "outputs": [],
   "source": [
    "F = zeros(Float64, n+1, n+1); # Definí esta matriz de improviso pero ya veremos cómo hacerlo sin ella"
   ]
  },
  {
   "cell_type": "code",
   "execution_count": 5,
   "metadata": {},
   "outputs": [],
   "source": [
    "for i in 1:n+1\n",
    "    F[i, 1] = y[i]\n",
    "end"
   ]
  },
  {
   "cell_type": "code",
   "execution_count": 10,
   "metadata": {},
   "outputs": [],
   "source": [
    "for i in 2:n+1\n",
    "    for j in 2:i\n",
    "        F[i,j] = (F[i,j-1]-F[i-1,j-1])/(x[i]-x[i-j+1])\n",
    "    end\n",
    "end"
   ]
  },
  {
   "cell_type": "code",
   "execution_count": 12,
   "metadata": {},
   "outputs": [],
   "source": [
    "for i ∈ 2:n+1, j ∈ 2:i\n",
    "    F[i,j] = (F[i,j-1]-F[i-1,j-1])/(x[i]-x[i-j+1])\n",
    "end"
   ]
  },
  {
   "cell_type": "markdown",
   "metadata": {},
   "source": [
    "### Salida"
   ]
  },
  {
   "cell_type": "code",
   "execution_count": 14,
   "metadata": {},
   "outputs": [
    {
     "name": "stdout",
     "output_type": "stream",
     "text": [
      "0.7651977\n",
      "-0.4837056666666664\n",
      "-0.10873388888888935\n",
      "0.06587839506172834\n",
      "0.0018251028806604353\n"
     ]
    }
   ],
   "source": [
    "for i in 1:n+1\n",
    "    println(F[i,i])\n",
    "end"
   ]
  },
  {
   "cell_type": "markdown",
   "metadata": {},
   "source": [
    "## Bibliografía\n",
    "\n",
    "Burden, Richard L.; Faires, J. Douglas; Reynolds, Albert C. Numerical analysis. Prindle, Weber & Schmidt, Boston, Mass., 1978. ix+579 pp."
   ]
  },
  {
   "cell_type": "code",
   "execution_count": null,
   "metadata": {},
   "outputs": [],
   "source": []
  }
 ],
 "metadata": {
  "kernelspec": {
   "display_name": "Julia 1.6.2",
   "language": "julia",
   "name": "julia-1.6"
  },
  "language_info": {
   "file_extension": ".jl",
   "mimetype": "application/julia",
   "name": "julia",
   "version": "1.6.2"
  }
 },
 "nbformat": 4,
 "nbformat_minor": 4
}
